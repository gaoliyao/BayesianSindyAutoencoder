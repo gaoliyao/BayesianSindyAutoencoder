{
 "cells": [
  {
   "cell_type": "code",
   "execution_count": 1,
   "metadata": {},
   "outputs": [
    {
     "name": "stderr",
     "output_type": "stream",
     "text": [
      "/home/marsgao/.conda/envs/mars/lib/python3.6/site-packages/tensorflow/python/framework/dtypes.py:523: FutureWarning: Passing (type, 1) or '1type' as a synonym of type is deprecated; in a future version of numpy, it will be understood as (type, (1,)) / '(1,)type'.\n",
      "  _np_qint8 = np.dtype([(\"qint8\", np.int8, 1)])\n",
      "/home/marsgao/.conda/envs/mars/lib/python3.6/site-packages/tensorflow/python/framework/dtypes.py:524: FutureWarning: Passing (type, 1) or '1type' as a synonym of type is deprecated; in a future version of numpy, it will be understood as (type, (1,)) / '(1,)type'.\n",
      "  _np_quint8 = np.dtype([(\"quint8\", np.uint8, 1)])\n",
      "/home/marsgao/.conda/envs/mars/lib/python3.6/site-packages/tensorflow/python/framework/dtypes.py:525: FutureWarning: Passing (type, 1) or '1type' as a synonym of type is deprecated; in a future version of numpy, it will be understood as (type, (1,)) / '(1,)type'.\n",
      "  _np_qint16 = np.dtype([(\"qint16\", np.int16, 1)])\n",
      "/home/marsgao/.conda/envs/mars/lib/python3.6/site-packages/tensorflow/python/framework/dtypes.py:526: FutureWarning: Passing (type, 1) or '1type' as a synonym of type is deprecated; in a future version of numpy, it will be understood as (type, (1,)) / '(1,)type'.\n",
      "  _np_quint16 = np.dtype([(\"quint16\", np.uint16, 1)])\n",
      "/home/marsgao/.conda/envs/mars/lib/python3.6/site-packages/tensorflow/python/framework/dtypes.py:527: FutureWarning: Passing (type, 1) or '1type' as a synonym of type is deprecated; in a future version of numpy, it will be understood as (type, (1,)) / '(1,)type'.\n",
      "  _np_qint32 = np.dtype([(\"qint32\", np.int32, 1)])\n",
      "/home/marsgao/.conda/envs/mars/lib/python3.6/site-packages/tensorflow/python/framework/dtypes.py:532: FutureWarning: Passing (type, 1) or '1type' as a synonym of type is deprecated; in a future version of numpy, it will be understood as (type, (1,)) / '(1,)type'.\n",
      "  np_resource = np.dtype([(\"resource\", np.ubyte, 1)])\n"
     ]
    }
   ],
   "source": [
    "import sys\n",
    "sys.path.append(\"../../src\")\n",
    "import os\n",
    "os.environ[\"CUDA_VISIBLE_DEVICES\"] = \"-1\"\n",
    "import numpy as np\n",
    "import pickle\n",
    "from example_pendulum import get_pendulum_data, pendulum_to_movie\n",
    "from scipy.integrate import odeint\n",
    "from autoencoder_pendulum import full_network\n",
    "from training_pendulum import create_feed_dictionary\n",
    "from sindy_utils import sindy_simulate_order2\n",
    "import tensorflow as tf\n",
    "import matplotlib.pyplot as plt\n",
    "from mpl_toolkits.mplot3d import Axes3D\n",
    "%matplotlib inline"
   ]
  },
  {
   "cell_type": "code",
   "execution_count": 2,
   "metadata": {},
   "outputs": [],
   "source": [
    "data_path = os.getcwd() + '/'\n",
    "save_name = 'model7'\n",
    "params = pickle.load(open(data_path + save_name + '_params.pkl', 'rb'))\n",
    "params['save_name'] = data_path + save_name\n",
    "\n",
    "autoencoder_network = full_network(params)\n",
    "learning_rate = tf.placeholder(tf.float32, name='learning_rate')\n",
    "saver = tf.train.Saver(var_list=tf.get_collection(tf.GraphKeys.GLOBAL_VARIABLES))\n",
    "\n",
    "tensorflow_run_tuple = ()\n",
    "for key in autoencoder_network.keys():\n",
    "    tensorflow_run_tuple += (autoencoder_network[key],)"
   ]
  },
  {
   "cell_type": "markdown",
   "metadata": {},
   "source": [
    "## Single trajectory plots"
   ]
  },
  {
   "cell_type": "code",
   "execution_count": 36,
   "metadata": {},
   "outputs": [
    {
     "data": {
      "text/plain": [
       "array([[-1.63069446e-04],\n",
       "       [ 1.12575116e-02],\n",
       "       [-1.38369109e-03],\n",
       "       [ 2.99760699e-03],\n",
       "       [ 9.57082212e-03],\n",
       "       [ 1.44974131e-03],\n",
       "       [-6.96545234e-03],\n",
       "       [ 2.16691126e-03],\n",
       "       [ 6.55209692e-03],\n",
       "       [-6.45362306e-03],\n",
       "       [-1.06668115e+00],\n",
       "       [-4.69243107e-03]])"
      ]
     },
     "execution_count": 36,
     "metadata": {},
     "output_type": "execute_result"
    }
   ],
   "source": [
    "arr = np.load(\"save_9.npy\")\n",
    "arr_truncate = arr[1:-9]\n",
    "arr_truncate[-1]"
   ]
  },
  {
   "cell_type": "code",
   "execution_count": 44,
   "metadata": {},
   "outputs": [],
   "source": [
    "arr_mean = np.mean(arr_truncate, axis=0)\n",
    "arr_std = np.std(arr_truncate, axis=0)"
   ]
  },
  {
   "cell_type": "code",
   "execution_count": 45,
   "metadata": {},
   "outputs": [
    {
     "data": {
      "text/plain": [
       "array([[-3.26587907e-04],\n",
       "       [-2.77077217e-03],\n",
       "       [ 1.22364424e-03],\n",
       "       [ 2.78265607e-04],\n",
       "       [ 1.40925551e-04],\n",
       "       [ 9.11282196e-04],\n",
       "       [-1.54831972e-03],\n",
       "       [ 1.20349601e-03],\n",
       "       [-1.04636840e-03],\n",
       "       [ 1.11051817e-03],\n",
       "       [-1.06823647e+00],\n",
       "       [-5.28458478e-05]])"
      ]
     },
     "execution_count": 45,
     "metadata": {},
     "output_type": "execute_result"
    }
   ],
   "source": [
    "arr_mean"
   ]
  },
  {
   "cell_type": "code",
   "execution_count": 46,
   "metadata": {},
   "outputs": [
    {
     "data": {
      "text/plain": [
       "array([[ 0.00978006],\n",
       "       [ 0.02141654],\n",
       "       [ 0.0140759 ],\n",
       "       [ 0.01490422],\n",
       "       [ 0.01572091],\n",
       "       [ 0.01582892],\n",
       "       [ 0.01258736],\n",
       "       [ 0.01211584],\n",
       "       [ 0.00959457],\n",
       "       [ 0.01890854],\n",
       "       [-1.06440351],\n",
       "       [ 0.00918543]])"
      ]
     },
     "execution_count": 46,
     "metadata": {},
     "output_type": "execute_result"
    }
   ],
   "source": [
    "arr_mean + 2*arr_std"
   ]
  },
  {
   "cell_type": "code",
   "execution_count": 47,
   "metadata": {},
   "outputs": [
    {
     "data": {
      "text/plain": [
       "array([[-0.01043323],\n",
       "       [-0.02695808],\n",
       "       [-0.01162861],\n",
       "       [-0.01434768],\n",
       "       [-0.01543906],\n",
       "       [-0.01400635],\n",
       "       [-0.015684  ],\n",
       "       [-0.00970885],\n",
       "       [-0.01168731],\n",
       "       [-0.01668751],\n",
       "       [-1.07206944],\n",
       "       [-0.00929112]])"
      ]
     },
     "execution_count": 47,
     "metadata": {},
     "output_type": "execute_result"
    }
   ],
   "source": [
    "arr_mean - 2*arr_std"
   ]
  },
  {
   "cell_type": "code",
   "execution_count": 50,
   "metadata": {},
   "outputs": [
    {
     "data": {
      "text/plain": [
       "array([[-0.05529114],\n",
       "       [ 0.0287457 ],\n",
       "       [-0.05522526],\n",
       "       [-0.14406181],\n",
       "       [ 0.08301357],\n",
       "       [ 0.05710671],\n",
       "       [-0.11501673],\n",
       "       [ 0.03820378],\n",
       "       [-0.05932415],\n",
       "       [-0.04977829],\n",
       "       [-1.04931027],\n",
       "       [ 0.05550387]])"
      ]
     },
     "execution_count": 50,
     "metadata": {},
     "output_type": "execute_result"
    }
   ],
   "source": [
    "arr = np.load(\"save_refinement_7.npy\")\n",
    "arr_truncate = arr[1:-9]\n",
    "arr_mean = np.mean(arr_truncate, axis=0)\n",
    "arr_std = np.std(arr_truncate, axis=0)\n",
    "arr_mean"
   ]
  },
  {
   "cell_type": "code",
   "execution_count": 51,
   "metadata": {},
   "outputs": [
    {
     "data": {
      "text/plain": [
       "array([[-0.051634  ],\n",
       "       [ 0.03190202],\n",
       "       [-0.0490993 ],\n",
       "       [-0.13757962],\n",
       "       [ 0.09198408],\n",
       "       [ 0.06120402],\n",
       "       [-0.11195002],\n",
       "       [ 0.04395649],\n",
       "       [-0.05189443],\n",
       "       [-0.04086517],\n",
       "       [-1.04760413],\n",
       "       [ 0.06065525]])"
      ]
     },
     "execution_count": 51,
     "metadata": {},
     "output_type": "execute_result"
    }
   ],
   "source": [
    "arr_mean + 2*arr_std"
   ]
  },
  {
   "cell_type": "code",
   "execution_count": 52,
   "metadata": {},
   "outputs": [
    {
     "data": {
      "text/plain": [
       "array([[-0.05894828],\n",
       "       [ 0.02558939],\n",
       "       [-0.06135121],\n",
       "       [-0.15054401],\n",
       "       [ 0.07404306],\n",
       "       [ 0.0530094 ],\n",
       "       [-0.11808343],\n",
       "       [ 0.03245107],\n",
       "       [-0.06675387],\n",
       "       [-0.05869142],\n",
       "       [-1.05101642],\n",
       "       [ 0.05035249]])"
      ]
     },
     "execution_count": 52,
     "metadata": {},
     "output_type": "execute_result"
    }
   ],
   "source": [
    "arr_mean - 2*arr_std"
   ]
  },
  {
   "cell_type": "code",
   "execution_count": 108,
   "metadata": {},
   "outputs": [
    {
     "name": "stdout",
     "output_type": "stream",
     "text": [
      "-0.05529114104807377 0.0018285704701230998\n",
      "0.028745704982429742 0.0015781577504470885\n",
      "-0.05522525604814291 0.0030629788795390363\n",
      "-0.14406181260943413 0.0032410974575796422\n",
      "0.08301357001066208 0.004485255714389023\n",
      "0.05710670944303274 0.002048653515668876\n",
      "-0.11501672670245171 0.0015333516211223895\n",
      "0.03820378005504608 0.002876356975221751\n",
      "-0.05932414650917053 0.0037148594362985832\n",
      "-0.0497782938927412 0.004456561520055247\n",
      "-1.0493102741241456 0.0008530731074999629\n",
      "0.05550387091934681 0.0025756905082294427\n"
     ]
    },
    {
     "data": {
      "image/png": "[encoded data removed]",
      "text/plain": [
       "<Figure size 576x576 with 1 Axes>"
      ]
     },
     "metadata": {
      "needs_background": "light"
     },
     "output_type": "display_data"
    }
   ],
   "source": [
    "import numpy as np\n",
    "import matplotlib as mpl\n",
    "import matplotlib.pyplot as plt\n",
    "\n",
    "library_names = [r\"$1$\", r\"$z$\", r\"$\\dot{z}$\", r\"$z^2$\", r\"$z\\dot{z}$\", r\"$\\dot{z}^2$\",\n",
    "                r\"$z^3$\",r\"$z^2\\dot{z}$\",r\"$z\\dot{z}^2$\",r\"$\\dot{z}^3$\",r\"$\\sin(z)$\",r\"$\\sin(\\dot{z})$\",]\n",
    "\n",
    "def curve(arr):\n",
    "    n = 1\n",
    "    center = np.mean(arr)\n",
    "    scale = np.std(arr)\n",
    "    print(center, scale)\n",
    "    scale *= 500\n",
    "    X = np.zeros(500)\n",
    "    x = np.linspace(-3, 3, len(X))\n",
    "    X = 1.0/(scale*np.sqrt(2*np.pi)) * np.exp(-0.5 * ((x - center) / scale)**2)\n",
    "    return X\n",
    "\n",
    "cmap = mpl.cm.get_cmap(\"Spectral\")\n",
    "fig = plt.figure(figsize=(8, 8))\n",
    "arr_truncate = arr_truncate.reshape((100, 12))\n",
    "\n",
    "ax = None\n",
    "for n in range(1):\n",
    "    ax = plt.subplot(1, 2, n + 1, frameon=False, sharex=ax)\n",
    "    for i in range(len(arr_mean)):\n",
    "        Y = curve(arr_truncate[:,i])\n",
    "#         hist, bin_edges = np.histogram(arr_truncate[:,i], density=True)\n",
    "#         Y = hist/len(arr_truncate[:,i])\n",
    "        X = np.linspace(-3, 3, len(Y))\n",
    "        ax.plot(X, 3 * Y + i, color=\"k\", linewidth=0.75, zorder=100 - i)\n",
    "        color = cmap(i / len(arr_mean))\n",
    "        ax.fill_between(X, 3 * Y + i, i, color=color, zorder=100 - i)\n",
    "\n",
    "        # Some random text on the right of the curve\n",
    "        v = np.random.uniform(0, 1)\n",
    "        if v < 0.4:\n",
    "            text = \"*\"\n",
    "            if v < 0.05:\n",
    "                text = \"***\"\n",
    "            elif v < 0.2:\n",
    "                text = \"**\"\n",
    "            ax.text(\n",
    "                3.0,\n",
    "                i,\n",
    "                text,\n",
    "                ha=\"right\",\n",
    "                va=\"baseline\",\n",
    "                size=8,\n",
    "                transform=ax.transData,\n",
    "                zorder=300,\n",
    "            )\n",
    "\n",
    "    ax.yaxis.set_tick_params(tick1On=False)\n",
    "    ax.set_xlim(-3, 3)\n",
    "    ax.set_ylim(3, 13)\n",
    "    ax.axvline(0.0, ls=\"--\", lw=0.75, color=\"black\", zorder=250)\n",
    "    ax.text(\n",
    "        0.0,\n",
    "        1.0,\n",
    "        r\"$z$\",\n",
    "        ha=\"left\",\n",
    "        va=\"top\",\n",
    "        weight=\"bold\",\n",
    "        transform=ax.transAxes,\n",
    "    )\n",
    "\n",
    "    if n == 0:\n",
    "        ax.yaxis.set_tick_params(labelleft=True)\n",
    "        ax.set_yticks(np.arange(len(arr_mean)))\n",
    "#         ax.set_yticklabels([\"Serie %d\" % i for i in range(1, len(arr_mean)+1)])\n",
    "        ax.set_yticklabels(library_names)\n",
    "        for tick in ax.yaxis.get_major_ticks():\n",
    "            tick.label.set_fontsize(16)\n",
    "            tick.label.set_verticalalignment(\"bottom\")\n",
    "    else:\n",
    "        ax.yaxis.set_tick_params(labelleft=False)\n",
    "\n",
    "\n",
    "plt.tight_layout()\n",
    "plt.show()"
   ]
  },
  {
   "cell_type": "code",
   "execution_count": 105,
   "metadata": {},
   "outputs": [
    {
     "data": {
      "text/plain": [
       "['$\\\\dot{x}$',\n",
       " '$\\\\dot{x}$',\n",
       " '$\\\\dot{x}$',\n",
       " '$\\\\dot{x}$',\n",
       " '$\\\\dot{x}$',\n",
       " '$\\\\dot{x}$',\n",
       " '$\\\\dot{x}$',\n",
       " '$\\\\dot{x}$',\n",
       " '$\\\\dot{x}$',\n",
       " '$\\\\dot{x}$',\n",
       " '$\\\\dot{x}$',\n",
       " '$\\\\dot{x}$']"
      ]
     },
     "execution_count": 105,
     "metadata": {},
     "output_type": "execute_result"
    }
   ],
   "source": []
  },
  {
   "cell_type": "code",
   "execution_count": null,
   "metadata": {},
   "outputs": [],
   "source": []
  },
  {
   "cell_type": "markdown",
   "metadata": {},
   "source": [
    "### "
   ]
  },
  {
   "cell_type": "code",
   "execution_count": 90,
   "metadata": {},
   "outputs": [],
   "source": [
    "hist, bin_edges = np.histogram(arr_truncate[:,1], bins='auto', density=True)"
   ]
  },
  {
   "cell_type": "code",
   "execution_count": 91,
   "metadata": {},
   "outputs": [
    {
     "data": {
      "text/plain": [
       "array([0.60972549, 0.97556078, 0.97556078, 1.58528626, 2.31695685,\n",
       "       1.82917646, 2.80473724, 1.09750587])"
      ]
     },
     "execution_count": 91,
     "metadata": {},
     "output_type": "execute_result"
    }
   ],
   "source": [
    "hist/len(arr_truncate[:,1])"
   ]
  },
  {
   "cell_type": "code",
   "execution_count": 92,
   "metadata": {},
   "outputs": [
    {
     "data": {
      "image/png": "[encoded data removed]",
      "text/plain": [
       "<Figure size 432x288 with 1 Axes>"
      ]
     },
     "metadata": {
      "needs_background": "light"
     },
     "output_type": "display_data"
    }
   ],
   "source": [
    "plt.hist(arr_truncate[:,1], bins='auto')\n",
    "plt.show()"
   ]
  },
  {
   "cell_type": "code",
   "execution_count": null,
   "metadata": {},
   "outputs": [],
   "source": []
  }
 ],
 "metadata": {
  "kernelspec": {
   "display_name": "mars",
   "language": "python",
   "name": "mars"
  },
  "language_info": {
   "codemirror_mode": {
    "name": "ipython",
    "version": 3
   },
   "file_extension": ".py",
   "mimetype": "text/x-python",
   "name": "python",
   "nbconvert_exporter": "python",
   "pygments_lexer": "ipython3",
   "version": "3.6.13"
  },
  "toc": {
   "base_numbering": 1,
   "nav_menu": {},
   "number_sections": true,
   "sideBar": true,
   "skip_h1_title": false,
   "title_cell": "Table of Contents",
   "title_sidebar": "Contents",
   "toc_cell": false,
   "toc_position": {},
   "toc_section_display": true,
   "toc_window_display": false
  },
  "varInspector": {
   "cols": {
    "lenName": 16,
    "lenType": 16,
    "lenVar": 40
   },
   "kernels_config": {
    "python": {
     "delete_cmd_postfix": "",
     "delete_cmd_prefix": "del ",
     "library": "var_list.py",
     "varRefreshCmd": "print(var_dic_list())"
    },
    "r": {
     "delete_cmd_postfix": ") ",
     "delete_cmd_prefix": "rm(",
     "library": "var_list.r",
     "varRefreshCmd": "cat(var_dic_list()) "
    }
   },
   "types_to_exclude": [
    "module",
    "function",
    "builtin_function_or_method",
    "instance",
    "_Feature"
   ],
   "window_display": false
  }
 },
 "nbformat": 4,
 "nbformat_minor": 2
}
