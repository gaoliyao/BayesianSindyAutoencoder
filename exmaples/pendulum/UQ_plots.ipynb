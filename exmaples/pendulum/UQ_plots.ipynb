{
 "cells": [
  {
   "cell_type": "code",
   "execution_count": 1,
   "metadata": {},
   "outputs": [
    {
     "name": "stderr",
     "output_type": "stream",
     "text": [
      "/home/marsgao/miniconda3/envs/mars/lib/python3.6/site-packages/tensorflow/python/framework/dtypes.py:523: FutureWarning: Passing (type, 1) or '1type' as a synonym of type is deprecated; in a future version of numpy, it will be understood as (type, (1,)) / '(1,)type'.\n",
      "  _np_qint8 = np.dtype([(\"qint8\", np.int8, 1)])\n",
      "/home/marsgao/miniconda3/envs/mars/lib/python3.6/site-packages/tensorflow/python/framework/dtypes.py:524: FutureWarning: Passing (type, 1) or '1type' as a synonym of type is deprecated; in a future version of numpy, it will be understood as (type, (1,)) / '(1,)type'.\n",
      "  _np_quint8 = np.dtype([(\"quint8\", np.uint8, 1)])\n",
      "/home/marsgao/miniconda3/envs/mars/lib/python3.6/site-packages/tensorflow/python/framework/dtypes.py:525: FutureWarning: Passing (type, 1) or '1type' as a synonym of type is deprecated; in a future version of numpy, it will be understood as (type, (1,)) / '(1,)type'.\n",
      "  _np_qint16 = np.dtype([(\"qint16\", np.int16, 1)])\n",
      "/home/marsgao/miniconda3/envs/mars/lib/python3.6/site-packages/tensorflow/python/framework/dtypes.py:526: FutureWarning: Passing (type, 1) or '1type' as a synonym of type is deprecated; in a future version of numpy, it will be understood as (type, (1,)) / '(1,)type'.\n",
      "  _np_quint16 = np.dtype([(\"quint16\", np.uint16, 1)])\n",
      "/home/marsgao/miniconda3/envs/mars/lib/python3.6/site-packages/tensorflow/python/framework/dtypes.py:527: FutureWarning: Passing (type, 1) or '1type' as a synonym of type is deprecated; in a future version of numpy, it will be understood as (type, (1,)) / '(1,)type'.\n",
      "  _np_qint32 = np.dtype([(\"qint32\", np.int32, 1)])\n",
      "/home/marsgao/miniconda3/envs/mars/lib/python3.6/site-packages/tensorflow/python/framework/dtypes.py:532: FutureWarning: Passing (type, 1) or '1type' as a synonym of type is deprecated; in a future version of numpy, it will be understood as (type, (1,)) / '(1,)type'.\n",
      "  np_resource = np.dtype([(\"resource\", np.ubyte, 1)])\n"
     ]
    }
   ],
   "source": [
    "import sys\n",
    "sys.path.append(\"../../src\")\n",
    "import os\n",
    "os.environ[\"CUDA_VISIBLE_DEVICES\"] = \"-1\"\n",
    "import numpy as np\n",
    "import pickle\n",
    "from example_pendulum import get_pendulum_data, pendulum_to_movie\n",
    "from scipy.integrate import odeint\n",
    "from autoencoder_pendulum import full_network\n",
    "from training_pendulum import create_feed_dictionary\n",
    "from sindy_utils import sindy_simulate_order2\n",
    "import tensorflow as tf\n",
    "import matplotlib.pyplot as plt\n",
    "from mpl_toolkits.mplot3d import Axes3D\n",
    "%matplotlib inline"
   ]
  },
  {
   "cell_type": "code",
   "execution_count": 2,
   "metadata": {},
   "outputs": [],
   "source": [
    "data_path = os.getcwd() + '/'\n",
    "save_name = 'model23'\n",
    "params = pickle.load(open(data_path + save_name + '_params.pkl', 'rb'))\n",
    "params['save_name'] = data_path + save_name\n",
    "\n",
    "autoencoder_network = full_network(params)\n",
    "learning_rate = tf.placeholder(tf.float32, name='learning_rate')\n",
    "saver = tf.train.Saver(var_list=tf.get_collection(tf.GraphKeys.GLOBAL_VARIABLES))\n",
    "\n",
    "tensorflow_run_tuple = ()\n",
    "for key in autoencoder_network.keys():\n",
    "    tensorflow_run_tuple += (autoencoder_network[key],)"
   ]
  },
  {
   "cell_type": "markdown",
   "metadata": {},
   "source": [
    "## Single trajectory plots"
   ]
  },
  {
   "cell_type": "code",
   "execution_count": 3,
   "metadata": {},
   "outputs": [
    {
     "data": {
      "text/plain": [
       "array([[-4.52820750e-05],\n",
       "       [-5.30696379e-05],\n",
       "       [-7.75296503e-05],\n",
       "       [-3.99873861e-05],\n",
       "       [-7.69666512e-05],\n",
       "       [ 1.67259714e-05],\n",
       "       [ 1.34957299e-05],\n",
       "       [ 1.16032606e-04],\n",
       "       [ 7.75294466e-05],\n",
       "       [ 7.75296503e-05],\n",
       "       [-9.75979209e-01],\n",
       "       [-4.52819877e-05]])"
      ]
     },
     "execution_count": 3,
     "metadata": {},
     "output_type": "execute_result"
    }
   ],
   "source": [
    "arr = np.load(\"save_26.npy\")\n",
    "arr_truncate = arr[1:-9]\n",
    "arr_truncate[-1]"
   ]
  },
  {
   "cell_type": "code",
   "execution_count": 4,
   "metadata": {},
   "outputs": [],
   "source": [
    "arr_mean = np.mean(arr_truncate, axis=0)\n",
    "arr_std = np.std(arr_truncate, axis=0)"
   ]
  },
  {
   "cell_type": "code",
   "execution_count": 5,
   "metadata": {},
   "outputs": [
    {
     "data": {
      "text/plain": [
       "array([[ 9.18136357e-08],\n",
       "       [-6.15331050e-06],\n",
       "       [-1.99949136e-08],\n",
       "       [-5.97453018e-06],\n",
       "       [ 4.76319852e-06],\n",
       "       [ 2.02505702e-06],\n",
       "       [ 2.03429745e-06],\n",
       "       [-1.01091136e-07],\n",
       "       [ 2.00409704e-08],\n",
       "       [ 1.99949136e-08],\n",
       "       [-9.73134312e-01],\n",
       "       [ 9.19009472e-08]])"
      ]
     },
     "execution_count": 5,
     "metadata": {},
     "output_type": "execute_result"
    }
   ],
   "source": [
    "arr_mean"
   ]
  },
  {
   "cell_type": "code",
   "execution_count": 6,
   "metadata": {},
   "outputs": [
    {
     "data": {
      "text/plain": [
       "array([[ 2.03320513e-04],\n",
       "       [ 1.16543720e-04],\n",
       "       [ 2.07652203e-04],\n",
       "       [ 1.16583931e-04],\n",
       "       [ 1.28303056e-04],\n",
       "       [ 1.79904495e-04],\n",
       "       [ 1.76734573e-04],\n",
       "       [ 2.07300999e-04],\n",
       "       [ 2.07692239e-04],\n",
       "       [ 2.07692192e-04],\n",
       "       [-9.70222208e-01],\n",
       "       [ 2.03320600e-04]])"
      ]
     },
     "execution_count": 6,
     "metadata": {},
     "output_type": "execute_result"
    }
   ],
   "source": [
    "arr_mean + 2*arr_std"
   ]
  },
  {
   "cell_type": "code",
   "execution_count": 7,
   "metadata": {},
   "outputs": [
    {
     "data": {
      "text/plain": [
       "array([[-2.03136885e-04],\n",
       "       [-1.28850341e-04],\n",
       "       [-2.07692192e-04],\n",
       "       [-1.28532992e-04],\n",
       "       [-1.18776659e-04],\n",
       "       [-1.75854381e-04],\n",
       "       [-1.72665978e-04],\n",
       "       [-2.07503182e-04],\n",
       "       [-2.07652157e-04],\n",
       "       [-2.07652203e-04],\n",
       "       [-9.76046416e-01],\n",
       "       [-2.03136798e-04]])"
      ]
     },
     "execution_count": 7,
     "metadata": {},
     "output_type": "execute_result"
    }
   ],
   "source": [
    "arr_mean - 2*arr_std"
   ]
  },
  {
   "cell_type": "code",
   "execution_count": 8,
   "metadata": {},
   "outputs": [
    {
     "data": {
      "text/plain": [
       "array([[ 0.01477618],\n",
       "       [-0.00351383],\n",
       "       [ 0.00454959],\n",
       "       [ 0.00711784],\n",
       "       [ 0.00530077],\n",
       "       [ 0.00893723],\n",
       "       [ 0.00125474],\n",
       "       [ 0.00425862],\n",
       "       [ 0.00557735],\n",
       "       [-0.00284468],\n",
       "       [-0.98879236],\n",
       "       [-0.00415351]])"
      ]
     },
     "execution_count": 8,
     "metadata": {},
     "output_type": "execute_result"
    }
   ],
   "source": [
    "arr = np.load(\"save_refinement_23.npy\")\n",
    "arr_truncate = arr[1:-9]\n",
    "arr_mean = np.mean(arr_truncate, axis=0)\n",
    "arr_std = np.std(arr_truncate, axis=0)\n",
    "arr_mean"
   ]
  },
  {
   "cell_type": "code",
   "execution_count": 9,
   "metadata": {},
   "outputs": [
    {
     "data": {
      "text/plain": [
       "array([[ 0.17732512],\n",
       "       [ 0.15463717],\n",
       "       [ 0.18836377],\n",
       "       [ 0.17075651],\n",
       "       [ 0.18236645],\n",
       "       [ 0.17778711],\n",
       "       [ 0.14959833],\n",
       "       [ 0.16498746],\n",
       "       [ 0.16557078],\n",
       "       [ 0.15302646],\n",
       "       [-0.82928811],\n",
       "       [ 0.16684101]])"
      ]
     },
     "execution_count": 9,
     "metadata": {},
     "output_type": "execute_result"
    }
   ],
   "source": [
    "arr_mean + 2*arr_std"
   ]
  },
  {
   "cell_type": "code",
   "execution_count": 10,
   "metadata": {},
   "outputs": [
    {
     "data": {
      "text/plain": [
       "array([[-0.14777275],\n",
       "       [-0.16166482],\n",
       "       [-0.17926459],\n",
       "       [-0.15652082],\n",
       "       [-0.17176491],\n",
       "       [-0.15991265],\n",
       "       [-0.14708885],\n",
       "       [-0.15647022],\n",
       "       [-0.15441608],\n",
       "       [-0.15871583],\n",
       "       [-1.14829661],\n",
       "       [-0.17514803]])"
      ]
     },
     "execution_count": 10,
     "metadata": {},
     "output_type": "execute_result"
    }
   ],
   "source": [
    "arr_mean - 2*arr_std"
   ]
  },
  {
   "cell_type": "code",
   "execution_count": 11,
   "metadata": {},
   "outputs": [
    {
     "name": "stdout",
     "output_type": "stream",
     "text": [
      "-0.004153510007308796 0.08549726015861688\n",
      "-0.9887923592329025 0.07975212580864512\n",
      "-0.002844682798604481 0.07793557245777834\n",
      "0.005577350667444989 0.0799967169770456\n",
      "0.004258618773892522 0.08036442188691505\n",
      "0.0012547398975584656 0.07417179294986624\n",
      "0.008937228976283223 0.08442494001445769\n",
      "0.005300770940957591 0.08853284030977478\n",
      "0.007117844017921015 0.08181933397003051\n",
      "0.00454958648653701 0.09190708957750239\n",
      "-0.0035138268384616823 0.07907549792964626\n",
      "0.014776182691566647 0.08127446770412634\n"
     ]
    },
    {
     "data": {
      "image/png": "[encoded data removed]",
      "text/plain": [
       "<Figure size 576x576 with 1 Axes>"
      ]
     },
     "metadata": {
      "needs_background": "light"
     },
     "output_type": "display_data"
    }
   ],
   "source": [
    "import numpy as np\n",
    "import matplotlib as mpl\n",
    "import matplotlib.pyplot as plt\n",
    "\n",
    "library_names = [r\"$1$\", r\"$z$\", r\"$\\dot{z}$\", r\"$z^2$\", r\"$z\\dot{z}$\", r\"$\\dot{z}^2$\",\n",
    "                r\"$z^3$\",r\"$z^2\\dot{z}$\",r\"$z\\dot{z}^2$\",r\"$\\dot{z}^3$\",r\"$\\sin(z)$\",r\"$\\sin(\\dot{z})$\",]\n",
    "library_names.reverse()\n",
    "def curve(arr):\n",
    "    n = 1\n",
    "    center = np.mean(arr)\n",
    "    scale = np.std(arr)\n",
    "    print(center, scale)\n",
    "    scale *= 2.0\n",
    "    X = np.zeros(500)\n",
    "    x = np.linspace(-3, 3, len(X))\n",
    "    X = 1.0/(scale*np.sqrt(2*np.pi)) * np.exp(-0.5 * ((x - center) / scale)**2)\n",
    "    return X/10.0\n",
    "\n",
    "cmap = mpl.cm.get_cmap(\"Blues\")\n",
    "fig = plt.figure(figsize=(8, 8))\n",
    "arr_truncate = arr_truncate.reshape((100, 12))\n",
    "\n",
    "ax = None\n",
    "for n in range(1):\n",
    "    ax = plt.subplot(1, 2, n + 1, frameon=False, sharex=ax)\n",
    "    for i in range(len(arr_mean)):\n",
    "        Y = curve(arr_truncate[:,11-i])\n",
    "#         hist, bin_edges = np.histogram(arr_truncate[:,i], density=True)\n",
    "#         Y = hist/len(arr_truncate[:,i])\n",
    "        X = np.linspace(-3, 3, len(Y))\n",
    "        ax.plot(X, 3 * Y + i, color=\"k\", linewidth=0.75, zorder=100 - i)\n",
    "        color = cmap(abs(arr_mean[11-i]) / 3.0 + 0.2)\n",
    "        ax.fill_between(X, 3 * Y + i, i, color=color, zorder=100 - i)\n",
    "\n",
    "    ax.yaxis.set_tick_params(tick1On=False)\n",
    "    ax.set_xlim(-1.5, 1.5)\n",
    "    ax.set_ylim(3, 13)\n",
    "    ax.axvline(0.0, ls=\"--\", lw=0.75, color=\"black\", zorder=250)\n",
    "    ax.text(\n",
    "        0.0,\n",
    "        1.0,\n",
    "        r\"$z$\",\n",
    "        ha=\"left\",\n",
    "        va=\"top\",\n",
    "        weight=\"bold\",\n",
    "        transform=ax.transAxes,\n",
    "    )\n",
    "\n",
    "    if n == 0:\n",
    "        ax.yaxis.set_tick_params(labelleft=True)\n",
    "        ax.set_yticks(np.arange(len(arr_mean)))\n",
    "#         ax.set_yticklabels([\"Serie %d\" % i for i in range(1, len(arr_mean)+1)])\n",
    "        ax.set_yticklabels(library_names)\n",
    "        for tick in ax.yaxis.get_major_ticks():\n",
    "            tick.label.set_fontsize(16)\n",
    "            tick.label.set_verticalalignment(\"bottom\")\n",
    "    else:\n",
    "        ax.yaxis.set_tick_params(labelleft=False)\n",
    "\n",
    "plt.rcParams.update({'font.size': 20})\n",
    "# cax = plt.axes([0.85, 0.1, 0.075, 0.8])\n",
    "# plt.colorbar(fig, cax=cax)\n",
    "plt.tight_layout()\n",
    "plt.xlabel('Coefficient value')\n",
    "plt.show()"
   ]
  },
  {
   "cell_type": "code",
   "execution_count": 15,
   "metadata": {},
   "outputs": [
    {
     "name": "stdout",
     "output_type": "stream",
     "text": [
      "-0.004153510007308796 0.08549726015861688\n",
      "-0.9887923592329025 0.07975212580864512\n",
      "-0.002844682798604481 0.07793557245777834\n",
      "0.005577350667444989 0.0799967169770456\n",
      "0.004258618773892522 0.08036442188691505\n",
      "0.0012547398975584656 0.07417179294986624\n",
      "0.008937228976283223 0.08442494001445769\n",
      "0.005300770940957591 0.08853284030977478\n",
      "0.007117844017921015 0.08181933397003051\n",
      "0.00454958648653701 0.09190708957750239\n",
      "-0.0035138268384616823 0.07907549792964626\n",
      "0.014776182691566647 0.08127446770412634\n"
     ]
    },
    {
     "data": {
      "image/png": "[encoded data removed]",
      "text/plain": [
       "<Figure size 576x576 with 1 Axes>"
      ]
     },
     "metadata": {
      "needs_background": "light"
     },
     "output_type": "display_data"
    }
   ],
   "source": [
    "import numpy as np\n",
    "import matplotlib as mpl\n",
    "import matplotlib.pyplot as plt\n",
    "from scipy.stats import gaussian_kde\n",
    "\n",
    "library_names = [r\"$1$\", r\"$z$\", r\"$\\dot{z}$\", r\"$z^2$\", r\"$z\\dot{z}$\", r\"$\\dot{z}^2$\",\n",
    "                r\"$z^3$\",r\"$z^2\\dot{z}$\",r\"$z\\dot{z}^2$\",r\"$\\dot{z}^3$\",r\"$\\sin(z)$\",r\"$\\sin(\\dot{z})$\",]\n",
    "library_names.reverse()\n",
    "def curve(arr):\n",
    "    n = 1\n",
    "    center = np.mean(arr)\n",
    "    scale = np.std(arr)\n",
    "    print(center, scale)\n",
    "    scale *= 2.0\n",
    "    X = np.zeros(500)\n",
    "    x = np.linspace(-3, 3, len(X))\n",
    "    X = 1.0/(scale*np.sqrt(2*np.pi)) * np.exp(-0.5 * ((x - center) / scale)**2)\n",
    "    return X/10.0\n",
    "\n",
    "cmap = mpl.cm.get_cmap(\"Blues\")\n",
    "fig = plt.figure(figsize=(8, 8))\n",
    "arr_truncate = arr_truncate.reshape((100, 12))\n",
    "\n",
    "ax = None\n",
    "for n in range(1):\n",
    "    ax = plt.subplot(1, 2, n + 1, frameon=False, sharex=ax)\n",
    "    for i in range(len(arr_mean)):\n",
    "        Y = curve(arr_truncate[:,11-i])\n",
    "#         hist, bin_edges = np.histogram(arr_truncate[:,i], density=True)\n",
    "#         Y = hist/len(arr_truncate[:,i])\n",
    "#         kde_vars = arr_truncate[:,11-i] + np.random.normal(0, 0.001, (100,))\n",
    "#         gkde = gaussian_kde(dataset=kde_vars)\n",
    "        X = np.linspace(-3, 3, 500)\n",
    "#         Y = gkde.evaluate(X)\n",
    "#         Y /= (np.max(Y) + np.std(Y))/0.5\n",
    "        ax.plot(X, Y * 3 + i, color=\"k\", linewidth=0.75, zorder=100 - i)\n",
    "        color = cmap(abs(arr_mean[11-i]) / 3.0 + 0.2)\n",
    "        ax.fill_between(X, 3 * Y + i, i, color=color, zorder=100 - i)\n",
    "\n",
    "    ax.yaxis.set_tick_params(tick1On=False)\n",
    "    ax.set_xlim(-1.5, 1.5)\n",
    "    ax.set_ylim(3, 12)\n",
    "    ax.axvline(0.0, ls=\"--\", lw=0.75, color=\"black\", zorder=250)\n",
    "    ax.text(\n",
    "        0.0,\n",
    "        1.0,\n",
    "        r\"$z$\",\n",
    "        ha=\"left\",\n",
    "        va=\"top\",\n",
    "        weight=\"bold\",\n",
    "        transform=ax.transAxes,\n",
    "    )\n",
    "\n",
    "    if n == 0:\n",
    "        ax.yaxis.set_tick_params(labelleft=True)\n",
    "        ax.set_yticks(np.arange(len(arr_mean)))\n",
    "#         ax.set_yticklabels([\"Serie %d\" % i for i in range(1, len(arr_mean)+1)])\n",
    "        ax.set_yticklabels(library_names)\n",
    "        for tick in ax.yaxis.get_major_ticks():\n",
    "            tick.label.set_fontsize(16)\n",
    "            tick.label.set_verticalalignment(\"bottom\")\n",
    "    else:\n",
    "        ax.yaxis.set_tick_params(labelleft=False)\n",
    "\n",
    "plt.rcParams.update({'font.size': 20})\n",
    "# cax = plt.axes([0.85, 0.1, 0.075, 0.8])\n",
    "# plt.colorbar(fig, cax=cax)\n",
    "plt.tight_layout()\n",
    "plt.xlabel('Coefficient value')\n",
    "plt.show()"
   ]
  },
  {
   "cell_type": "code",
   "execution_count": 14,
   "metadata": {},
   "outputs": [],
   "source": [
    "t = np.arange(0, 100, .02)\n",
    "z0s = np.pi/np.array([1.5,2,3,4,8,16])\n",
    "dz0s = .5*np.ones(z0s.shape)\n",
    "\n",
    "f  = lambda z, t : [z[1], -np.sin(z[0])]\n",
    "n_ics = z0s.size\n",
    "\n",
    "z = np.zeros((n_ics,t.size,2))\n",
    "dz = np.zeros(z.shape)\n",
    "for i in range(n_ics):\n",
    "    z[i] = odeint(f, [z0s[i],dz0s[i]], t)\n",
    "    dz[i] = np.array([f(z[i,j], t[j]) for j in range(len(t))])\n",
    "    \n",
    "x,dx,ddx = pendulum_to_movie(z,dz)"
   ]
  },
  {
   "cell_type": "code",
   "execution_count": 16,
   "metadata": {},
   "outputs": [],
   "source": [
    "test_data = {}\n",
    "test_data['x'] = x.reshape((-1,params['input_dim']))\n",
    "test_data['dx'] = dx.reshape((-1,params['input_dim']))\n",
    "test_data['ddx'] = ddx.reshape((-1,params['input_dim']))\n",
    "test_data['z'] = z[:,:,0].reshape((-1,params['latent_dim']))\n",
    "test_data['dz'] = z[:,:,1].reshape((-1,params['latent_dim']))\n",
    "test_data['ddz'] = dz[:,:,1].reshape((-1,params['latent_dim']))"
   ]
  },
  {
   "cell_type": "markdown",
   "metadata": {},
   "source": [
    "### "
   ]
  },
  {
   "cell_type": "code",
   "execution_count": 17,
   "metadata": {},
   "outputs": [
    {
     "name": "stdout",
     "output_type": "stream",
     "text": [
      "INFO:tensorflow:Restoring parameters from /home/marsgao/BayesianSindyAutoencoder/exmaples/pendulum/model23\n"
     ]
    }
   ],
   "source": [
    "with tf.Session() as sess:\n",
    "    sess.run(tf.global_variables_initializer())\n",
    "    saver.restore(sess, data_path + save_name)\n",
    "    test_dictionary = create_feed_dictionary(test_data, params)\n",
    "    tf_results = sess.run(tensorflow_run_tuple, feed_dict=test_dictionary)\n",
    "\n",
    "test_set_results = {}\n",
    "for i,key in enumerate(autoencoder_network.keys()):\n",
    "    test_set_results[key] = tf_results[i]"
   ]
  },
  {
   "cell_type": "code",
   "execution_count": 18,
   "metadata": {},
   "outputs": [
    {
     "data": {
      "text/plain": [
       "array([[ 0.9041399 ],\n",
       "       [ 0.8596128 ],\n",
       "       [ 0.822137  ],\n",
       "       ...,\n",
       "       [-0.45664233],\n",
       "       [-0.4606692 ],\n",
       "       [-0.46467817]], dtype=float32)"
      ]
     },
     "execution_count": 18,
     "metadata": {},
     "output_type": "execute_result"
    }
   ],
   "source": [
    "test_set_results['ddz']"
   ]
  },
  {
   "cell_type": "code",
   "execution_count": 19,
   "metadata": {},
   "outputs": [
    {
     "data": {
      "text/plain": [
       "array([[ 0.8707058 ],\n",
       "       [ 0.86605227],\n",
       "       [ 0.8614863 ],\n",
       "       ...,\n",
       "       [-0.46310192],\n",
       "       [-0.46739778],\n",
       "       [-0.4715217 ]], dtype=float32)"
      ]
     },
     "execution_count": 19,
     "metadata": {},
     "output_type": "execute_result"
    }
   ],
   "source": [
    "test_set_results['ddz_predict']"
   ]
  },
  {
   "cell_type": "code",
   "execution_count": 20,
   "metadata": {},
   "outputs": [
    {
     "data": {
      "text/plain": [
       "array([[-2.0703712 ],\n",
       "       [-2.080078  ],\n",
       "       [-2.0894408 ],\n",
       "       ...,\n",
       "       [ 0.48574558],\n",
       "       [ 0.49064925],\n",
       "       [ 0.49536875]], dtype=float32)"
      ]
     },
     "execution_count": 20,
     "metadata": {},
     "output_type": "execute_result"
    }
   ],
   "source": [
    "test_set_results['z']"
   ]
  },
  {
   "cell_type": "code",
   "execution_count": 21,
   "metadata": {},
   "outputs": [],
   "source": [
    "true_coefficients = np.zeros(test_set_results['sindy_coefficients'].shape)\n",
    "true_coefficients[-2] = -1.\n",
    "\n",
    "z_sim = np.zeros((n_ics, t.size, 2))\n",
    "pendulum_sim = np.zeros(z_sim.shape)\n",
    "mc_num = 10\n",
    "mc_z_sim = np.zeros((mc_num, n_ics, t.size, 2))\n",
    "for i in range(n_ics):\n",
    "    z_sim[i] = sindy_simulate_order2(test_set_results['z'][i*t.size], test_set_results['dz'][i*t.size], t,\n",
    "                                     params['coefficient_mask']*test_set_results['sindy_coefficients'],\n",
    "                                     params['poly_order'], params['include_sine'])\n",
    "    for j in range(mc_num):\n",
    "#         mc_z_sim[j,i] = sindy_simulate_order2(test_set_results['z'][i*t.size], test_set_results['dz'][i*t.size], t,\n",
    "#                                      (params['coefficient_mask'].T*arr_truncate[j*8]).T,\n",
    "#                                      params['poly_order'], params['include_sine'])\n",
    "        coeff = arr_truncate[j*8].reshape(12, 1)\n",
    "        mc_z_sim[j,i] = sindy_simulate_order2(test_set_results['z'][i*t.size], test_set_results['dz'][i*t.size], t,\n",
    "                                     params['coefficient_mask']*coeff,\n",
    "                                     params['poly_order'], params['include_sine'])\n",
    "    pendulum_sim[i] = sindy_simulate_order2(test_data['z'][i*t.size], test_data['dz'][i*t.size], t,\n",
    "                                            true_coefficients,\n",
    "                                            params['poly_order'], params['include_sine'])"
   ]
  },
  {
   "cell_type": "code",
   "execution_count": 22,
   "metadata": {},
   "outputs": [
    {
     "data": {
      "text/plain": [
       "array([ 0.02218421, -0.17029601, -0.02138738,  0.03607338, -0.04678424,\n",
       "        0.08997827, -0.01335884, -0.03588934,  0.0401166 ,  0.10957459,\n",
       "       -0.90164912,  0.04521118])"
      ]
     },
     "execution_count": 22,
     "metadata": {},
     "output_type": "execute_result"
    }
   ],
   "source": [
    "arr_truncate[0]"
   ]
  },
  {
   "cell_type": "code",
   "execution_count": 23,
   "metadata": {},
   "outputs": [
    {
     "data": {
      "text/plain": [
       "(10, 6, 5000, 2)"
      ]
     },
     "execution_count": 23,
     "metadata": {},
     "output_type": "execute_result"
    }
   ],
   "source": [
    "mc_z_sim.shape"
   ]
  },
  {
   "cell_type": "code",
   "execution_count": 24,
   "metadata": {},
   "outputs": [
    {
     "data": {
      "text/plain": [
       "([], [])"
      ]
     },
     "execution_count": 24,
     "metadata": {},
     "output_type": "execute_result"
    },
    {
     "data": {
      "image/png": "[encoded data removed]",
      "text/plain": [
       "<Figure size 288x216 with 1 Axes>"
      ]
     },
     "metadata": {},
     "output_type": "display_data"
    },
    {
     "data": {
      "image/png": "[encoded data removed]",
      "text/plain": [
       "<Figure size 288x216 with 1 Axes>"
      ]
     },
     "metadata": {},
     "output_type": "display_data"
    }
   ],
   "source": [
    "plt.figure(figsize=(4,3))\n",
    "plt.plot(z_sim[:,:,0].T, z_sim[:,:,1].T, linewidth=2, color='#2071B1')\n",
    "plt.axis('equal')\n",
    "plt.axis('off')\n",
    "plt.xticks([])\n",
    "plt.yticks([])\n",
    "\n",
    "plt.figure(figsize=(4,3))\n",
    "plt.plot(pendulum_sim[:,:,0].T, pendulum_sim[:,:,1].T, linewidth=2, color='#2071B1')\n",
    "plt.axis('equal')\n",
    "plt.axis('off')\n",
    "plt.xticks([])\n",
    "plt.yticks([])"
   ]
  },
  {
   "cell_type": "code",
   "execution_count": 25,
   "metadata": {},
   "outputs": [
    {
     "data": {
      "text/plain": [
       "(-249.95000000000002, 5248.95, -1.8412350300081406, 1.85953459797931)"
      ]
     },
     "execution_count": 25,
     "metadata": {},
     "output_type": "execute_result"
    },
    {
     "data": {
      "image/png": "[encoded data removed]",
      "text/plain": [
       "<Figure size 216x144 with 1 Axes>"
      ]
     },
     "metadata": {},
     "output_type": "display_data"
    }
   ],
   "source": [
    "ic_idx = 1\n",
    "\n",
    "plt.figure(figsize=(3,2))\n",
    "plt.subplot(2,1,1)\n",
    "plt.plot(test_set_results['z'][ic_idx*t.size:(ic_idx+1)*t.size,0], 'k', color='#888888', linewidth=2)\n",
    "plt.plot(z_sim[ic_idx,:,0], '--', linewidth=2)\n",
    "plt.xticks([])\n",
    "plt.yticks([])\n",
    "plt.axis('off')"
   ]
  },
  {
   "cell_type": "code",
   "execution_count": 26,
   "metadata": {},
   "outputs": [
    {
     "data": {
      "text/plain": [
       "(-249.95000000000002, 5248.95, -1.840529570899631, 1.8595010046884288)"
      ]
     },
     "execution_count": 26,
     "metadata": {},
     "output_type": "execute_result"
    },
    {
     "data": {
      "image/png": "[encoded data removed]",
      "text/plain": [
       "<Figure size 216x144 with 1 Axes>"
      ]
     },
     "metadata": {},
     "output_type": "display_data"
    }
   ],
   "source": [
    "ic_idx = 1\n",
    "\n",
    "plt.figure(figsize=(3,2))\n",
    "plt.subplot(2,1,1)\n",
    "plt.plot(test_set_results['z'][ic_idx*t.size:(ic_idx+1)*t.size,0], 'k', color='#888888', linewidth=2)\n",
    "# plt.plot(z_sim[ic_idx,:,0], '--', linewidth=2)\n",
    "plt.plot(np.mean(mc_z_sim[:, ic_idx,:,0], axis=0), '--', linewidth=2)\n",
    "plt.xticks([])\n",
    "plt.yticks([])\n",
    "plt.axis('off')"
   ]
  },
  {
   "cell_type": "code",
   "execution_count": 43,
   "metadata": {},
   "outputs": [
    {
     "data": {
      "text/plain": [
       "Text(0.5, 0, 'Time')"
      ]
     },
     "execution_count": 43,
     "metadata": {},
     "output_type": "execute_result"
    },
    {
     "data": {
      "image/png": "[encoded data removed]",
      "text/plain": [
       "<Figure size 576x144 with 1 Axes>"
      ]
     },
     "metadata": {
      "needs_background": "light"
     },
     "output_type": "display_data"
    }
   ],
   "source": [
    "ic_idx = 5\n",
    "\n",
    "plt.figure(figsize=(8,2))\n",
    "plt.subplot(2,1,1)\n",
    "plt.plot(t, test_set_results['z'][ic_idx*t.size:(ic_idx+1)*t.size,0], 'k', color='#888888', linewidth=2)\n",
    "# plt.plot(z_sim[ic_idx,:,0], '--', linewidth=2)\n",
    "plt.plot(t, np.mean(mc_z_sim[:, ic_idx,:,0], axis=0), '--', linewidth=2)\n",
    "plt.fill_between(t, np.mean(mc_z_sim[:, ic_idx,:,0], axis=0)-np.std(mc_z_sim[:, ic_idx,:,0], axis=0),\n",
    "                np.mean(mc_z_sim[:, ic_idx,:,0], axis=0)+np.std(mc_z_sim[:, ic_idx,:,0], axis=0), alpha=0.3)\n",
    "plt.xticks([0, 20, 40, 60, 80, 100])\n",
    "# plt.xticks([])\n",
    "plt.yticks([])\n",
    "plt.xlabel('Time')\n",
    "# plt.figure(figsize=(100,2))\n",
    "# plt.axes([0, 0.6, 1, 1])\n",
    "# plt.axis('off')"
   ]
  },
  {
   "cell_type": "code",
   "execution_count": 57,
   "metadata": {},
   "outputs": [],
   "source": [
    "test_data = get_pendulum_data(10)"
   ]
  },
  {
   "cell_type": "code",
   "execution_count": 58,
   "metadata": {},
   "outputs": [
    {
     "name": "stdout",
     "output_type": "stream",
     "text": [
      "INFO:tensorflow:Restoring parameters from /home/marsgao/BayesianSindyAutoencoder/exmaples/pendulum/model23\n"
     ]
    }
   ],
   "source": [
    "with tf.Session() as sess:\n",
    "    sess.run(tf.global_variables_initializer())\n",
    "    saver.restore(sess, data_path + save_name)\n",
    "    test_dictionary = create_feed_dictionary(test_data, params)\n",
    "    tf_results = sess.run(tensorflow_run_tuple, feed_dict=test_dictionary)\n",
    "\n",
    "test_set_results = {}\n",
    "for i,key in enumerate(autoencoder_network.keys()):\n",
    "    test_set_results[key] = tf_results[i]"
   ]
  },
  {
   "cell_type": "code",
   "execution_count": 59,
   "metadata": {},
   "outputs": [
    {
     "name": "stdout",
     "output_type": "stream",
     "text": [
      "Decoder relative error: 0.000448\n",
      "Decoder relative SINDy error: 0.000236\n",
      "SINDy reltive error, z: 0.005527\n"
     ]
    }
   ],
   "source": [
    "decoder_x_error = np.mean((test_data['x'] - test_set_results['x_decode'])**2)/np.mean(test_data['x']**2)\n",
    "decoder_ddx_error = np.mean((test_data['ddx'] - test_set_results['ddx_decode'])**2)/np.mean(test_data['ddx']**2)\n",
    "sindy_ddz_error = np.mean((test_set_results['ddz'] - test_set_results['ddz_predict'])**2)/np.mean(test_set_results['ddz']**2)\n",
    "\n",
    "print('Decoder relative error: %f' % decoder_x_error)\n",
    "print('Decoder relative SINDy error: %f' % decoder_ddx_error)\n",
    "print('SINDy reltive error, z: %f' % sindy_ddz_error)"
   ]
  },
  {
   "cell_type": "code",
   "execution_count": 49,
   "metadata": {},
   "outputs": [
    {
     "data": {
      "text/plain": [
       "array([-0.90164912, -1.01598716, -0.93963552, -0.97494906, -1.0890131 ,\n",
       "       -1.01851022, -0.98242223, -0.92776918, -0.95872492, -0.97845578,\n",
       "       -0.86196584, -0.87194848, -1.04193294, -0.97084022, -0.99578577,\n",
       "       -1.01899111, -1.06442499, -1.07888198, -0.91682065, -1.03888869,\n",
       "       -1.05523205, -1.0093751 , -1.0304085 , -0.90317708, -1.01589322,\n",
       "       -1.06245053, -0.85554135, -0.91616613, -1.13478816, -1.05105782,\n",
       "       -1.09811008, -1.05054271, -1.02617192, -0.82454699, -1.09253335,\n",
       "       -0.92896593, -0.99111736, -1.20649838, -0.9885602 , -1.06430984,\n",
       "       -1.13028884, -0.98703241, -0.93297988, -0.90953296, -0.95865637,\n",
       "       -0.86437982, -1.03780794, -1.0394609 , -0.98516542, -0.88753492,\n",
       "       -1.08160007, -0.85703737, -0.91108412, -0.98021615, -0.98770893,\n",
       "       -1.02726138, -0.92705834, -0.91421425, -1.03922474, -1.07099676,\n",
       "       -0.98265487, -1.02283347, -1.00342345, -1.2649703 , -1.01288998,\n",
       "       -0.99427801, -0.92546576, -0.94713593, -0.84850901, -1.08888507,\n",
       "       -0.93341583, -0.93873399, -0.94978005, -1.00541294, -1.01287937,\n",
       "       -0.93412119, -1.10391557, -0.83621395, -1.06504178, -1.03383756,\n",
       "       -0.92810589, -1.14456987, -0.96401131, -1.03856349, -0.94745737,\n",
       "       -1.00877845, -0.95289242, -0.90106791, -0.92573959, -0.94629675,\n",
       "       -0.9212625 , -1.00139117, -1.05321622, -1.06924129, -1.06440234,\n",
       "       -0.93357992, -0.93249565, -0.90850198, -0.89255393, -0.95842457])"
      ]
     },
     "execution_count": 49,
     "metadata": {},
     "output_type": "execute_result"
    }
   ],
   "source": [
    "arr_truncate[:,-2]"
   ]
  },
  {
   "cell_type": "code",
   "execution_count": 50,
   "metadata": {},
   "outputs": [
    {
     "data": {
      "text/plain": [
       "-0.9887923592329025"
      ]
     },
     "execution_count": 50,
     "metadata": {},
     "output_type": "execute_result"
    }
   ],
   "source": [
    "np.mean(arr_truncate[:,-2])"
   ]
  },
  {
   "cell_type": "code",
   "execution_count": null,
   "metadata": {},
   "outputs": [],
   "source": []
  }
 ],
 "metadata": {
  "kernelspec": {
   "display_name": "mars",
   "language": "python",
   "name": "mars"
  },
  "language_info": {
   "codemirror_mode": {
    "name": "ipython",
    "version": 3
   },
   "file_extension": ".py",
   "mimetype": "text/x-python",
   "name": "python",
   "nbconvert_exporter": "python",
   "pygments_lexer": "ipython3",
   "version": "3.6.13"
  },
  "toc": {
   "base_numbering": 1,
   "nav_menu": {},
   "number_sections": true,
   "sideBar": true,
   "skip_h1_title": false,
   "title_cell": "Table of Contents",
   "title_sidebar": "Contents",
   "toc_cell": false,
   "toc_position": {},
   "toc_section_display": true,
   "toc_window_display": false
  },
  "varInspector": {
   "cols": {
    "lenName": 16,
    "lenType": 16,
    "lenVar": 40
   },
   "kernels_config": {
    "python": {
     "delete_cmd_postfix": "",
     "delete_cmd_prefix": "del ",
     "library": "var_list.py",
     "varRefreshCmd": "print(var_dic_list())"
    },
    "r": {
     "delete_cmd_postfix": ") ",
     "delete_cmd_prefix": "rm(",
     "library": "var_list.r",
     "varRefreshCmd": "cat(var_dic_list()) "
    }
   },
   "types_to_exclude": [
    "module",
    "function",
    "builtin_function_or_method",
    "instance",
    "_Feature"
   ],
   "window_display": false
  }
 },
 "nbformat": 4,
 "nbformat_minor": 2
}
