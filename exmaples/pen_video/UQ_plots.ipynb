{
 "cells": [
  {
   "cell_type": "code",
   "execution_count": 1,
   "metadata": {},
   "outputs": [
    {
     "name": "stderr",
     "output_type": "stream",
     "text": [
      "/home/marsgao/.conda/envs/mars/lib/python3.7/site-packages/tensorflow/python/framework/dtypes.py:516: FutureWarning: Passing (type, 1) or '1type' as a synonym of type is deprecated; in a future version of numpy, it will be understood as (type, (1,)) / '(1,)type'.\n",
      "  _np_qint8 = np.dtype([(\"qint8\", np.int8, 1)])\n",
      "/home/marsgao/.conda/envs/mars/lib/python3.7/site-packages/tensorflow/python/framework/dtypes.py:517: FutureWarning: Passing (type, 1) or '1type' as a synonym of type is deprecated; in a future version of numpy, it will be understood as (type, (1,)) / '(1,)type'.\n",
      "  _np_quint8 = np.dtype([(\"quint8\", np.uint8, 1)])\n",
      "/home/marsgao/.conda/envs/mars/lib/python3.7/site-packages/tensorflow/python/framework/dtypes.py:518: FutureWarning: Passing (type, 1) or '1type' as a synonym of type is deprecated; in a future version of numpy, it will be understood as (type, (1,)) / '(1,)type'.\n",
      "  _np_qint16 = np.dtype([(\"qint16\", np.int16, 1)])\n",
      "/home/marsgao/.conda/envs/mars/lib/python3.7/site-packages/tensorflow/python/framework/dtypes.py:519: FutureWarning: Passing (type, 1) or '1type' as a synonym of type is deprecated; in a future version of numpy, it will be understood as (type, (1,)) / '(1,)type'.\n",
      "  _np_quint16 = np.dtype([(\"quint16\", np.uint16, 1)])\n",
      "/home/marsgao/.conda/envs/mars/lib/python3.7/site-packages/tensorflow/python/framework/dtypes.py:520: FutureWarning: Passing (type, 1) or '1type' as a synonym of type is deprecated; in a future version of numpy, it will be understood as (type, (1,)) / '(1,)type'.\n",
      "  _np_qint32 = np.dtype([(\"qint32\", np.int32, 1)])\n",
      "/home/marsgao/.conda/envs/mars/lib/python3.7/site-packages/tensorflow/python/framework/dtypes.py:525: FutureWarning: Passing (type, 1) or '1type' as a synonym of type is deprecated; in a future version of numpy, it will be understood as (type, (1,)) / '(1,)type'.\n",
      "  np_resource = np.dtype([(\"resource\", np.ubyte, 1)])\n",
      "/home/marsgao/.conda/envs/mars/lib/python3.7/site-packages/tensorboard/compat/tensorflow_stub/dtypes.py:541: FutureWarning: Passing (type, 1) or '1type' as a synonym of type is deprecated; in a future version of numpy, it will be understood as (type, (1,)) / '(1,)type'.\n",
      "  _np_qint8 = np.dtype([(\"qint8\", np.int8, 1)])\n",
      "/home/marsgao/.conda/envs/mars/lib/python3.7/site-packages/tensorboard/compat/tensorflow_stub/dtypes.py:542: FutureWarning: Passing (type, 1) or '1type' as a synonym of type is deprecated; in a future version of numpy, it will be understood as (type, (1,)) / '(1,)type'.\n",
      "  _np_quint8 = np.dtype([(\"quint8\", np.uint8, 1)])\n",
      "/home/marsgao/.conda/envs/mars/lib/python3.7/site-packages/tensorboard/compat/tensorflow_stub/dtypes.py:543: FutureWarning: Passing (type, 1) or '1type' as a synonym of type is deprecated; in a future version of numpy, it will be understood as (type, (1,)) / '(1,)type'.\n",
      "  _np_qint16 = np.dtype([(\"qint16\", np.int16, 1)])\n",
      "/home/marsgao/.conda/envs/mars/lib/python3.7/site-packages/tensorboard/compat/tensorflow_stub/dtypes.py:544: FutureWarning: Passing (type, 1) or '1type' as a synonym of type is deprecated; in a future version of numpy, it will be understood as (type, (1,)) / '(1,)type'.\n",
      "  _np_quint16 = np.dtype([(\"quint16\", np.uint16, 1)])\n",
      "/home/marsgao/.conda/envs/mars/lib/python3.7/site-packages/tensorboard/compat/tensorflow_stub/dtypes.py:545: FutureWarning: Passing (type, 1) or '1type' as a synonym of type is deprecated; in a future version of numpy, it will be understood as (type, (1,)) / '(1,)type'.\n",
      "  _np_qint32 = np.dtype([(\"qint32\", np.int32, 1)])\n",
      "/home/marsgao/.conda/envs/mars/lib/python3.7/site-packages/tensorboard/compat/tensorflow_stub/dtypes.py:550: FutureWarning: Passing (type, 1) or '1type' as a synonym of type is deprecated; in a future version of numpy, it will be understood as (type, (1,)) / '(1,)type'.\n",
      "  np_resource = np.dtype([(\"resource\", np.ubyte, 1)])\n"
     ]
    }
   ],
   "source": [
    "import sys\n",
    "sys.path.append(\"../../src\")\n",
    "import os\n",
    "os.environ[\"CUDA_VISIBLE_DEVICES\"] = \"-1\"\n",
    "import numpy as np\n",
    "import pickle\n",
    "from example_pendulum import get_pendulum_data, pendulum_to_movie\n",
    "from scipy.integrate import odeint\n",
    "from autoencoder_pendulum_masked import full_network\n",
    "from training_pendulum import create_feed_dictionary\n",
    "from sindy_utils import sindy_simulate_order2\n",
    "import tensorflow as tf\n",
    "import matplotlib.pyplot as plt\n",
    "from mpl_toolkits.mplot3d import Axes3D\n",
    "%matplotlib inline"
   ]
  },
  {
   "cell_type": "code",
   "execution_count": 2,
   "metadata": {},
   "outputs": [
    {
     "name": "stdout",
     "output_type": "stream",
     "text": [
      "WARNING:tensorflow:From ../../src/autoencoder_pendulum_masked.py:30: The name tf.placeholder is deprecated. Please use tf.compat.v1.placeholder instead.\n",
      "\n",
      "WARNING:tensorflow:From ../../src/autoencoder_pendulum_masked.py:271: The name tf.get_variable is deprecated. Please use tf.compat.v1.get_variable instead.\n",
      "\n",
      "WARNING:tensorflow:From /tmp/ipykernel_1198649/1762339681.py:8: The name tf.train.Saver is deprecated. Please use tf.compat.v1.train.Saver instead.\n",
      "\n",
      "WARNING:tensorflow:From /tmp/ipykernel_1198649/1762339681.py:8: The name tf.get_collection is deprecated. Please use tf.compat.v1.get_collection instead.\n",
      "\n",
      "WARNING:tensorflow:From /tmp/ipykernel_1198649/1762339681.py:8: The name tf.GraphKeys is deprecated. Please use tf.compat.v1.GraphKeys instead.\n",
      "\n"
     ]
    }
   ],
   "source": [
    "data_path = os.getcwd() + '/'\n",
    "save_name = 'model7'\n",
    "params = pickle.load(open(data_path + save_name + '_params.pkl', 'rb'))\n",
    "params['save_name'] = data_path + save_name\n",
    "\n",
    "autoencoder_network = full_network(params)\n",
    "learning_rate = tf.placeholder(tf.float32, name='learning_rate')\n",
    "saver = tf.train.Saver(var_list=tf.get_collection(tf.GraphKeys.GLOBAL_VARIABLES))\n",
    "\n",
    "tensorflow_run_tuple = ()\n",
    "for key in autoencoder_network.keys():\n",
    "    tensorflow_run_tuple += (autoencoder_network[key],)"
   ]
  },
  {
   "cell_type": "markdown",
   "metadata": {},
   "source": [
    "## Single trajectory plots"
   ]
  },
  {
   "cell_type": "code",
   "execution_count": 28,
   "metadata": {},
   "outputs": [
    {
     "data": {
      "text/plain": [
       "array([[-8.81898595e-05],\n",
       "       [ 2.87306375e-05],\n",
       "       [-3.14143658e-01],\n",
       "       [-4.98609185e-01],\n",
       "       [ 5.57949170e-02],\n",
       "       [-2.26756632e-01],\n",
       "       [ 9.62953717e-02],\n",
       "       [-1.67004000e-02],\n",
       "       [ 9.22765685e-05],\n",
       "       [ 1.10809727e+01],\n",
       "       [ 1.34908201e-04]])"
      ]
     },
     "execution_count": 28,
     "metadata": {},
     "output_type": "execute_result"
    }
   ],
   "source": [
    "arr = np.load(\"save_18.npy\")\n",
    "arr_truncate = arr[0:-420]\n",
    "arr_truncate[0]"
   ]
  },
  {
   "cell_type": "code",
   "execution_count": 29,
   "metadata": {},
   "outputs": [],
   "source": [
    "arr_mean = np.mean(arr_truncate, axis=0)\n",
    "arr_std = np.std(arr_truncate, axis=0)"
   ]
  },
  {
   "cell_type": "code",
   "execution_count": 30,
   "metadata": {},
   "outputs": [
    {
     "data": {
      "text/plain": [
       "array([[-4.10059511e-06],\n",
       "       [-9.64962765e-07],\n",
       "       [-3.13796918e-01],\n",
       "       [-8.71701795e-02],\n",
       "       [ 1.57231896e-02],\n",
       "       [-3.03003504e-02],\n",
       "       [ 2.11434682e-02],\n",
       "       [-7.17190859e-03],\n",
       "       [ 6.55107852e-06],\n",
       "       [ 1.11552560e+01],\n",
       "       [ 4.13028192e-06]])"
      ]
     },
     "execution_count": 30,
     "metadata": {},
     "output_type": "execute_result"
    }
   ],
   "source": [
    "arr_mean"
   ]
  },
  {
   "cell_type": "code",
   "execution_count": 31,
   "metadata": {},
   "outputs": [
    {
     "data": {
      "text/plain": [
       "array([[ 2.57867381e-04],\n",
       "       [ 2.42112400e-04],\n",
       "       [-3.13242410e-01],\n",
       "       [ 2.11800597e-01],\n",
       "       [ 5.49433134e-02],\n",
       "       [ 9.38942957e-02],\n",
       "       [ 8.43661950e-02],\n",
       "       [ 5.06151138e-03],\n",
       "       [ 4.56539472e-05],\n",
       "       [ 1.12699505e+01],\n",
       "       [ 2.66792795e-04]])"
      ]
     },
     "execution_count": 31,
     "metadata": {},
     "output_type": "execute_result"
    }
   ],
   "source": [
    "arr_mean + 2*arr_std"
   ]
  },
  {
   "cell_type": "code",
   "execution_count": 32,
   "metadata": {},
   "outputs": [
    {
     "data": {
      "text/plain": [
       "array([[-2.66068571e-04],\n",
       "       [-2.44042326e-04],\n",
       "       [-3.14351425e-01],\n",
       "       [-3.86140956e-01],\n",
       "       [-2.34969341e-02],\n",
       "       [-1.54494996e-01],\n",
       "       [-4.20792586e-02],\n",
       "       [-1.94053286e-02],\n",
       "       [-3.25517902e-05],\n",
       "       [ 1.10405616e+01],\n",
       "       [-2.58532231e-04]])"
      ]
     },
     "execution_count": 32,
     "metadata": {},
     "output_type": "execute_result"
    }
   ],
   "source": [
    "arr_mean - 2*arr_std"
   ]
  },
  {
   "cell_type": "code",
   "execution_count": 34,
   "metadata": {},
   "outputs": [
    {
     "data": {
      "text/plain": [
       "array([[ 2.08726740e-03],\n",
       "       [-1.92043297e-03],\n",
       "       [ 1.58426167e-03],\n",
       "       [-2.70040201e-04],\n",
       "       [ 2.45522717e-03],\n",
       "       [-2.45277886e-03],\n",
       "       [ 5.61188398e-04],\n",
       "       [ 1.39499276e-04],\n",
       "       [ 1.15108839e-03],\n",
       "       [ 1.04144794e+01],\n",
       "       [-3.39831359e-03]])"
      ]
     },
     "execution_count": 34,
     "metadata": {},
     "output_type": "execute_result"
    }
   ],
   "source": [
    "arr = np.load(\"save_refinement_18.npy\")\n",
    "arr_truncate = arr[0:-420]\n",
    "arr_mean = np.mean(arr_truncate, axis=0)\n",
    "arr_std = np.std(arr_truncate, axis=0)\n",
    "arr_mean"
   ]
  },
  {
   "cell_type": "code",
   "execution_count": 35,
   "metadata": {},
   "outputs": [
    {
     "data": {
      "text/plain": [
       "array([[ 0.02848427],\n",
       "       [ 0.02759847],\n",
       "       [ 0.02754363],\n",
       "       [ 0.0255383 ],\n",
       "       [ 0.02865408],\n",
       "       [ 0.02078561],\n",
       "       [ 0.02709594],\n",
       "       [ 0.02531203],\n",
       "       [ 0.03092284],\n",
       "       [12.50854909],\n",
       "       [ 0.02406072]])"
      ]
     },
     "execution_count": 35,
     "metadata": {},
     "output_type": "execute_result"
    }
   ],
   "source": [
    "arr_mean + 2*arr_std"
   ]
  },
  {
   "cell_type": "code",
   "execution_count": 36,
   "metadata": {},
   "outputs": [
    {
     "data": {
      "text/plain": [
       "array([[-0.02430974],\n",
       "       [-0.03143933],\n",
       "       [-0.02437511],\n",
       "       [-0.02607838],\n",
       "       [-0.02374363],\n",
       "       [-0.02569117],\n",
       "       [-0.02597356],\n",
       "       [-0.02503303],\n",
       "       [-0.02862067],\n",
       "       [ 8.32040971],\n",
       "       [-0.03085735]])"
      ]
     },
     "execution_count": 36,
     "metadata": {},
     "output_type": "execute_result"
    }
   ],
   "source": [
    "arr_mean - 2*arr_std"
   ]
  },
  {
   "cell_type": "code",
   "execution_count": 48,
   "metadata": {},
   "outputs": [
    {
     "name": "stdout",
     "output_type": "stream",
     "text": [
      "-0.0033983135894595762 0.01372951635831917\n",
      "10.414479398727417 1.0470348459908283\n",
      "0.0011510883938899497 0.014885878014017796\n",
      "0.00013949927612884493 0.012586267076042292\n",
      "0.0005611883982783183 0.013267375198620035\n",
      "-0.0024527788601699284 0.011619193087916221\n",
      "0.002455227172176819 0.013099428228460733\n",
      "-0.00027004020055755975 0.01290416765270124\n",
      "0.0015842616667214315 0.012979684707984478\n",
      "-0.001920432970073307 0.014759450284066049\n",
      "0.0020872674041311256 0.013198501861971359\n"
     ]
    },
    {
     "data": {
      "image/png": "[encoded data removed]",
      "text/plain": [
       "<Figure size 576x576 with 1 Axes>"
      ]
     },
     "metadata": {
      "needs_background": "light"
     },
     "output_type": "display_data"
    }
   ],
   "source": [
    "import numpy as np\n",
    "import matplotlib as mpl\n",
    "import matplotlib.pyplot as plt\n",
    "\n",
    "library_names = [r\"$z$\", r\"$\\dot{z}$\", r\"$z^2$\", r\"$z\\dot{z}$\", r\"$\\dot{z}^2$\",\n",
    "                r\"$z^3$\",r\"$z^2\\dot{z}$\",r\"$z\\dot{z}^2$\",r\"$\\dot{z}^3$\",r\"$\\sin(z)$\",r\"$\\sin(\\dot{z})$\",]\n",
    "library_names.reverse()\n",
    "def curve(arr):\n",
    "    n = 1\n",
    "    center = np.mean(arr)\n",
    "    scale = np.std(arr)\n",
    "    print(center, scale)\n",
    "    if scale <= 0.2:\n",
    "        scale *= 50.0\n",
    "    X = np.zeros(500)\n",
    "    x = np.linspace(-15, 15, len(X))\n",
    "    X = 1.0/(scale*np.sqrt(2*np.pi)) * np.exp(-0.5 * ((x - center) / scale)**2)\n",
    "    return X\n",
    "\n",
    "cmap = mpl.cm.get_cmap(\"Blues\")\n",
    "fig = plt.figure(figsize=(8, 8))\n",
    "arr_truncate = arr_truncate.reshape((100, 11))\n",
    "\n",
    "ax = None\n",
    "for n in range(1):\n",
    "    ax = plt.subplot(1, 2, n + 1, frameon=False, sharex=ax)\n",
    "    for i in range(len(arr_mean)):\n",
    "        Y = curve(arr_truncate[:,10-i])\n",
    "#         hist, bin_edges = np.histogram(arr_truncate[:,i], density=True)\n",
    "#         Y = hist/len(arr_truncate[:,i])\n",
    "        X = np.linspace(-15, 15, len(Y))\n",
    "        ax.plot(X, 3 * Y + i, color=\"k\", linewidth=0.75, zorder=100 - i)\n",
    "        color = cmap(abs(arr_mean[10-i]) / 3.0 + 0.2)\n",
    "        ax.fill_between(X, 3 * Y + i, i, color=color, zorder=100 - i)\n",
    "\n",
    "    ax.yaxis.set_tick_params(tick1On=False)\n",
    "    ax.set_xlim(-15, 15)\n",
    "    ax.set_ylim(3, 13)\n",
    "    ax.axvline(0.0, ls=\"--\", lw=0.75, color=\"black\", zorder=250)\n",
    "    ax.text(\n",
    "        0.0,\n",
    "        1.0,\n",
    "        r\"$z$\",\n",
    "        ha=\"left\",\n",
    "        va=\"top\",\n",
    "        weight=\"bold\",\n",
    "        transform=ax.transAxes,\n",
    "    )\n",
    "\n",
    "    if n == 0:\n",
    "        ax.yaxis.set_tick_params(labelleft=True)\n",
    "        ax.set_yticks(np.arange(len(arr_mean)))\n",
    "#         ax.set_yticklabels([\"Serie %d\" % i for i in range(1, len(arr_mean)+1)])\n",
    "        ax.set_yticklabels(library_names)\n",
    "        for tick in ax.yaxis.get_major_ticks():\n",
    "            tick.label.set_fontsize(16)\n",
    "            tick.label.set_verticalalignment(\"bottom\")\n",
    "    else:\n",
    "        ax.yaxis.set_tick_params(labelleft=False)\n",
    "\n",
    "plt.rcParams.update({'font.size': 20})\n",
    "# cax = plt.axes([0.85, 0.1, 0.075, 0.8])\n",
    "# plt.colorbar(fig, cax=cax)\n",
    "plt.tight_layout()\n",
    "plt.xlabel('Coefficient value')\n",
    "plt.show()"
   ]
  },
  {
   "cell_type": "code",
   "execution_count": 53,
   "metadata": {},
   "outputs": [],
   "source": [
    "t = np.arange(0, 100, .02)\n",
    "z0s = np.pi/np.array([1.5,2,3,4,8,16])\n",
    "dz0s = .5*np.ones(z0s.shape)\n",
    "\n",
    "f  = lambda z, t : [z[1], -np.sin(z[0])]\n",
    "n_ics = z0s.size\n",
    "\n",
    "z = np.zeros((n_ics,t.size,2))\n",
    "dz = np.zeros(z.shape)\n",
    "for i in range(n_ics):\n",
    "    z[i] = odeint(f, [z0s[i],dz0s[i]], t)\n",
    "    dz[i] = np.array([f(z[i,j], t[j]) for j in range(len(t))])\n",
    "    \n",
    "x = np.load(\"decode_x.npy\")\n",
    "dx = np.load(\"dx_decode.npy\")\n",
    "ddx = np.load(\"ddx_decode.npy\")"
   ]
  },
  {
   "cell_type": "code",
   "execution_count": 54,
   "metadata": {},
   "outputs": [],
   "source": [
    "test_data = {}\n",
    "test_data['x'] = x.reshape((-1,params['input_dim']))\n",
    "test_data['dx'] = dx.reshape((-1,params['input_dim']))\n",
    "test_data['ddx'] = ddx.reshape((-1,params['input_dim']))\n",
    "# test_data['z'] = z[:,:,0].reshape((-1,params['latent_dim']))\n",
    "# test_data['dz'] = z[:,:,1].reshape((-1,params['latent_dim']))\n",
    "# test_data['ddz'] = dz[:,:,1].reshape((-1,params['latent_dim']))"
   ]
  },
  {
   "cell_type": "markdown",
   "metadata": {},
   "source": [
    "### "
   ]
  },
  {
   "cell_type": "code",
   "execution_count": 55,
   "metadata": {},
   "outputs": [
    {
     "name": "stdout",
     "output_type": "stream",
     "text": [
      "WARNING:tensorflow:From /tmp/ipykernel_1198649/4239406635.py:1: The name tf.Session is deprecated. Please use tf.compat.v1.Session instead.\n",
      "\n",
      "WARNING:tensorflow:From /home/marsgao/.conda/envs/mars/lib/python3.7/site-packages/tensorflow/python/training/saver.py:1276: checkpoint_exists (from tensorflow.python.training.checkpoint_management) is deprecated and will be removed in a future version.\n",
      "Instructions for updating:\n",
      "Use standard file APIs to check for files with this prefix.\n",
      "INFO:tensorflow:Restoring parameters from /home/marsgao/SindyAutoencoders/examples/pen_video/model7\n"
     ]
    },
    {
     "name": "stderr",
     "output_type": "stream",
     "text": [
      "2022-08-28 13:32:02.390541: I tensorflow/stream_executor/platform/default/dso_loader.cc:42] Successfully opened dynamic library libcuda.so.1\n",
      "2022-08-28 13:32:02.448299: E tensorflow/stream_executor/cuda/cuda_driver.cc:318] failed call to cuInit: CUDA_ERROR_NO_DEVICE: no CUDA-capable device is detected\n",
      "2022-08-28 13:32:02.448366: I tensorflow/stream_executor/cuda/cuda_diagnostics.cc:169] retrieving CUDA diagnostic information for host: lambda\n",
      "2022-08-28 13:32:02.448377: I tensorflow/stream_executor/cuda/cuda_diagnostics.cc:176] hostname: lambda\n",
      "2022-08-28 13:32:02.448544: I tensorflow/stream_executor/cuda/cuda_diagnostics.cc:200] libcuda reported version is: 515.65.1\n",
      "2022-08-28 13:32:02.448585: I tensorflow/stream_executor/cuda/cuda_diagnostics.cc:204] kernel reported version is: 515.65.1\n",
      "2022-08-28 13:32:02.448594: I tensorflow/stream_executor/cuda/cuda_diagnostics.cc:310] kernel version seems to match DSO: 515.65.1\n",
      "2022-08-28 13:32:02.449614: I tensorflow/core/platform/cpu_feature_guard.cc:142] Your CPU supports instructions that this TensorFlow binary was not compiled to use: SSE4.1 SSE4.2 AVX AVX2 AVX512F FMA\n",
      "2022-08-28 13:32:02.483836: I tensorflow/core/platform/profile_utils/cpu_utils.cc:94] CPU Frequency: 2899885000 Hz\n",
      "2022-08-28 13:32:02.485912: I tensorflow/compiler/xla/service/service.cc:168] XLA service 0x55832d64de60 executing computations on platform Host. Devices:\n",
      "2022-08-28 13:32:02.485967: I tensorflow/compiler/xla/service/service.cc:175]   StreamExecutor device (0): <undefined>, <undefined>\n",
      "2022-08-28 13:32:02.545621: W tensorflow/compiler/jit/mark_for_compilation_pass.cc:1412] (One-time warning): Not using XLA:CPU for cluster because envvar TF_XLA_FLAGS=--tf_xla_cpu_global_jit was not set.  If you want XLA:CPU, either set that envvar, or use experimental_jit_scope to enable XLA:CPU.  To confirm that XLA is active, pass --vmodule=xla_compilation_cache=1 (as a proper command-line flag, not via TF_XLA_FLAGS) or set the envvar XLA_FLAGS=--xla_hlo_profile.\n"
     ]
    },
    {
     "ename": "ValueError",
     "evalue": "Cannot feed value of shape () for Tensor 'random_mask:0', which has shape '(?, 648)'",
     "output_type": "error",
     "traceback": [
      "\u001b[0;31m---------------------------------------------------------------------------\u001b[0m",
      "\u001b[0;31mValueError\u001b[0m                                Traceback (most recent call last)",
      "\u001b[0;32m/tmp/ipykernel_1198649/4239406635.py\u001b[0m in \u001b[0;36m<module>\u001b[0;34m\u001b[0m\n\u001b[1;32m      3\u001b[0m     \u001b[0msaver\u001b[0m\u001b[0;34m.\u001b[0m\u001b[0mrestore\u001b[0m\u001b[0;34m(\u001b[0m\u001b[0msess\u001b[0m\u001b[0;34m,\u001b[0m \u001b[0mdata_path\u001b[0m \u001b[0;34m+\u001b[0m \u001b[0msave_name\u001b[0m\u001b[0;34m)\u001b[0m\u001b[0;34m\u001b[0m\u001b[0;34m\u001b[0m\u001b[0m\n\u001b[1;32m      4\u001b[0m     \u001b[0mtest_dictionary\u001b[0m \u001b[0;34m=\u001b[0m \u001b[0mcreate_feed_dictionary\u001b[0m\u001b[0;34m(\u001b[0m\u001b[0mtest_data\u001b[0m\u001b[0;34m,\u001b[0m \u001b[0mparams\u001b[0m\u001b[0;34m)\u001b[0m\u001b[0;34m\u001b[0m\u001b[0;34m\u001b[0m\u001b[0m\n\u001b[0;32m----> 5\u001b[0;31m     \u001b[0mtf_results\u001b[0m \u001b[0;34m=\u001b[0m \u001b[0msess\u001b[0m\u001b[0;34m.\u001b[0m\u001b[0mrun\u001b[0m\u001b[0;34m(\u001b[0m\u001b[0mtensorflow_run_tuple\u001b[0m\u001b[0;34m,\u001b[0m \u001b[0mfeed_dict\u001b[0m\u001b[0;34m=\u001b[0m\u001b[0mtest_dictionary\u001b[0m\u001b[0;34m)\u001b[0m\u001b[0;34m\u001b[0m\u001b[0;34m\u001b[0m\u001b[0m\n\u001b[0m\u001b[1;32m      6\u001b[0m \u001b[0;34m\u001b[0m\u001b[0m\n\u001b[1;32m      7\u001b[0m \u001b[0mtest_set_results\u001b[0m \u001b[0;34m=\u001b[0m \u001b[0;34m{\u001b[0m\u001b[0;34m}\u001b[0m\u001b[0;34m\u001b[0m\u001b[0;34m\u001b[0m\u001b[0m\n",
      "\u001b[0;32m~/.conda/envs/mars/lib/python3.7/site-packages/tensorflow/python/client/session.py\u001b[0m in \u001b[0;36mrun\u001b[0;34m(self, fetches, feed_dict, options, run_metadata)\u001b[0m\n\u001b[1;32m    948\u001b[0m     \u001b[0;32mtry\u001b[0m\u001b[0;34m:\u001b[0m\u001b[0;34m\u001b[0m\u001b[0;34m\u001b[0m\u001b[0m\n\u001b[1;32m    949\u001b[0m       result = self._run(None, fetches, feed_dict, options_ptr,\n\u001b[0;32m--> 950\u001b[0;31m                          run_metadata_ptr)\n\u001b[0m\u001b[1;32m    951\u001b[0m       \u001b[0;32mif\u001b[0m \u001b[0mrun_metadata\u001b[0m\u001b[0;34m:\u001b[0m\u001b[0;34m\u001b[0m\u001b[0;34m\u001b[0m\u001b[0m\n\u001b[1;32m    952\u001b[0m         \u001b[0mproto_data\u001b[0m \u001b[0;34m=\u001b[0m \u001b[0mtf_session\u001b[0m\u001b[0;34m.\u001b[0m\u001b[0mTF_GetBuffer\u001b[0m\u001b[0;34m(\u001b[0m\u001b[0mrun_metadata_ptr\u001b[0m\u001b[0;34m)\u001b[0m\u001b[0;34m\u001b[0m\u001b[0;34m\u001b[0m\u001b[0m\n",
      "\u001b[0;32m~/.conda/envs/mars/lib/python3.7/site-packages/tensorflow/python/client/session.py\u001b[0m in \u001b[0;36m_run\u001b[0;34m(self, handle, fetches, feed_dict, options, run_metadata)\u001b[0m\n\u001b[1;32m   1147\u001b[0m                              \u001b[0;34m'which has shape %r'\u001b[0m \u001b[0;34m%\u001b[0m\u001b[0;34m\u001b[0m\u001b[0;34m\u001b[0m\u001b[0m\n\u001b[1;32m   1148\u001b[0m                              (np_val.shape, subfeed_t.name,\n\u001b[0;32m-> 1149\u001b[0;31m                               str(subfeed_t.get_shape())))\n\u001b[0m\u001b[1;32m   1150\u001b[0m           \u001b[0;32mif\u001b[0m \u001b[0;32mnot\u001b[0m \u001b[0mself\u001b[0m\u001b[0;34m.\u001b[0m\u001b[0mgraph\u001b[0m\u001b[0;34m.\u001b[0m\u001b[0mis_feedable\u001b[0m\u001b[0;34m(\u001b[0m\u001b[0msubfeed_t\u001b[0m\u001b[0;34m)\u001b[0m\u001b[0;34m:\u001b[0m\u001b[0;34m\u001b[0m\u001b[0;34m\u001b[0m\u001b[0m\n\u001b[1;32m   1151\u001b[0m             \u001b[0;32mraise\u001b[0m \u001b[0mValueError\u001b[0m\u001b[0;34m(\u001b[0m\u001b[0;34m'Tensor %s may not be fed.'\u001b[0m \u001b[0;34m%\u001b[0m \u001b[0msubfeed_t\u001b[0m\u001b[0;34m)\u001b[0m\u001b[0;34m\u001b[0m\u001b[0;34m\u001b[0m\u001b[0m\n",
      "\u001b[0;31mValueError\u001b[0m: Cannot feed value of shape () for Tensor 'random_mask:0', which has shape '(?, 648)'"
     ]
    }
   ],
   "source": [
    "with tf.Session() as sess:\n",
    "    sess.run(tf.global_variables_initializer())\n",
    "    saver.restore(sess, data_path + save_name)\n",
    "    test_dictionary = create_feed_dictionary(test_data, params)\n",
    "    tf_results = sess.run(tensorflow_run_tuple, feed_dict=test_dictionary)\n",
    "\n",
    "test_set_results = {}\n",
    "for i,key in enumerate(autoencoder_network.keys()):\n",
    "    test_set_results[key] = tf_results[i]"
   ]
  },
  {
   "cell_type": "code",
   "execution_count": 154,
   "metadata": {},
   "outputs": [],
   "source": [
    "true_coefficients = np.zeros(test_set_results['sindy_coefficients'].shape)\n",
    "true_coefficients[-2] = -1.\n",
    "\n",
    "z_sim = np.zeros((n_ics, t.size, 2))\n",
    "pendulum_sim = np.zeros(z_sim.shape)\n",
    "mc_num = 10\n",
    "mc_z_sim = np.zeros((mc_num, n_ics, t.size, 2))\n",
    "for i in range(n_ics):\n",
    "    z_sim[i] = sindy_simulate_order2(test_set_results['z'][i*t.size], test_set_results['dz'][i*t.size], t,\n",
    "                                     params['coefficient_mask']*test_set_results['sindy_coefficients'],\n",
    "                                     params['poly_order'], params['include_sine'])\n",
    "    for j in range(mc_num):\n",
    "#         mc_z_sim[j,i] = sindy_simulate_order2(test_set_results['z'][i*t.size], test_set_results['dz'][i*t.size], t,\n",
    "#                                      (params['coefficient_mask'].T*arr_truncate[j*8]).T,\n",
    "#                                      params['poly_order'], params['include_sine'])\n",
    "        coeff = arr_truncate[j*8].reshape(12, 1)\n",
    "        mc_z_sim[j,i] = sindy_simulate_order2(test_set_results['z'][i*t.size], test_set_results['dz'][i*t.size], t,\n",
    "                                     params['coefficient_mask']*coeff,\n",
    "                                     params['poly_order'], params['include_sine'])\n",
    "    pendulum_sim[i] = sindy_simulate_order2(test_data['z'][i*t.size], test_data['dz'][i*t.size], t,\n",
    "                                            true_coefficients,\n",
    "                                            params['poly_order'], params['include_sine'])"
   ]
  },
  {
   "cell_type": "code",
   "execution_count": 155,
   "metadata": {},
   "outputs": [
    {
     "data": {
      "text/plain": [
       "array([-0.00371719, -0.03170317, -0.04620611,  0.03559589, -0.01867101,\n",
       "       -0.03888724,  0.02106883,  0.05354684,  0.00639916,  0.00312219,\n",
       "       -1.12888968,  0.03559225])"
      ]
     },
     "execution_count": 155,
     "metadata": {},
     "output_type": "execute_result"
    }
   ],
   "source": [
    "arr_truncate[0]"
   ]
  },
  {
   "cell_type": "code",
   "execution_count": 156,
   "metadata": {},
   "outputs": [
    {
     "data": {
      "text/plain": [
       "(10, 6, 5000, 2)"
      ]
     },
     "execution_count": 156,
     "metadata": {},
     "output_type": "execute_result"
    }
   ],
   "source": [
    "mc_z_sim.shape"
   ]
  },
  {
   "cell_type": "code",
   "execution_count": 157,
   "metadata": {},
   "outputs": [
    {
     "data": {
      "text/plain": [
       "([], [])"
      ]
     },
     "execution_count": 157,
     "metadata": {},
     "output_type": "execute_result"
    },
    {
     "data": {
      "image/png": "[encoded data removed]",
      "text/plain": [
       "<Figure size 288x216 with 1 Axes>"
      ]
     },
     "metadata": {},
     "output_type": "display_data"
    },
    {
     "data": {
      "image/png": "[encoded data removed]",
      "text/plain": [
       "<Figure size 288x216 with 1 Axes>"
      ]
     },
     "metadata": {},
     "output_type": "display_data"
    }
   ],
   "source": [
    "plt.figure(figsize=(4,3))\n",
    "plt.plot(z_sim[:,:,0].T, z_sim[:,:,1].T, linewidth=2, color='#2071B1')\n",
    "plt.axis('equal')\n",
    "plt.axis('off')\n",
    "plt.xticks([])\n",
    "plt.yticks([])\n",
    "\n",
    "plt.figure(figsize=(4,3))\n",
    "plt.plot(pendulum_sim[:,:,0].T, pendulum_sim[:,:,1].T, linewidth=2, color='#2071B1')\n",
    "plt.axis('equal')\n",
    "plt.axis('off')\n",
    "plt.xticks([])\n",
    "plt.yticks([])"
   ]
  },
  {
   "cell_type": "code",
   "execution_count": 158,
   "metadata": {},
   "outputs": [
    {
     "data": {
      "text/plain": [
       "(-249.95000000000002, 5248.95, -2.1052295078905, 2.1314066540157586)"
      ]
     },
     "execution_count": 158,
     "metadata": {},
     "output_type": "execute_result"
    },
    {
     "data": {
      "image/png": "[encoded data removed]",
      "text/plain": [
       "<Figure size 216x144 with 1 Axes>"
      ]
     },
     "metadata": {},
     "output_type": "display_data"
    }
   ],
   "source": [
    "ic_idx = 1\n",
    "\n",
    "plt.figure(figsize=(3,2))\n",
    "plt.subplot(2,1,1)\n",
    "plt.plot(test_set_results['z'][ic_idx*t.size:(ic_idx+1)*t.size,0], 'k', color='#888888', linewidth=2)\n",
    "plt.plot(z_sim[ic_idx,:,0], '--', linewidth=2)\n",
    "plt.xticks([])\n",
    "plt.yticks([])\n",
    "plt.axis('off')"
   ]
  },
  {
   "cell_type": "code",
   "execution_count": 159,
   "metadata": {},
   "outputs": [
    {
     "data": {
      "text/plain": [
       "(-249.95000000000002, 5248.95, -2.10651012514814, 2.131467635789932)"
      ]
     },
     "execution_count": 159,
     "metadata": {},
     "output_type": "execute_result"
    },
    {
     "data": {
      "image/png": "[encoded data removed]",
      "text/plain": [
       "<Figure size 216x144 with 1 Axes>"
      ]
     },
     "metadata": {},
     "output_type": "display_data"
    }
   ],
   "source": [
    "ic_idx = 1\n",
    "\n",
    "plt.figure(figsize=(3,2))\n",
    "plt.subplot(2,1,1)\n",
    "plt.plot(test_set_results['z'][ic_idx*t.size:(ic_idx+1)*t.size,0], 'k', color='#888888', linewidth=2)\n",
    "# plt.plot(z_sim[ic_idx,:,0], '--', linewidth=2)\n",
    "plt.plot(np.mean(mc_z_sim[:, ic_idx,:,0], axis=0), '--', linewidth=2)\n",
    "plt.xticks([])\n",
    "plt.yticks([])\n",
    "plt.axis('off')"
   ]
  },
  {
   "cell_type": "code",
   "execution_count": 239,
   "metadata": {},
   "outputs": [
    {
     "data": {
      "text/plain": [
       "Text(0.5, 0, 'Time')"
      ]
     },
     "execution_count": 239,
     "metadata": {},
     "output_type": "execute_result"
    },
    {
     "data": {
      "image/png": "[encoded data removed]",
      "text/plain": [
       "<Figure size 576x144 with 1 Axes>"
      ]
     },
     "metadata": {
      "needs_background": "light"
     },
     "output_type": "display_data"
    }
   ],
   "source": [
    "ic_idx = 5\n",
    "\n",
    "plt.figure(figsize=(8,2))\n",
    "plt.subplot(2,1,1)\n",
    "plt.plot(t, test_set_results['z'][ic_idx*t.size:(ic_idx+1)*t.size,0], 'k', color='#888888', linewidth=2)\n",
    "# plt.plot(z_sim[ic_idx,:,0], '--', linewidth=2)\n",
    "plt.plot(t, np.mean(mc_z_sim[:, ic_idx,:,0], axis=0), '--', linewidth=2)\n",
    "plt.fill_between(t, np.mean(mc_z_sim[:, ic_idx,:,0], axis=0)-np.std(mc_z_sim[:, ic_idx,:,0], axis=0),\n",
    "                np.mean(mc_z_sim[:, ic_idx,:,0], axis=0)+np.std(mc_z_sim[:, ic_idx,:,0], axis=0), alpha=0.3)\n",
    "plt.xticks([0, 20, 40, 60, 80, 100])\n",
    "# plt.xticks([])\n",
    "plt.yticks([])\n",
    "plt.xlabel('Time')\n",
    "# plt.figure(figsize=(100,2))\n",
    "# plt.axes([0, 0.6, 1, 1])\n",
    "# plt.axis('off')"
   ]
  },
  {
   "cell_type": "code",
   "execution_count": 11,
   "metadata": {},
   "outputs": [],
   "source": [
    "test_data = get_pendulum_data(10)"
   ]
  },
  {
   "cell_type": "code",
   "execution_count": 12,
   "metadata": {},
   "outputs": [
    {
     "name": "stdout",
     "output_type": "stream",
     "text": [
      "INFO:tensorflow:Restoring parameters from /home/marsgao/BayesianSindyAutoencoder/exmaples/pendulum/model16\n"
     ]
    }
   ],
   "source": [
    "with tf.Session() as sess:\n",
    "    sess.run(tf.global_variables_initializer())\n",
    "    saver.restore(sess, data_path + save_name)\n",
    "    test_dictionary = create_feed_dictionary(test_data, params)\n",
    "    tf_results = sess.run(tensorflow_run_tuple, feed_dict=test_dictionary)\n",
    "\n",
    "test_set_results = {}\n",
    "for i,key in enumerate(autoencoder_network.keys()):\n",
    "    test_set_results[key] = tf_results[i]"
   ]
  },
  {
   "cell_type": "code",
   "execution_count": 50,
   "metadata": {},
   "outputs": [
    {
     "ename": "NameError",
     "evalue": "name 'test_data' is not defined",
     "output_type": "error",
     "traceback": [
      "\u001b[0;31m---------------------------------------------------------------------------\u001b[0m",
      "\u001b[0;31mNameError\u001b[0m                                 Traceback (most recent call last)",
      "\u001b[0;32m/tmp/ipykernel_1198649/3376212785.py\u001b[0m in \u001b[0;36m<module>\u001b[0;34m\u001b[0m\n\u001b[0;32m----> 1\u001b[0;31m \u001b[0mdecoder_x_error\u001b[0m \u001b[0;34m=\u001b[0m \u001b[0mnp\u001b[0m\u001b[0;34m.\u001b[0m\u001b[0mmean\u001b[0m\u001b[0;34m(\u001b[0m\u001b[0;34m(\u001b[0m\u001b[0mtest_data\u001b[0m\u001b[0;34m[\u001b[0m\u001b[0;34m'x'\u001b[0m\u001b[0;34m]\u001b[0m \u001b[0;34m-\u001b[0m \u001b[0mtest_set_results\u001b[0m\u001b[0;34m[\u001b[0m\u001b[0;34m'x_decode'\u001b[0m\u001b[0;34m]\u001b[0m\u001b[0;34m)\u001b[0m\u001b[0;34m**\u001b[0m\u001b[0;36m2\u001b[0m\u001b[0;34m)\u001b[0m\u001b[0;34m/\u001b[0m\u001b[0mnp\u001b[0m\u001b[0;34m.\u001b[0m\u001b[0mmean\u001b[0m\u001b[0;34m(\u001b[0m\u001b[0mtest_data\u001b[0m\u001b[0;34m[\u001b[0m\u001b[0;34m'x'\u001b[0m\u001b[0;34m]\u001b[0m\u001b[0;34m**\u001b[0m\u001b[0;36m2\u001b[0m\u001b[0;34m)\u001b[0m\u001b[0;34m\u001b[0m\u001b[0;34m\u001b[0m\u001b[0m\n\u001b[0m\u001b[1;32m      2\u001b[0m \u001b[0mdecoder_ddx_error\u001b[0m \u001b[0;34m=\u001b[0m \u001b[0mnp\u001b[0m\u001b[0;34m.\u001b[0m\u001b[0mmean\u001b[0m\u001b[0;34m(\u001b[0m\u001b[0;34m(\u001b[0m\u001b[0mtest_data\u001b[0m\u001b[0;34m[\u001b[0m\u001b[0;34m'ddx'\u001b[0m\u001b[0;34m]\u001b[0m \u001b[0;34m-\u001b[0m \u001b[0mtest_set_results\u001b[0m\u001b[0;34m[\u001b[0m\u001b[0;34m'ddx_decode'\u001b[0m\u001b[0;34m]\u001b[0m\u001b[0;34m)\u001b[0m\u001b[0;34m**\u001b[0m\u001b[0;36m2\u001b[0m\u001b[0;34m)\u001b[0m\u001b[0;34m/\u001b[0m\u001b[0mnp\u001b[0m\u001b[0;34m.\u001b[0m\u001b[0mmean\u001b[0m\u001b[0;34m(\u001b[0m\u001b[0mtest_data\u001b[0m\u001b[0;34m[\u001b[0m\u001b[0;34m'ddx'\u001b[0m\u001b[0;34m]\u001b[0m\u001b[0;34m**\u001b[0m\u001b[0;36m2\u001b[0m\u001b[0;34m)\u001b[0m\u001b[0;34m\u001b[0m\u001b[0;34m\u001b[0m\u001b[0m\n\u001b[1;32m      3\u001b[0m \u001b[0msindy_ddz_error\u001b[0m \u001b[0;34m=\u001b[0m \u001b[0mnp\u001b[0m\u001b[0;34m.\u001b[0m\u001b[0mmean\u001b[0m\u001b[0;34m(\u001b[0m\u001b[0;34m(\u001b[0m\u001b[0mtest_set_results\u001b[0m\u001b[0;34m[\u001b[0m\u001b[0;34m'ddz'\u001b[0m\u001b[0;34m]\u001b[0m \u001b[0;34m-\u001b[0m \u001b[0mtest_set_results\u001b[0m\u001b[0;34m[\u001b[0m\u001b[0;34m'ddz_predict'\u001b[0m\u001b[0;34m]\u001b[0m\u001b[0;34m)\u001b[0m\u001b[0;34m**\u001b[0m\u001b[0;36m2\u001b[0m\u001b[0;34m)\u001b[0m\u001b[0;34m/\u001b[0m\u001b[0mnp\u001b[0m\u001b[0;34m.\u001b[0m\u001b[0mmean\u001b[0m\u001b[0;34m(\u001b[0m\u001b[0mtest_set_results\u001b[0m\u001b[0;34m[\u001b[0m\u001b[0;34m'ddz'\u001b[0m\u001b[0;34m]\u001b[0m\u001b[0;34m**\u001b[0m\u001b[0;36m2\u001b[0m\u001b[0;34m)\u001b[0m\u001b[0;34m\u001b[0m\u001b[0;34m\u001b[0m\u001b[0m\n\u001b[1;32m      4\u001b[0m \u001b[0;34m\u001b[0m\u001b[0m\n\u001b[1;32m      5\u001b[0m \u001b[0mprint\u001b[0m\u001b[0;34m(\u001b[0m\u001b[0;34m'Decoder relative error: %f'\u001b[0m \u001b[0;34m%\u001b[0m \u001b[0mdecoder_x_error\u001b[0m\u001b[0;34m)\u001b[0m\u001b[0;34m\u001b[0m\u001b[0;34m\u001b[0m\u001b[0m\n",
      "\u001b[0;31mNameError\u001b[0m: name 'test_data' is not defined"
     ]
    }
   ],
   "source": [
    "decoder_x_error = np.mean((test_data['x'] - test_set_results['x_decode'])**2)/np.mean(test_data['x']**2)\n",
    "decoder_ddx_error = np.mean((test_data['ddx'] - test_set_results['ddx_decode'])**2)/np.mean(test_data['ddx']**2)\n",
    "sindy_ddz_error = np.mean((test_set_results['ddz'] - test_set_results['ddz_predict'])**2)/np.mean(test_set_results['ddz']**2)\n",
    "\n",
    "print('Decoder relative error: %f' % decoder_x_error)\n",
    "print('Decoder relative SINDy error: %f' % decoder_ddx_error)\n",
    "print('SINDy reltive error, z: %f' % sindy_ddz_error)"
   ]
  },
  {
   "cell_type": "code",
   "execution_count": null,
   "metadata": {},
   "outputs": [],
   "source": []
  }
 ],
 "metadata": {
  "kernelspec": {
   "display_name": "mars",
   "language": "python",
   "name": "mars"
  },
  "language_info": {
   "codemirror_mode": {
    "name": "ipython",
    "version": 3
   },
   "file_extension": ".py",
   "mimetype": "text/x-python",
   "name": "python",
   "nbconvert_exporter": "python",
   "pygments_lexer": "ipython3",
   "version": "3.7.13"
  },
  "toc": {
   "base_numbering": 1,
   "nav_menu": {},
   "number_sections": true,
   "sideBar": true,
   "skip_h1_title": false,
   "title_cell": "Table of Contents",
   "title_sidebar": "Contents",
   "toc_cell": false,
   "toc_position": {},
   "toc_section_display": true,
   "toc_window_display": false
  },
  "varInspector": {
   "cols": {
    "lenName": 16,
    "lenType": 16,
    "lenVar": 40
   },
   "kernels_config": {
    "python": {
     "delete_cmd_postfix": "",
     "delete_cmd_prefix": "del ",
     "library": "var_list.py",
     "varRefreshCmd": "print(var_dic_list())"
    },
    "r": {
     "delete_cmd_postfix": ") ",
     "delete_cmd_prefix": "rm(",
     "library": "var_list.r",
     "varRefreshCmd": "cat(var_dic_list()) "
    }
   },
   "types_to_exclude": [
    "module",
    "function",
    "builtin_function_or_method",
    "instance",
    "_Feature"
   ],
   "window_display": false
  }
 },
 "nbformat": 4,
 "nbformat_minor": 2
}
