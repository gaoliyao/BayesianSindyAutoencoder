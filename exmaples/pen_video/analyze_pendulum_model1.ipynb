{
 "cells": [
  {
   "cell_type": "code",
   "execution_count": 1,
   "metadata": {},
   "outputs": [
    {
     "name": "stderr",
     "output_type": "stream",
     "text": [
      "/home/marsgao/.conda/envs/mars/lib/python3.7/site-packages/tensorflow/python/framework/dtypes.py:516: FutureWarning: Passing (type, 1) or '1type' as a synonym of type is deprecated; in a future version of numpy, it will be understood as (type, (1,)) / '(1,)type'.\n",
      "  _np_qint8 = np.dtype([(\"qint8\", np.int8, 1)])\n",
      "/home/marsgao/.conda/envs/mars/lib/python3.7/site-packages/tensorflow/python/framework/dtypes.py:517: FutureWarning: Passing (type, 1) or '1type' as a synonym of type is deprecated; in a future version of numpy, it will be understood as (type, (1,)) / '(1,)type'.\n",
      "  _np_quint8 = np.dtype([(\"quint8\", np.uint8, 1)])\n",
      "/home/marsgao/.conda/envs/mars/lib/python3.7/site-packages/tensorflow/python/framework/dtypes.py:518: FutureWarning: Passing (type, 1) or '1type' as a synonym of type is deprecated; in a future version of numpy, it will be understood as (type, (1,)) / '(1,)type'.\n",
      "  _np_qint16 = np.dtype([(\"qint16\", np.int16, 1)])\n",
      "/home/marsgao/.conda/envs/mars/lib/python3.7/site-packages/tensorflow/python/framework/dtypes.py:519: FutureWarning: Passing (type, 1) or '1type' as a synonym of type is deprecated; in a future version of numpy, it will be understood as (type, (1,)) / '(1,)type'.\n",
      "  _np_quint16 = np.dtype([(\"quint16\", np.uint16, 1)])\n",
      "/home/marsgao/.conda/envs/mars/lib/python3.7/site-packages/tensorflow/python/framework/dtypes.py:520: FutureWarning: Passing (type, 1) or '1type' as a synonym of type is deprecated; in a future version of numpy, it will be understood as (type, (1,)) / '(1,)type'.\n",
      "  _np_qint32 = np.dtype([(\"qint32\", np.int32, 1)])\n",
      "/home/marsgao/.conda/envs/mars/lib/python3.7/site-packages/tensorflow/python/framework/dtypes.py:525: FutureWarning: Passing (type, 1) or '1type' as a synonym of type is deprecated; in a future version of numpy, it will be understood as (type, (1,)) / '(1,)type'.\n",
      "  np_resource = np.dtype([(\"resource\", np.ubyte, 1)])\n",
      "/home/marsgao/.conda/envs/mars/lib/python3.7/site-packages/tensorboard/compat/tensorflow_stub/dtypes.py:541: FutureWarning: Passing (type, 1) or '1type' as a synonym of type is deprecated; in a future version of numpy, it will be understood as (type, (1,)) / '(1,)type'.\n",
      "  _np_qint8 = np.dtype([(\"qint8\", np.int8, 1)])\n",
      "/home/marsgao/.conda/envs/mars/lib/python3.7/site-packages/tensorboard/compat/tensorflow_stub/dtypes.py:542: FutureWarning: Passing (type, 1) or '1type' as a synonym of type is deprecated; in a future version of numpy, it will be understood as (type, (1,)) / '(1,)type'.\n",
      "  _np_quint8 = np.dtype([(\"quint8\", np.uint8, 1)])\n",
      "/home/marsgao/.conda/envs/mars/lib/python3.7/site-packages/tensorboard/compat/tensorflow_stub/dtypes.py:543: FutureWarning: Passing (type, 1) or '1type' as a synonym of type is deprecated; in a future version of numpy, it will be understood as (type, (1,)) / '(1,)type'.\n",
      "  _np_qint16 = np.dtype([(\"qint16\", np.int16, 1)])\n",
      "/home/marsgao/.conda/envs/mars/lib/python3.7/site-packages/tensorboard/compat/tensorflow_stub/dtypes.py:544: FutureWarning: Passing (type, 1) or '1type' as a synonym of type is deprecated; in a future version of numpy, it will be understood as (type, (1,)) / '(1,)type'.\n",
      "  _np_quint16 = np.dtype([(\"quint16\", np.uint16, 1)])\n",
      "/home/marsgao/.conda/envs/mars/lib/python3.7/site-packages/tensorboard/compat/tensorflow_stub/dtypes.py:545: FutureWarning: Passing (type, 1) or '1type' as a synonym of type is deprecated; in a future version of numpy, it will be understood as (type, (1,)) / '(1,)type'.\n",
      "  _np_qint32 = np.dtype([(\"qint32\", np.int32, 1)])\n",
      "/home/marsgao/.conda/envs/mars/lib/python3.7/site-packages/tensorboard/compat/tensorflow_stub/dtypes.py:550: FutureWarning: Passing (type, 1) or '1type' as a synonym of type is deprecated; in a future version of numpy, it will be understood as (type, (1,)) / '(1,)type'.\n",
      "  np_resource = np.dtype([(\"resource\", np.ubyte, 1)])\n"
     ]
    }
   ],
   "source": [
    "import sys\n",
    "sys.path.append(\"../../src\")\n",
    "import os\n",
    "os.environ[\"CUDA_VISIBLE_DEVICES\"] = \"-1\"\n",
    "import numpy as np\n",
    "import pickle\n",
    "from example_pendulum import load_pendulum_data\n",
    "from scipy.integrate import odeint\n",
    "from autoencoder_pendulum_masked import full_network\n",
    "from training_pendulum import create_feed_dictionary\n",
    "from sindy_utils import sindy_simulate_order2\n",
    "import tensorflow as tf\n",
    "import matplotlib.pyplot as plt\n",
    "from mpl_toolkits.mplot3d import Axes3D\n",
    "%matplotlib inline"
   ]
  },
  {
   "cell_type": "code",
   "execution_count": 2,
   "metadata": {},
   "outputs": [
    {
     "name": "stdout",
     "output_type": "stream",
     "text": [
      "WARNING:tensorflow:From ../../src/autoencoder_pendulum_masked.py:30: The name tf.placeholder is deprecated. Please use tf.compat.v1.placeholder instead.\n",
      "\n",
      "WARNING:tensorflow:From ../../src/autoencoder_pendulum_masked.py:271: The name tf.get_variable is deprecated. Please use tf.compat.v1.get_variable instead.\n",
      "\n",
      "WARNING:tensorflow:From /tmp/ipykernel_40223/3991592058.py:8: The name tf.train.Saver is deprecated. Please use tf.compat.v1.train.Saver instead.\n",
      "\n",
      "WARNING:tensorflow:From /tmp/ipykernel_40223/3991592058.py:8: The name tf.get_collection is deprecated. Please use tf.compat.v1.get_collection instead.\n",
      "\n",
      "WARNING:tensorflow:From /tmp/ipykernel_40223/3991592058.py:8: The name tf.GraphKeys is deprecated. Please use tf.compat.v1.GraphKeys instead.\n",
      "\n"
     ]
    }
   ],
   "source": [
    "data_path = os.getcwd() + '/'\n",
    "save_name = 'model0'\n",
    "params = pickle.load(open(data_path + save_name + '_params.pkl', 'rb'))\n",
    "params['save_name'] = data_path + save_name\n",
    "\n",
    "autoencoder_network = full_network(params)\n",
    "learning_rate = tf.placeholder(tf.float32, name='learning_rate')\n",
    "saver = tf.train.Saver(var_list=tf.get_collection(tf.GraphKeys.GLOBAL_VARIABLES))\n",
    "\n",
    "tensorflow_run_tuple = ()\n",
    "for key in autoencoder_network.keys():\n",
    "    tensorflow_run_tuple += (autoencoder_network[key],)"
   ]
  },
  {
   "cell_type": "markdown",
   "metadata": {},
   "source": [
    "## Single trajectory plots"
   ]
  },
  {
   "cell_type": "code",
   "execution_count": 3,
   "metadata": {},
   "outputs": [
    {
     "name": "stdout",
     "output_type": "stream",
     "text": [
      "data_test['x'].shape (8, 648)\n",
      "data_test['dx'].shape (8, 648)\n",
      "data_test['ddx'].shape (8, 648)\n"
     ]
    }
   ],
   "source": [
    "training_data, validation_data = load_pendulum_data()\n",
    "\n",
    "x,dx,ddx = validation_data['x'], validation_data['dx'], validation_data['ddx']"
   ]
  },
  {
   "cell_type": "code",
   "execution_count": 4,
   "metadata": {},
   "outputs": [
    {
     "name": "stdout",
     "output_type": "stream",
     "text": [
      "data_test['x'].shape (8, 648)\n",
      "data_test['dx'].shape (8, 648)\n",
      "data_test['ddx'].shape (8, 648)\n"
     ]
    },
    {
     "data": {
      "text/plain": [
       "(382, 648)"
      ]
     },
     "execution_count": 4,
     "metadata": {},
     "output_type": "execute_result"
    }
   ],
   "source": [
    "training_data, validation_data = load_pendulum_data()\n",
    "\n",
    "x,dx,ddx = training_data['x'], training_data['dx'], training_data['ddx']\n",
    "x.shape"
   ]
  },
  {
   "cell_type": "code",
   "execution_count": 5,
   "metadata": {},
   "outputs": [],
   "source": [
    "test_data = {}\n",
    "test_data['x'] = x.reshape((-1,params['input_dim']))\n",
    "test_data['dx'] = dx.reshape((-1,params['input_dim']))\n",
    "test_data['ddx'] = ddx.reshape((-1,params['input_dim']))"
   ]
  },
  {
   "cell_type": "code",
   "execution_count": 6,
   "metadata": {},
   "outputs": [
    {
     "name": "stdout",
     "output_type": "stream",
     "text": [
      "WARNING:tensorflow:From /tmp/ipykernel_40223/848654921.py:1: The name tf.Session is deprecated. Please use tf.compat.v1.Session instead.\n",
      "\n",
      "WARNING:tensorflow:From /home/marsgao/.conda/envs/mars/lib/python3.7/site-packages/tensorflow/python/training/saver.py:1276: checkpoint_exists (from tensorflow.python.training.checkpoint_management) is deprecated and will be removed in a future version.\n",
      "Instructions for updating:\n",
      "Use standard file APIs to check for files with this prefix.\n",
      "INFO:tensorflow:Restoring parameters from /home/marsgao/SindyAutoencoders/examples/pen_video/model0\n"
     ]
    },
    {
     "name": "stderr",
     "output_type": "stream",
     "text": [
      "2022-09-08 23:02:12.458240: I tensorflow/stream_executor/platform/default/dso_loader.cc:42] Successfully opened dynamic library libcuda.so.1\n",
      "2022-09-08 23:02:12.523151: E tensorflow/stream_executor/cuda/cuda_driver.cc:318] failed call to cuInit: CUDA_ERROR_NO_DEVICE: no CUDA-capable device is detected\n",
      "2022-09-08 23:02:12.523253: I tensorflow/stream_executor/cuda/cuda_diagnostics.cc:169] retrieving CUDA diagnostic information for host: lambda\n",
      "2022-09-08 23:02:12.523275: I tensorflow/stream_executor/cuda/cuda_diagnostics.cc:176] hostname: lambda\n",
      "2022-09-08 23:02:12.523479: I tensorflow/stream_executor/cuda/cuda_diagnostics.cc:200] libcuda reported version is: 515.65.1\n",
      "2022-09-08 23:02:12.523537: I tensorflow/stream_executor/cuda/cuda_diagnostics.cc:204] kernel reported version is: 515.65.1\n",
      "2022-09-08 23:02:12.523553: I tensorflow/stream_executor/cuda/cuda_diagnostics.cc:310] kernel version seems to match DSO: 515.65.1\n",
      "2022-09-08 23:02:12.525185: I tensorflow/core/platform/cpu_feature_guard.cc:142] Your CPU supports instructions that this TensorFlow binary was not compiled to use: SSE4.1 SSE4.2 AVX AVX2 AVX512F FMA\n",
      "2022-09-08 23:02:12.536714: I tensorflow/core/platform/profile_utils/cpu_utils.cc:94] CPU Frequency: 2899885000 Hz\n",
      "2022-09-08 23:02:12.538466: I tensorflow/compiler/xla/service/service.cc:168] XLA service 0x55d8b50ef8c0 executing computations on platform Host. Devices:\n",
      "2022-09-08 23:02:12.538503: I tensorflow/compiler/xla/service/service.cc:175]   StreamExecutor device (0): <undefined>, <undefined>\n",
      "2022-09-08 23:02:12.586005: W tensorflow/compiler/jit/mark_for_compilation_pass.cc:1412] (One-time warning): Not using XLA:CPU for cluster because envvar TF_XLA_FLAGS=--tf_xla_cpu_global_jit was not set.  If you want XLA:CPU, either set that envvar, or use experimental_jit_scope to enable XLA:CPU.  To confirm that XLA is active, pass --vmodule=xla_compilation_cache=1 (as a proper command-line flag, not via TF_XLA_FLAGS) or set the envvar XLA_FLAGS=--xla_hlo_profile.\n"
     ]
    }
   ],
   "source": [
    "with tf.Session() as sess:\n",
    "    sess.run(tf.global_variables_initializer())\n",
    "    saver.restore(sess, data_path + save_name)\n",
    "    random_mask = np.random.binomial(1, 1.0, size=(382, 648))\n",
    "    test_dictionary = create_feed_dictionary(test_data, params,random_mask=random_mask)\n",
    "    tf_results = sess.run(tensorflow_run_tuple, feed_dict=test_dictionary)\n",
    "\n",
    "test_set_results = {}\n",
    "for i,key in enumerate(autoencoder_network.keys()):\n",
    "    test_set_results[key] = tf_results[i]"
   ]
  },
  {
   "cell_type": "code",
   "execution_count": 8,
   "metadata": {},
   "outputs": [
    {
     "ename": "NameError",
     "evalue": "name 't_train' is not defined",
     "output_type": "error",
     "traceback": [
      "\u001b[0;31m---------------------------------------------------------------------------\u001b[0m",
      "\u001b[0;31mNameError\u001b[0m                                 Traceback (most recent call last)",
      "\u001b[0;32m/tmp/ipykernel_40223/635956353.py\u001b[0m in \u001b[0;36m<module>\u001b[0;34m\u001b[0m\n\u001b[1;32m     28\u001b[0m \u001b[0;34m\u001b[0m\u001b[0m\n\u001b[1;32m     29\u001b[0m \u001b[0mfig\u001b[0m\u001b[0;34m,\u001b[0m \u001b[0maxs\u001b[0m \u001b[0;34m=\u001b[0m \u001b[0mplt\u001b[0m\u001b[0;34m.\u001b[0m\u001b[0msubplots\u001b[0m\u001b[0;34m(\u001b[0m\u001b[0;36m1\u001b[0m\u001b[0;34m,\u001b[0m \u001b[0;36m1\u001b[0m\u001b[0;34m,\u001b[0m \u001b[0mfigsize\u001b[0m\u001b[0;34m=\u001b[0m\u001b[0;34m(\u001b[0m\u001b[0;36m25\u001b[0m\u001b[0;34m,\u001b[0m \u001b[0;36m4\u001b[0m\u001b[0;34m)\u001b[0m\u001b[0;34m)\u001b[0m\u001b[0;34m\u001b[0m\u001b[0;34m\u001b[0m\u001b[0m\n\u001b[0;32m---> 30\u001b[0;31m \u001b[0maxs\u001b[0m\u001b[0;34m.\u001b[0m\u001b[0mplot\u001b[0m\u001b[0;34m(\u001b[0m\u001b[0mt_train\u001b[0m\u001b[0;34m,\u001b[0m \u001b[0mtheta_list\u001b[0m\u001b[0;34m[\u001b[0m\u001b[0;34m:\u001b[0m\u001b[0;36m382\u001b[0m\u001b[0;34m]\u001b[0m\u001b[0;34m,\u001b[0m \u001b[0;34m\"r\"\u001b[0m\u001b[0;34m,\u001b[0m \u001b[0mlabel\u001b[0m\u001b[0;34m=\u001b[0m\u001b[0;34m\"$x_0$\"\u001b[0m\u001b[0;34m,\u001b[0m \u001b[0mmarker\u001b[0m\u001b[0;34m=\u001b[0m\u001b[0;34m'o'\u001b[0m\u001b[0;34m,\u001b[0m \u001b[0;34m**\u001b[0m\u001b[0mplot_kws\u001b[0m\u001b[0;34m)\u001b[0m\u001b[0;34m\u001b[0m\u001b[0;34m\u001b[0m\u001b[0m\n\u001b[0m\u001b[1;32m     31\u001b[0m \u001b[0maxs\u001b[0m\u001b[0;34m.\u001b[0m\u001b[0mlegend\u001b[0m\u001b[0;34m(\u001b[0m\u001b[0;34m)\u001b[0m\u001b[0;34m\u001b[0m\u001b[0;34m\u001b[0m\u001b[0m\n\u001b[1;32m     32\u001b[0m \u001b[0maxs\u001b[0m\u001b[0;34m.\u001b[0m\u001b[0mset\u001b[0m\u001b[0;34m(\u001b[0m\u001b[0mxlabel\u001b[0m\u001b[0;34m=\u001b[0m\u001b[0;34m\"t\"\u001b[0m\u001b[0;34m,\u001b[0m \u001b[0mylabel\u001b[0m\u001b[0;34m=\u001b[0m\u001b[0;34m\"$x_k$\"\u001b[0m\u001b[0;34m)\u001b[0m\u001b[0;34m\u001b[0m\u001b[0;34m\u001b[0m\u001b[0m\n",
      "\u001b[0;31mNameError\u001b[0m: name 't_train' is not defined"
     ]
    },
    {
     "data": {
      "image/png": "[encoded data removed]",
      "text/plain": [
       "<Figure size 1800x288 with 1 Axes>"
      ]
     },
     "metadata": {
      "needs_background": "light"
     },
     "output_type": "display_data"
    }
   ],
   "source": [
    "x = np.load(\"x_gaussian.npy\")\n",
    "dx = np.load(\"dx_gaussian.npy\")\n",
    "ddx = np.load(\"ddx_gaussian.npy\")\n",
    "\n",
    "x = x.reshape(790, 27, 24)\n",
    "dx = dx.reshape(790, 27, 24)\n",
    "ddx = ddx.reshape(790, 27, 24)\n",
    "\n",
    "theta_list = []\n",
    "center = np.array([10.5, 11.5])\n",
    "for i in range(x.shape[0]):\n",
    "    active_indices = x[i].T > 0.1\n",
    "    coordinate_mean = np.zeros((2))\n",
    "    total_active = np.sum(active_indices)\n",
    "    for i1 in range(24):\n",
    "        for j1 in range(27):\n",
    "            if active_indices[i1,j1] == True:\n",
    "                coordinate_mean[0] += i1*1.0/total_active\n",
    "                coordinate_mean[1] += j1*1.0/total_active\n",
    "    theta = np.arctan((coordinate_mean[0]-center[0]) / (coordinate_mean[1]-center[1]))\n",
    "    theta_list.append(theta)\n",
    "\n",
    "theta = np.array(theta_list[:390])\n",
    "dtheta = np.gradient(theta, 0.034)\n",
    "ddtheta = np.gradient(dtheta, 0.034)\n",
    "\n",
    "plot_kws = dict(linewidth=2)\n",
    "\n",
    "fig, axs = plt.subplots(1, 1, figsize=(25, 4))\n",
    "axs.plot(t_train, theta_list[:382], \"r\", label=\"$x_0$\", marker='o', **plot_kws)\n",
    "axs.legend()\n",
    "axs.set(xlabel=\"t\", ylabel=\"$x_k$\")\n",
    "\n",
    "fig.show()"
   ]
  },
  {
   "cell_type": "code",
   "execution_count": null,
   "metadata": {},
   "outputs": [],
   "source": [
    "plot_kws = dict(linewidth=2)\n",
    "t_train = np.arange(382)\n",
    "fig, axs = plt.subplots(1, 1, figsize=(25, 4))\n",
    "axs.plot(t_train, (test_set_results['z']-5)/8, \"blue\", label=\"$x_0$\", **plot_kws)\n",
    "axs.plot(t_train, theta_list[:382], \"r\", label=\"$x_0$\", marker='o', **plot_kws)\n",
    "axs.legend()\n",
    "axs.set(xlabel=\"t\", ylabel=\"$x_k$\")\n",
    "\n",
    "fig.show()"
   ]
  },
  {
   "cell_type": "code",
   "execution_count": 9,
   "metadata": {},
   "outputs": [
    {
     "data": {
      "text/plain": [
       "array([[-1.27761507e+00],\n",
       "       [-1.14221978e+00],\n",
       "       [-1.31838627e+01],\n",
       "       [-2.11792737e-01],\n",
       "       [-1.37445760e+00],\n",
       "       [-2.36720896e+00],\n",
       "       [-3.07240319e+00],\n",
       "       [-4.75340271e+00],\n",
       "       [-1.79470992e+00],\n",
       "       [-1.90255535e+00],\n",
       "       [-1.13219094e+00],\n",
       "       [-1.53843355e+00],\n",
       "       [-1.69780123e+00],\n",
       "       [-1.44016194e+00],\n",
       "       [-1.09041214e+00],\n",
       "       [-1.17768455e+00],\n",
       "       [-1.04188895e+00],\n",
       "       [-1.13461852e+00],\n",
       "       [-1.03780365e+00],\n",
       "       [-1.15357590e+00],\n",
       "       [-9.68938112e-01],\n",
       "       [-8.73913884e-01],\n",
       "       [-8.71650457e-01],\n",
       "       [-9.20796394e-01],\n",
       "       [-7.05320895e-01],\n",
       "       [-4.15255070e-01],\n",
       "       [-2.18708158e-01],\n",
       "       [ 6.55891374e-02],\n",
       "       [ 3.32543314e-01],\n",
       "       [ 6.49759114e-01],\n",
       "       [ 8.33094656e-01],\n",
       "       [ 1.11265242e+00],\n",
       "       [ 1.06110191e+00],\n",
       "       [ 9.87653971e-01],\n",
       "       [ 1.01260316e+00],\n",
       "       [ 1.12002075e+00],\n",
       "       [ 9.54678714e-01],\n",
       "       [ 1.09589362e+00],\n",
       "       [ 1.17562592e+00],\n",
       "       [ 1.13079298e+00],\n",
       "       [ 1.12138164e+00],\n",
       "       [ 1.34715891e+00],\n",
       "       [ 1.70176291e+00],\n",
       "       [ 1.35896468e+00],\n",
       "       [ 1.35583735e+00],\n",
       "       [ 1.34783626e+00],\n",
       "       [ 1.30936718e+00],\n",
       "       [ 1.71732032e+00],\n",
       "       [ 4.47475958e+00],\n",
       "       [ 3.46721101e+00],\n",
       "       [ 3.17083955e+00],\n",
       "       [ 1.45655465e+00],\n",
       "       [ 1.05286064e-02],\n",
       "       [ 8.68751466e-01],\n",
       "       [ 3.84869671e+00],\n",
       "       [ 3.25484991e+00],\n",
       "       [ 1.70776576e-01],\n",
       "       [ 1.25404909e-01],\n",
       "       [-4.62883353e-01],\n",
       "       [-5.30252039e-01],\n",
       "       [-2.68110752e+00],\n",
       "       [-7.41096973e+00],\n",
       "       [-1.20243740e+01],\n",
       "       [-1.73636055e+00],\n",
       "       [-1.24920607e+00],\n",
       "       [-2.20528984e+00],\n",
       "       [-4.27887774e+00],\n",
       "       [-2.52082396e+00],\n",
       "       [-3.40868664e+00],\n",
       "       [-1.73795056e+00],\n",
       "       [-1.61313808e+00],\n",
       "       [-1.12073112e+00],\n",
       "       [-1.57325947e+00],\n",
       "       [-1.38423777e+00],\n",
       "       [-1.41047502e+00],\n",
       "       [-1.13532329e+00],\n",
       "       [-1.03974283e+00],\n",
       "       [-1.07831335e+00],\n",
       "       [-1.04657936e+00],\n",
       "       [-9.80752707e-01],\n",
       "       [-8.27055573e-01],\n",
       "       [-9.06764030e-01],\n",
       "       [-6.93951488e-01],\n",
       "       [-6.28017247e-01],\n",
       "       [-5.21079481e-01],\n",
       "       [-4.17679697e-01],\n",
       "       [-2.70528525e-01],\n",
       "       [-8.91645849e-02],\n",
       "       [ 9.71706212e-02],\n",
       "       [ 3.07697296e-01],\n",
       "       [ 4.66061860e-01],\n",
       "       [ 5.92143416e-01],\n",
       "       [ 6.83607578e-01],\n",
       "       [ 6.89968169e-01],\n",
       "       [ 7.80258775e-01],\n",
       "       [ 9.71058726e-01],\n",
       "       [ 9.36334312e-01],\n",
       "       [ 9.98987794e-01],\n",
       "       [ 1.06486547e+00],\n",
       "       [ 1.01319134e+00],\n",
       "       [ 1.08450389e+00],\n",
       "       [ 1.25747275e+00],\n",
       "       [ 1.39520121e+00],\n",
       "       [ 1.40414631e+00],\n",
       "       [ 1.16006279e+00],\n",
       "       [ 1.20961988e+00],\n",
       "       [ 1.38506413e+00],\n",
       "       [ 1.20154810e+00],\n",
       "       [ 1.95986772e+00],\n",
       "       [ 3.65931225e+00],\n",
       "       [ 3.89151955e+00],\n",
       "       [ 3.86756396e+00],\n",
       "       [ 1.85362411e+00],\n",
       "       [ 1.23378348e+00],\n",
       "       [ 1.13426052e-01],\n",
       "       [ 1.11113811e+00],\n",
       "       [ 1.18215017e-01],\n",
       "       [ 5.16820192e-01],\n",
       "       [-1.18036699e+00],\n",
       "       [-1.43406653e+00],\n",
       "       [-5.13942242e-01],\n",
       "       [-1.02171409e+00],\n",
       "       [-6.33570552e-01],\n",
       "       [-4.69415784e-01],\n",
       "       [-1.56681216e+00],\n",
       "       [-3.62197375e+00],\n",
       "       [-1.11501789e+00],\n",
       "       [-3.75158691e+00],\n",
       "       [-1.82134902e+00],\n",
       "       [-1.42367482e+00],\n",
       "       [-1.23582304e+00],\n",
       "       [-1.10491204e+00],\n",
       "       [-1.33302951e+00],\n",
       "       [-1.27365398e+00],\n",
       "       [-1.34065175e+00],\n",
       "       [-1.14489782e+00],\n",
       "       [-8.89213324e-01],\n",
       "       [-9.89219666e-01],\n",
       "       [-8.11533689e-01],\n",
       "       [-8.94962430e-01],\n",
       "       [-8.42068315e-01],\n",
       "       [-6.66975796e-01],\n",
       "       [-7.07859039e-01],\n",
       "       [-5.27775168e-01],\n",
       "       [-3.96910161e-01],\n",
       "       [-3.19191039e-01],\n",
       "       [-1.39593005e-01],\n",
       "       [-2.37499550e-02],\n",
       "       [ 1.21488735e-01],\n",
       "       [ 2.40346730e-01],\n",
       "       [ 3.81426632e-01],\n",
       "       [ 4.64490175e-01],\n",
       "       [ 5.51102519e-01],\n",
       "       [ 7.39261210e-01],\n",
       "       [ 7.49543548e-01],\n",
       "       [ 8.36423039e-01],\n",
       "       [ 8.97492886e-01],\n",
       "       [ 9.68949258e-01],\n",
       "       [ 9.75470781e-01],\n",
       "       [ 9.75570261e-01],\n",
       "       [ 1.04235053e+00],\n",
       "       [ 1.05319226e+00],\n",
       "       [ 1.40468907e+00],\n",
       "       [ 1.27831316e+00],\n",
       "       [ 1.12979722e+00],\n",
       "       [ 1.05598533e+00],\n",
       "       [ 1.38381457e+00],\n",
       "       [ 1.15846920e+00],\n",
       "       [ 1.64700723e+00],\n",
       "       [ 2.80932713e+00],\n",
       "       [ 1.03489089e+00],\n",
       "       [ 2.57213068e+00],\n",
       "       [ 3.57633972e+00],\n",
       "       [ 1.22642958e+00],\n",
       "       [ 4.11830902e-01],\n",
       "       [ 5.42786717e-01],\n",
       "       [-9.05535072e-02],\n",
       "       [-2.37489119e-02],\n",
       "       [-2.36226857e-01],\n",
       "       [-7.08396733e-02],\n",
       "       [-8.49586427e-01],\n",
       "       [-5.79216003e-01],\n",
       "       [-1.63850951e+00],\n",
       "       [-3.43902826e+00],\n",
       "       [-3.07770514e+00],\n",
       "       [-3.24377441e+00],\n",
       "       [-2.53106999e+00],\n",
       "       [-1.75870264e+00],\n",
       "       [-1.36099768e+00],\n",
       "       [-1.16905475e+00],\n",
       "       [-9.00895953e-01],\n",
       "       [-1.10470200e+00],\n",
       "       [-1.27546036e+00],\n",
       "       [-1.29258168e+00],\n",
       "       [-1.08537936e+00],\n",
       "       [-7.50817955e-01],\n",
       "       [-7.82789767e-01],\n",
       "       [-8.93075347e-01],\n",
       "       [-8.31466913e-01],\n",
       "       [-7.47638762e-01],\n",
       "       [-6.86500907e-01],\n",
       "       [-5.42098582e-01],\n",
       "       [-4.84701723e-01],\n",
       "       [-4.23441142e-01],\n",
       "       [-2.53961623e-01],\n",
       "       [-1.49694830e-01],\n",
       "       [ 5.06218523e-04],\n",
       "       [ 8.96689147e-02],\n",
       "       [ 1.97182536e-01],\n",
       "       [ 3.25195938e-01],\n",
       "       [ 5.02670765e-01],\n",
       "       [ 5.64669013e-01],\n",
       "       [ 6.03374004e-01],\n",
       "       [ 7.01892853e-01],\n",
       "       [ 7.78312624e-01],\n",
       "       [ 8.30193639e-01],\n",
       "       [ 8.95304084e-01],\n",
       "       [ 8.26678991e-01],\n",
       "       [ 8.96227360e-01],\n",
       "       [ 1.06731129e+00],\n",
       "       [ 1.15064716e+00],\n",
       "       [ 1.32583809e+00],\n",
       "       [ 1.05534554e+00],\n",
       "       [ 1.30094171e+00],\n",
       "       [ 1.06166625e+00],\n",
       "       [ 1.15459025e+00],\n",
       "       [ 1.06663775e+00],\n",
       "       [ 1.25590718e+00],\n",
       "       [ 1.91462183e+00],\n",
       "       [ 2.40751648e+00],\n",
       "       [ 3.27734327e+00],\n",
       "       [ 1.92262220e+00],\n",
       "       [ 2.65987659e+00],\n",
       "       [ 9.47945416e-01],\n",
       "       [ 5.49881816e-01],\n",
       "       [ 5.44549040e-02],\n",
       "       [-1.05348617e-01],\n",
       "       [-3.56991470e-01],\n",
       "       [-7.65049279e-01],\n",
       "       [-1.71170211e+00],\n",
       "       [-3.87960410e+00],\n",
       "       [-2.51283050e+00],\n",
       "       [-8.83764207e-01],\n",
       "       [-3.13667059e+00],\n",
       "       [-2.12147713e+00],\n",
       "       [-1.77401257e+00],\n",
       "       [-1.10317039e+00],\n",
       "       [-1.16413367e+00],\n",
       "       [-8.10660362e-01],\n",
       "       [-1.23588288e+00],\n",
       "       [-9.94523585e-01],\n",
       "       [-1.32105923e+00],\n",
       "       [-1.10504508e+00],\n",
       "       [-1.02277136e+00],\n",
       "       [-6.79497242e-01],\n",
       "       [-7.22708941e-01],\n",
       "       [-7.33955443e-01],\n",
       "       [-6.99764609e-01],\n",
       "       [-6.57286823e-01],\n",
       "       [-5.78817844e-01],\n",
       "       [-4.70818579e-01],\n",
       "       [-3.67800891e-01],\n",
       "       [-2.58581221e-01],\n",
       "       [-2.18052834e-01],\n",
       "       [-5.78136854e-02],\n",
       "       [ 3.10674421e-02],\n",
       "       [ 1.88594252e-01],\n",
       "       [ 2.94736385e-01],\n",
       "       [ 3.92419755e-01],\n",
       "       [ 3.90271187e-01],\n",
       "       [ 5.52654147e-01],\n",
       "       [ 5.88212013e-01],\n",
       "       [ 6.47316813e-01],\n",
       "       [ 7.89565742e-01],\n",
       "       [ 8.08730125e-01],\n",
       "       [ 7.73367286e-01],\n",
       "       [ 8.24832201e-01],\n",
       "       [ 1.00923228e+00],\n",
       "       [ 9.77585733e-01],\n",
       "       [ 1.41175938e+00],\n",
       "       [ 1.03301442e+00],\n",
       "       [ 1.10700250e+00],\n",
       "       [ 9.63837981e-01],\n",
       "       [ 9.35772419e-01],\n",
       "       [ 1.17301059e+00],\n",
       "       [ 9.69888806e-01],\n",
       "       [ 1.27573061e+00],\n",
       "       [ 1.46860659e+00],\n",
       "       [ 2.45354867e+00],\n",
       "       [ 5.45642257e-01],\n",
       "       [ 1.36173368e+00],\n",
       "       [ 1.07756639e+00],\n",
       "       [ 9.43052292e-01],\n",
       "       [ 5.38481057e-01],\n",
       "       [-4.72572744e-01],\n",
       "       [-1.03143609e+00],\n",
       "       [-2.08173203e+00],\n",
       "       [-1.72089148e+00],\n",
       "       [-1.65496016e+00],\n",
       "       [-7.90206909e-01],\n",
       "       [-2.60745096e+00],\n",
       "       [-2.26807880e+00],\n",
       "       [-1.28281343e+00],\n",
       "       [-1.22220874e+00],\n",
       "       [-1.17501950e+00],\n",
       "       [-1.05689120e+00],\n",
       "       [-7.66778946e-01],\n",
       "       [-1.13829517e+00],\n",
       "       [-9.04405653e-01],\n",
       "       [-1.17762566e+00],\n",
       "       [-1.02384675e+00],\n",
       "       [-9.68395472e-01],\n",
       "       [-6.77961946e-01],\n",
       "       [-7.42798269e-01],\n",
       "       [-7.18461633e-01],\n",
       "       [-6.45525813e-01],\n",
       "       [-6.23332560e-01],\n",
       "       [-5.19282222e-01],\n",
       "       [-4.44408238e-01],\n",
       "       [-3.73034954e-01],\n",
       "       [-2.26881087e-01],\n",
       "       [-1.69877708e-01],\n",
       "       [-2.86160167e-02],\n",
       "       [ 8.86572897e-03],\n",
       "       [ 1.54099137e-01],\n",
       "       [ 2.02330723e-01],\n",
       "       [ 3.55583429e-01],\n",
       "       [ 4.38534319e-01],\n",
       "       [ 4.79592025e-01],\n",
       "       [ 5.91521561e-01],\n",
       "       [ 6.45391345e-01],\n",
       "       [ 6.94799542e-01],\n",
       "       [ 7.35957742e-01],\n",
       "       [ 7.67981589e-01],\n",
       "       [ 7.73729682e-01],\n",
       "       [ 9.33194995e-01],\n",
       "       [ 9.55538809e-01],\n",
       "       [ 1.22377181e+00],\n",
       "       [ 9.39676762e-01],\n",
       "       [ 1.12170744e+00],\n",
       "       [ 8.68956506e-01],\n",
       "       [ 8.51979494e-01],\n",
       "       [ 1.01882637e+00],\n",
       "       [ 8.44043374e-01],\n",
       "       [ 1.24819994e+00],\n",
       "       [ 8.93559694e-01],\n",
       "       [ 1.85201859e+00],\n",
       "       [ 1.47864914e+00],\n",
       "       [ 4.56617385e-01],\n",
       "       [ 1.62814856e+00],\n",
       "       [ 5.95464587e-01],\n",
       "       [-6.45449236e-02],\n",
       "       [-1.44725114e-01],\n",
       "       [-9.48117614e-01],\n",
       "       [-8.06733787e-01],\n",
       "       [-1.69319701e+00],\n",
       "       [-4.49465275e-01],\n",
       "       [-2.38049912e+00],\n",
       "       [-1.78667593e+00],\n",
       "       [-1.46999133e+00],\n",
       "       [-1.06853616e+00],\n",
       "       [-9.92267609e-01],\n",
       "       [-1.04280829e+00],\n",
       "       [-7.67408907e-01],\n",
       "       [-8.44376087e-01],\n",
       "       [-8.52609336e-01],\n",
       "       [-1.04499853e+00],\n",
       "       [-1.20154786e+00],\n",
       "       [-9.42392766e-01],\n",
       "       [-9.03820753e-01],\n",
       "       [-5.98413825e-01],\n",
       "       [-6.76538110e-01],\n",
       "       [-6.31421208e-01],\n",
       "       [-6.38066411e-01],\n",
       "       [-5.22064865e-01],\n",
       "       [-4.48401749e-01],\n",
       "       [-3.98412824e-01],\n",
       "       [-3.10274839e-01],\n",
       "       [-2.11000815e-01],\n",
       "       [-1.18157737e-01],\n",
       "       [ 4.89955256e-03],\n",
       "       [ 4.98326495e-02]], dtype=float32)"
      ]
     },
     "execution_count": 9,
     "metadata": {},
     "output_type": "execute_result"
    }
   ],
   "source": [
    "test_set_results['dz']/8"
   ]
  },
  {
   "cell_type": "code",
   "execution_count": 10,
   "metadata": {},
   "outputs": [
    {
     "data": {
      "text/plain": [
       "array([[-4.55479130e-05],\n",
       "       [ 4.18873351e-05],\n",
       "       [ 1.08898902e+00],\n",
       "       [-5.92177239e-05],\n",
       "       [ 4.83820986e-05],\n",
       "       [-6.03254484e-05],\n",
       "       [ 1.30184315e-04],\n",
       "       [ 1.38123905e-05],\n",
       "       [-5.36914399e-07],\n",
       "       [ 4.04604292e+00],\n",
       "       [ 1.18558652e-04]], dtype=float32)"
      ]
     },
     "execution_count": 10,
     "metadata": {},
     "output_type": "execute_result"
    }
   ],
   "source": [
    "test_set_results['sindy_coefficients']"
   ]
  },
  {
   "cell_type": "code",
   "execution_count": 11,
   "metadata": {},
   "outputs": [
    {
     "data": {
      "text/plain": [
       "array([-1.28723466, -0.58651315, -0.65020009, -0.8330524 , -0.95183201,\n",
       "       -2.00330845, -2.48874999, -2.48345371, -1.7099239 , -2.36778295,\n",
       "       -3.21605972, -3.23223572, -2.96757408, -3.00096745, -3.31641534,\n",
       "       -2.73594371, -2.54810035, -2.42088203, -2.81668144, -2.62780881,\n",
       "       -1.77537925, -1.243242  , -1.20528082, -1.03127222, -0.44564075,\n",
       "       -0.40139383, -0.34464695, -0.13926209,  0.24289431,  0.4614125 ,\n",
       "        0.42402968,  0.89026632,  1.12179038,  1.4287782 ,  1.72818718,\n",
       "        2.12504498,  2.9875779 ,  2.79031742,  2.33896609,  2.72040955,\n",
       "        3.25522158,  3.1463504 ,  2.97850254,  3.04484399,  2.59887101,\n",
       "        2.19517478,  2.56354736,  1.90447367,  1.48698055,  1.92155718,\n",
       "        0.98042673,  0.55035302,  1.17720147,  1.02181105,  0.34956597,\n",
       "        0.14922534,  0.20272195,  0.1134828 , -0.11384972, -0.20272195,\n",
       "       -0.58551103, -0.22150056, -0.29378523, -0.7906763 , -0.84467236,\n",
       "       -1.18086544, -1.63095306, -2.13740491, -1.62413237, -1.54627969,\n",
       "       -2.53758955, -2.85257962, -2.24673819, -2.64665954, -3.22476788,\n",
       "       -3.21989167, -3.01178923, -2.02389264, -1.87010182, -2.41670092,\n",
       "       -2.52989303, -1.94108805, -1.38573446, -1.26065488, -0.78439753,\n",
       "       -0.45065686, -0.7213831 , -0.56231737, -0.04859186,  0.42558022,\n",
       "        0.64222213,  0.74537298,  1.02537768,  1.13159714,  1.36975098,\n",
       "        2.25387868,  2.55987742,  1.96214418,  1.86276727,  2.5107523 ,\n",
       "        3.21066037,  3.1668919 ,  2.70975555,  2.41956504,  2.47171582,\n",
       "        2.41070949,  2.7296515 ,  1.68664054,  0.86107731,  1.57117239,\n",
       "        1.89234373,  1.6880265 ,  0.46315434,  0.21852171,  0.66239033,\n",
       "        0.61283724,  0.54268297,  0.24388811,  0.        , -0.24388811,\n",
       "       -0.54268297, -0.6349496 , -0.7363434 , -0.281872  , -0.58340592,\n",
       "       -1.9017497 , -1.44861854, -1.6775835 , -1.44082009, -1.34465371,\n",
       "       -2.52124694, -2.61465017, -2.19662951, -2.37658694, -2.90244767,\n",
       "       -2.73727883, -2.91237986, -2.42538514, -1.66930753, -1.99781426,\n",
       "       -2.05783103, -1.79890905, -1.56820784, -1.1595063 , -0.86913361,\n",
       "       -0.52028075, -0.25805696, -0.03615483,  0.03615483,  0.0281125 ,\n",
       "        0.47308902,  0.94920108,  1.09505688,  1.28968834,  1.63866811,\n",
       "        2.18526802,  1.62969042,  1.71141002,  2.63165708,  2.58240926,\n",
       "        2.63019652,  2.51056384,  2.49779473,  2.78758924,  2.11617896,\n",
       "        2.20080897,  2.5803827 ,  1.17176567,  1.41509284,  1.35949454,\n",
       "        0.83619898,  1.46039405,  0.74411206,  0.40815124,  0.21434421,\n",
       "        0.57991651,  0.3559202 , -0.33023574, -0.067155  , -0.04449573,\n",
       "       -0.49162248, -0.34193563, -0.34076745, -1.12978797, -1.37899395,\n",
       "       -1.7539125 , -1.20679011, -1.15683912, -1.78275134, -2.23410901,\n",
       "       -2.42671286, -1.71766897, -2.161731  , -2.81241767, -2.68241933,\n",
       "       -2.38494916, -2.38831322, -2.00601245, -1.42746697, -1.83239064,\n",
       "       -1.74250848, -1.6457147 , -1.33446524, -0.60963293, -0.59572019,\n",
       "       -0.39462558, -0.11539946,  0.        ,  0.30529328,  0.40794626,\n",
       "        0.68402154,  1.36158395,  1.50193357,  1.7091437 ,  1.54539621,\n",
       "        1.65607225,  2.07710018,  2.14551101,  2.5088751 ,  2.6664284 ,\n",
       "        2.22448416,  2.02152879,  2.44541782,  1.9502267 ,  2.16439272,\n",
       "        1.74818528,  1.43663499,  1.34223189,  1.04353348,  1.10374784,\n",
       "        0.8913576 ,  1.16064857,  0.87195543,  0.57271569,  0.02039645,\n",
       "        0.13077352, -0.32021201, -0.48251621,  0.29981556, -0.220973  ,\n",
       "       -1.23181388, -1.31735032, -0.8172864 , -1.1615441 , -0.86787565,\n",
       "       -1.29149448, -1.65647314, -1.6647454 , -2.04521616, -2.06725306,\n",
       "       -2.53613741, -2.02202592, -1.96239705, -2.52329123, -2.3673536 ,\n",
       "       -2.09080399, -1.88298794, -1.21156221, -0.91089083, -1.49311595,\n",
       "       -1.45173331, -1.24373698, -1.00600925, -0.37258508, -0.25310178,\n",
       "       -0.0394907 ,  0.25310178,  0.36548265,  0.88363381,  1.29033011,\n",
       "        1.49875282,  1.32766665,  0.76582402,  1.44442656,  2.0013127 ,\n",
       "        2.07809596,  2.41655958,  2.26389212,  1.97462825,  2.1482191 ,\n",
       "        2.13352537,  1.94830898,  2.00695244,  1.92982558,  2.01896304,\n",
       "        1.0233281 ,  1.07169149,  1.11044205,  0.33961253,  0.91334018,\n",
       "        1.00772267,  0.59122546,  0.26817953,  0.19782131,  0.10871329,\n",
       "       -0.1334054 , -0.36733385, -0.60822574, -0.97055266, -0.88987564,\n",
       "        0.14716498, -0.58544761, -1.19376115, -1.44665896, -2.16731139,\n",
       "       -2.04601062, -1.93250809, -1.92616878, -2.4303974 , -1.92558362,\n",
       "       -1.69499015, -2.38145076, -2.15259934, -1.96747909, -1.78690307,\n",
       "       -0.99917166, -1.20136364, -1.1535432 , -1.11176139, -0.91357096,\n",
       "       -0.62774515, -0.76522634, -0.22706399, -0.060149  ,  0.10468855,\n",
       "        0.82537534,  0.64339315,  0.83821503,  0.66682778,  0.68118924,\n",
       "        1.55672697,  1.69914739,  1.99570077,  1.89981301,  2.12097794,\n",
       "        2.4638986 ,  1.76050966,  1.78993085,  2.04646647,  1.95059933,\n",
       "        1.79256238,  1.66214434,  1.92840678,  0.94214284,  1.0392274 ,\n",
       "        1.21190907,  0.53842849,  0.38684664,  0.64040667,  0.66170896,\n",
       "        0.25095092,  0.13250231,  0.        , -0.15083148, -0.34169351,\n",
       "       -0.74052611, -0.6926637 ,  0.24797278, -0.4680225 , -1.67191025,\n",
       "       -1.12254042, -1.18673998, -1.69141791, -1.8139467 , -1.98023061,\n",
       "       -1.67062825, -2.11290182, -2.07562764, -1.64782244, -2.22404505,\n",
       "       -2.0731438 , -1.83235567, -1.5855014 , -1.23302132, -1.45454175,\n",
       "       -0.91978201, -0.23599678, -0.95902311, -0.93071561, -0.0895828 ,\n",
       "        0.01714465,  0.        , -0.01714465,  0.61329901,  1.05794385,\n",
       "        0.79372624,  0.63777914,  0.91998942,  1.24265045,  1.18842824])"
      ]
     },
     "execution_count": 11,
     "metadata": {},
     "output_type": "execute_result"
    }
   ],
   "source": [
    "dtheta"
   ]
  },
  {
   "cell_type": "code",
   "execution_count": 15,
   "metadata": {},
   "outputs": [],
   "source": [
    "true_coefficients = np.zeros((12,1))\n",
    "mask = np.ones(12)\n",
    "true_coefficients[-2] = -4.04\n",
    "t = t_train = np.arange(0, 382*0.034, 0.034)\n",
    "z_sim = np.zeros((t.size, 2))\n",
    "pendulum_sim = np.zeros(z_sim.shape)\n",
    "z_sim = sindy_simulate_order2((test_set_results['z'][0]-5)/8, (test_set_results['dz'][0])/8, t,\n",
    "                                     mask*true_coefficients,\n",
    "                                     params['poly_order'], params['include_sine'])\n",
    "   "
   ]
  },
  {
   "cell_type": "code",
   "execution_count": 22,
   "metadata": {},
   "outputs": [
    {
     "data": {
      "text/plain": [
       "0.0"
      ]
     },
     "execution_count": 22,
     "metadata": {},
     "output_type": "execute_result"
    }
   ],
   "source": [
    "true_coefficients[0]"
   ]
  },
  {
   "cell_type": "code",
   "execution_count": 70,
   "metadata": {},
   "outputs": [
    {
     "data": {
      "text/plain": [
       "array([12.533552], dtype=float32)"
      ]
     },
     "execution_count": 70,
     "metadata": {},
     "output_type": "execute_result"
    }
   ],
   "source": [
    "test_set_results['z'][0]"
   ]
  },
  {
   "cell_type": "code",
   "execution_count": 16,
   "metadata": {},
   "outputs": [
    {
     "data": {
      "text/plain": [
       "([], [])"
      ]
     },
     "execution_count": 16,
     "metadata": {},
     "output_type": "execute_result"
    },
    {
     "data": {
      "image/png": "[encoded data removed]",
      "text/plain": [
       "<Figure size 288x216 with 1 Axes>"
      ]
     },
     "metadata": {},
     "output_type": "display_data"
    },
    {
     "data": {
      "image/png": "[encoded data removed]",
      "text/plain": [
       "<Figure size 288x216 with 1 Axes>"
      ]
     },
     "metadata": {},
     "output_type": "display_data"
    }
   ],
   "source": [
    "plt.figure(figsize=(4,3))\n",
    "plt.plot(z_sim[:,0].T, z_sim[:,1].T, linewidth=2, color='#2071B1')\n",
    "plt.axis('equal')\n",
    "plt.axis('off')\n",
    "plt.xticks([])\n",
    "plt.yticks([])\n",
    "\n",
    "plt.figure(figsize=(4,3))\n",
    "plt.plot(pendulum_sim[:,0].T, pendulum_sim[:,1].T, linewidth=2, color='#2071B1')\n",
    "plt.axis('equal')\n",
    "plt.axis('off')\n",
    "plt.xticks([])\n",
    "plt.yticks([])"
   ]
  },
  {
   "cell_type": "code",
   "execution_count": 19,
   "metadata": {},
   "outputs": [
    {
     "name": "stderr",
     "output_type": "stream",
     "text": [
      "/home/marsgao/.conda/envs/mars/lib/python3.7/site-packages/ipykernel_launcher.py:5: UserWarning: color is redundantly defined by the 'color' keyword argument and the fmt string \"k\" (-> color=(0.0, 0.0, 0.0, 1)). The keyword argument will take precedence.\n",
      "  \"\"\"\n"
     ]
    },
    {
     "data": {
      "text/plain": [
       "(-19.05, 400.05, -1.2914498092411675, 1.2914644047972386)"
      ]
     },
     "execution_count": 19,
     "metadata": {},
     "output_type": "execute_result"
    },
    {
     "data": {
      "image/png": "[encoded data removed]",
      "text/plain": [
       "<Figure size 216x144 with 1 Axes>"
      ]
     },
     "metadata": {},
     "output_type": "display_data"
    }
   ],
   "source": [
    "ic_idx = 1\n",
    "\n",
    "plt.figure(figsize=(3,2))\n",
    "plt.subplot(2,1,1)\n",
    "plt.plot((test_set_results['z'][:,0]-5)/8, 'k', color='#888888', linewidth=2)\n",
    "plt.plot(z_sim[:,0], '--', linewidth=2)\n",
    "plt.xticks([])\n",
    "plt.yticks([])\n",
    "plt.axis('off')"
   ]
  },
  {
   "cell_type": "markdown",
   "metadata": {},
   "source": [
    "## Test set analysis - in distribution"
   ]
  },
  {
   "cell_type": "code",
   "execution_count": 9,
   "metadata": {},
   "outputs": [],
   "source": [
    "test_data = get_pendulum_data(10)"
   ]
  },
  {
   "cell_type": "code",
   "execution_count": 10,
   "metadata": {},
   "outputs": [
    {
     "name": "stdout",
     "output_type": "stream",
     "text": [
      "INFO:tensorflow:Restoring parameters from /home/marsgao/SindyAutoencoders/examples/pendulum/model4\n"
     ]
    }
   ],
   "source": [
    "with tf.Session() as sess:\n",
    "    sess.run(tf.global_variables_initializer())\n",
    "    saver.restore(sess, data_path + save_name)\n",
    "    test_dictionary = create_feed_dictionary(test_data, params)\n",
    "    tf_results = sess.run(tensorflow_run_tuple, feed_dict=test_dictionary)\n",
    "\n",
    "test_set_results = {}\n",
    "for i,key in enumerate(autoencoder_network.keys()):\n",
    "    test_set_results[key] = tf_results[i]"
   ]
  },
  {
   "cell_type": "code",
   "execution_count": 11,
   "metadata": {},
   "outputs": [
    {
     "name": "stdout",
     "output_type": "stream",
     "text": [
      "Decoder relative error: 0.003462\n",
      "Decoder relative SINDy error: 0.003556\n",
      "SINDy reltive error, z: 0.044096\n"
     ]
    }
   ],
   "source": [
    "decoder_x_error = np.mean((test_data['x'] - test_set_results['x_decode'])**2)/np.mean(test_data['x']**2)\n",
    "decoder_ddx_error = np.mean((test_data['ddx'] - test_set_results['ddx_decode'])**2)/np.mean(test_data['ddx']**2)\n",
    "sindy_ddz_error = np.mean((test_set_results['ddz'] - test_set_results['ddz_predict'])**2)/np.mean(test_set_results['ddz']**2)\n",
    "\n",
    "print('Decoder relative error: %f' % decoder_x_error)\n",
    "print('Decoder relative SINDy error: %f' % decoder_ddx_error)\n",
    "print('SINDy reltive error, z: %f' % sindy_ddz_error)"
   ]
  },
  {
   "cell_type": "code",
   "execution_count": 13,
   "metadata": {},
   "outputs": [
    {
     "name": "stdout",
     "output_type": "stream",
     "text": [
      "[[ 5.2228199e-08]\n",
      " [-1.6447935e-08]\n",
      " [-3.4422655e+00]\n",
      " [ 8.3557357e-09]\n",
      " [ 3.6642561e+00]\n",
      " [-1.1336120e-08]\n",
      " [-5.7204609e-08]\n",
      " [-3.4406154e+00]\n",
      " [-2.0048612e-09]\n",
      " [-7.6008892e-01]\n",
      " [ 7.7742726e-08]\n",
      " [-6.1805019e+00]]\n"
     ]
    }
   ],
   "source": [
    "print(test_set_results['sindy_coefficients'])"
   ]
  },
  {
   "cell_type": "code",
   "execution_count": 14,
   "metadata": {},
   "outputs": [
    {
     "name": "stdout",
     "output_type": "stream",
     "text": [
      "[[ 0.]\n",
      " [ 0.]\n",
      " [ 0.]\n",
      " [ 0.]\n",
      " [ 0.]\n",
      " [ 0.]\n",
      " [ 0.]\n",
      " [ 0.]\n",
      " [ 0.]\n",
      " [ 0.]\n",
      " [-1.]\n",
      " [ 0.]]\n"
     ]
    }
   ],
   "source": [
    "print(true_coefficients)"
   ]
  },
  {
   "cell_type": "code",
   "execution_count": 19,
   "metadata": {},
   "outputs": [
    {
     "name": "stdout",
     "output_type": "stream",
     "text": [
      "[[ 0.        ]\n",
      " [ 0.        ]\n",
      " [-1.81524709]\n",
      " [ 0.        ]\n",
      " [ 2.07543013]\n",
      " [ 0.        ]\n",
      " [ 0.        ]\n",
      " [-1.85309271]\n",
      " [ 0.        ]\n",
      " [-0.57890595]\n",
      " [ 0.        ]\n",
      " [-4.49665182]]\n"
     ]
    }
   ],
   "source": [
    "import numpy as np\n",
    "arr = np.load(\"save_1.npy\")\n",
    "arr_truncate = arr[0:-50]\n",
    "arr_mean = np.mean(arr_truncate, axis=0)\n",
    "print(arr_mean)"
   ]
  },
  {
   "cell_type": "code",
   "execution_count": null,
   "metadata": {},
   "outputs": [],
   "source": []
  }
 ],
 "metadata": {
  "kernelspec": {
   "display_name": "mars",
   "language": "python",
   "name": "mars"
  },
  "language_info": {
   "codemirror_mode": {
    "name": "ipython",
    "version": 3
   },
   "file_extension": ".py",
   "mimetype": "text/x-python",
   "name": "python",
   "nbconvert_exporter": "python",
   "pygments_lexer": "ipython3",
   "version": "3.7.13"
  },
  "toc": {
   "base_numbering": 1,
   "nav_menu": {},
   "number_sections": true,
   "sideBar": true,
   "skip_h1_title": false,
   "title_cell": "Table of Contents",
   "title_sidebar": "Contents",
   "toc_cell": false,
   "toc_position": {},
   "toc_section_display": true,
   "toc_window_display": false
  },
  "varInspector": {
   "cols": {
    "lenName": 16,
    "lenType": 16,
    "lenVar": 40
   },
   "kernels_config": {
    "python": {
     "delete_cmd_postfix": "",
     "delete_cmd_prefix": "del ",
     "library": "var_list.py",
     "varRefreshCmd": "print(var_dic_list())"
    },
    "r": {
     "delete_cmd_postfix": ") ",
     "delete_cmd_prefix": "rm(",
     "library": "var_list.r",
     "varRefreshCmd": "cat(var_dic_list()) "
    }
   },
   "types_to_exclude": [
    "module",
    "function",
    "builtin_function_or_method",
    "instance",
    "_Feature"
   ],
   "window_display": false
  }
 },
 "nbformat": 4,
 "nbformat_minor": 2
}
