{
 "cells": [
  {
   "cell_type": "code",
   "execution_count": 1,
   "metadata": {},
   "outputs": [
    {
     "name": "stderr",
     "output_type": "stream",
     "text": [
      "/home/marsgao/.conda/envs/mars/lib/python3.7/site-packages/tensorflow/python/framework/dtypes.py:516: FutureWarning: Passing (type, 1) or '1type' as a synonym of type is deprecated; in a future version of numpy, it will be understood as (type, (1,)) / '(1,)type'.\n",
      "  _np_qint8 = np.dtype([(\"qint8\", np.int8, 1)])\n",
      "/home/marsgao/.conda/envs/mars/lib/python3.7/site-packages/tensorflow/python/framework/dtypes.py:517: FutureWarning: Passing (type, 1) or '1type' as a synonym of type is deprecated; in a future version of numpy, it will be understood as (type, (1,)) / '(1,)type'.\n",
      "  _np_quint8 = np.dtype([(\"quint8\", np.uint8, 1)])\n",
      "/home/marsgao/.conda/envs/mars/lib/python3.7/site-packages/tensorflow/python/framework/dtypes.py:518: FutureWarning: Passing (type, 1) or '1type' as a synonym of type is deprecated; in a future version of numpy, it will be understood as (type, (1,)) / '(1,)type'.\n",
      "  _np_qint16 = np.dtype([(\"qint16\", np.int16, 1)])\n",
      "/home/marsgao/.conda/envs/mars/lib/python3.7/site-packages/tensorflow/python/framework/dtypes.py:519: FutureWarning: Passing (type, 1) or '1type' as a synonym of type is deprecated; in a future version of numpy, it will be understood as (type, (1,)) / '(1,)type'.\n",
      "  _np_quint16 = np.dtype([(\"quint16\", np.uint16, 1)])\n",
      "/home/marsgao/.conda/envs/mars/lib/python3.7/site-packages/tensorflow/python/framework/dtypes.py:520: FutureWarning: Passing (type, 1) or '1type' as a synonym of type is deprecated; in a future version of numpy, it will be understood as (type, (1,)) / '(1,)type'.\n",
      "  _np_qint32 = np.dtype([(\"qint32\", np.int32, 1)])\n",
      "/home/marsgao/.conda/envs/mars/lib/python3.7/site-packages/tensorflow/python/framework/dtypes.py:525: FutureWarning: Passing (type, 1) or '1type' as a synonym of type is deprecated; in a future version of numpy, it will be understood as (type, (1,)) / '(1,)type'.\n",
      "  np_resource = np.dtype([(\"resource\", np.ubyte, 1)])\n",
      "/home/marsgao/.conda/envs/mars/lib/python3.7/site-packages/tensorboard/compat/tensorflow_stub/dtypes.py:541: FutureWarning: Passing (type, 1) or '1type' as a synonym of type is deprecated; in a future version of numpy, it will be understood as (type, (1,)) / '(1,)type'.\n",
      "  _np_qint8 = np.dtype([(\"qint8\", np.int8, 1)])\n",
      "/home/marsgao/.conda/envs/mars/lib/python3.7/site-packages/tensorboard/compat/tensorflow_stub/dtypes.py:542: FutureWarning: Passing (type, 1) or '1type' as a synonym of type is deprecated; in a future version of numpy, it will be understood as (type, (1,)) / '(1,)type'.\n",
      "  _np_quint8 = np.dtype([(\"quint8\", np.uint8, 1)])\n",
      "/home/marsgao/.conda/envs/mars/lib/python3.7/site-packages/tensorboard/compat/tensorflow_stub/dtypes.py:543: FutureWarning: Passing (type, 1) or '1type' as a synonym of type is deprecated; in a future version of numpy, it will be understood as (type, (1,)) / '(1,)type'.\n",
      "  _np_qint16 = np.dtype([(\"qint16\", np.int16, 1)])\n",
      "/home/marsgao/.conda/envs/mars/lib/python3.7/site-packages/tensorboard/compat/tensorflow_stub/dtypes.py:544: FutureWarning: Passing (type, 1) or '1type' as a synonym of type is deprecated; in a future version of numpy, it will be understood as (type, (1,)) / '(1,)type'.\n",
      "  _np_quint16 = np.dtype([(\"quint16\", np.uint16, 1)])\n",
      "/home/marsgao/.conda/envs/mars/lib/python3.7/site-packages/tensorboard/compat/tensorflow_stub/dtypes.py:545: FutureWarning: Passing (type, 1) or '1type' as a synonym of type is deprecated; in a future version of numpy, it will be understood as (type, (1,)) / '(1,)type'.\n",
      "  _np_qint32 = np.dtype([(\"qint32\", np.int32, 1)])\n",
      "/home/marsgao/.conda/envs/mars/lib/python3.7/site-packages/tensorboard/compat/tensorflow_stub/dtypes.py:550: FutureWarning: Passing (type, 1) or '1type' as a synonym of type is deprecated; in a future version of numpy, it will be understood as (type, (1,)) / '(1,)type'.\n",
      "  np_resource = np.dtype([(\"resource\", np.ubyte, 1)])\n"
     ]
    }
   ],
   "source": [
    "import sys\n",
    "sys.path.append(\"../../src\")\n",
    "import os\n",
    "import numpy as np\n",
    "import pickle\n",
    "import scipy.io as sio\n",
    "from example_reactiondiffusion import get_rd_data\n",
    "from autoencoder_rd import full_network\n",
    "from training_rd import create_feed_dictionary\n",
    "from sindy_utils import sindy_simulate\n",
    "import tensorflow as tf\n",
    "import matplotlib.pyplot as plt\n",
    "from mpl_toolkits.mplot3d import Axes3D\n",
    "%matplotlib inline"
   ]
  },
  {
   "cell_type": "code",
   "execution_count": 2,
   "metadata": {},
   "outputs": [
    {
     "name": "stdout",
     "output_type": "stream",
     "text": [
      "WARNING:tensorflow:From ../../src/autoencoder_rd.py:30: The name tf.placeholder is deprecated. Please use tf.compat.v1.placeholder instead.\n",
      "\n",
      "WARNING:tensorflow:From ../../src/autoencoder_rd.py:263: The name tf.get_variable is deprecated. Please use tf.compat.v1.get_variable instead.\n",
      "\n",
      "WARNING:tensorflow:\n",
      "The TensorFlow contrib module will not be included in TensorFlow 2.0.\n",
      "For more information, please see:\n",
      "  * https://github.com/tensorflow/community/blob/master/rfcs/20180907-contrib-sunset.md\n",
      "  * https://github.com/tensorflow/addons\n",
      "  * https://github.com/tensorflow/io (for I/O related ops)\n",
      "If you depend on functionality not listed there, please file an issue.\n",
      "\n",
      "WARNING:tensorflow:From /tmp/ipykernel_1233946/1104173294.py:8: The name tf.train.Saver is deprecated. Please use tf.compat.v1.train.Saver instead.\n",
      "\n",
      "WARNING:tensorflow:From /tmp/ipykernel_1233946/1104173294.py:8: The name tf.get_collection is deprecated. Please use tf.compat.v1.get_collection instead.\n",
      "\n",
      "WARNING:tensorflow:From /tmp/ipykernel_1233946/1104173294.py:8: The name tf.GraphKeys is deprecated. Please use tf.compat.v1.GraphKeys instead.\n",
      "\n"
     ]
    }
   ],
   "source": [
    "data_path = os.getcwd() + '/'\n",
    "save_name = 'model3'\n",
    "params = pickle.load(open(data_path + save_name + '_params.pkl', 'rb'))\n",
    "params['save_name'] = data_path + save_name\n",
    "\n",
    "autoencoder_network = full_network(params)\n",
    "learning_rate = tf.placeholder(tf.float32, name='learning_rate')\n",
    "saver = tf.train.Saver(var_list=tf.get_collection(tf.GraphKeys.GLOBAL_VARIABLES))\n",
    "\n",
    "tensorflow_run_tuple = ()\n",
    "for key in autoencoder_network.keys():\n",
    "    tensorflow_run_tuple += (autoencoder_network[key],)"
   ]
  },
  {
   "cell_type": "code",
   "execution_count": 3,
   "metadata": {},
   "outputs": [],
   "source": [
    "_,_,test_data = get_rd_data()"
   ]
  },
  {
   "cell_type": "markdown",
   "metadata": {},
   "source": [
    "## Single trajectory plots"
   ]
  },
  {
   "cell_type": "code",
   "execution_count": 4,
   "metadata": {},
   "outputs": [
    {
     "name": "stdout",
     "output_type": "stream",
     "text": [
      "INFO:tensorflow:Restoring parameters from /home/marsgao/BayesianSindyAutoencoder/exmaples/rd/model3\n"
     ]
    }
   ],
   "source": [
    "with tf.Session() as sess:\n",
    "    sess.run(tf.global_variables_initializer())\n",
    "    saver.restore(sess, data_path + save_name)\n",
    "    test_dictionary = create_feed_dictionary(test_data, params)\n",
    "    tf_results = sess.run(tensorflow_run_tuple, feed_dict=test_dictionary)\n",
    "\n",
    "test_set_results = {}\n",
    "for i,key in enumerate(autoencoder_network.keys()):\n",
    "    test_set_results[key] = tf_results[i]"
   ]
  },
  {
   "cell_type": "code",
   "execution_count": 5,
   "metadata": {},
   "outputs": [],
   "source": [
    "z_sim = sindy_simulate(test_set_results['z'][0], test_data['t'][:,0],\n",
    "                       params['coefficient_mask']*test_set_results['sindy_coefficients'],\n",
    "                       params['poly_order'], params['include_sine'])"
   ]
  },
  {
   "cell_type": "code",
   "execution_count": 6,
   "metadata": {},
   "outputs": [
    {
     "data": {
      "text/plain": [
       "(-49.95, 1048.95, -0.930190048783921, 0.9320001981641519)"
      ]
     },
     "execution_count": 6,
     "metadata": {},
     "output_type": "execute_result"
    },
    {
     "data": {
      "image/png": "[encoded data removed]",
      "text/plain": [
       "<Figure size 216x144 with 2 Axes>"
      ]
     },
     "metadata": {},
     "output_type": "display_data"
    }
   ],
   "source": [
    "plt.figure(figsize=(3,2))\n",
    "plt.subplot(2,1,1)\n",
    "plt.plot(test_set_results['z'][:,0], 'k', color='#888888', linewidth=2)\n",
    "plt.plot(z_sim[:,0], '--', linewidth=2)\n",
    "plt.xticks([])\n",
    "plt.yticks([])\n",
    "plt.axis('off')\n",
    "\n",
    "plt.subplot(2,1,2)\n",
    "plt.plot(test_set_results['z'][:,1], color='#888888', linewidth=2)\n",
    "plt.plot(z_sim[:,1], '--', linewidth=2)\n",
    "plt.xticks([])\n",
    "plt.yticks([])\n",
    "plt.axis('off')"
   ]
  },
  {
   "cell_type": "code",
   "execution_count": 7,
   "metadata": {},
   "outputs": [
    {
     "data": {
      "image/png": "[encoded data removed]",
      "text/plain": [
       "<Figure size 216x216 with 1 Axes>"
      ]
     },
     "metadata": {},
     "output_type": "display_data"
    }
   ],
   "source": [
    "plt.figure(figsize=(3,3))\n",
    "plt.plot(z_sim[:,0], z_sim[:,1], linewidth=2)\n",
    "plt.axis('equal')\n",
    "plt.axis('off')\n",
    "plt.xticks([])\n",
    "plt.yticks([])\n",
    "plt.savefig('rd_xy.pdf')"
   ]
  },
  {
   "cell_type": "code",
   "execution_count": 8,
   "metadata": {},
   "outputs": [
    {
     "name": "stdout",
     "output_type": "stream",
     "text": [
      "Decoder relative error: 0.016083\n",
      "Decoder relative SINDy error: 0.016053\n",
      "SINDy reltive error, z: 0.002793\n"
     ]
    }
   ],
   "source": [
    "decoder_x_error = np.mean((test_data['x'] - test_set_results['x_decode'])**2)/np.mean(test_data['x']**2)\n",
    "decoder_dx_error = np.mean((test_data['dx'] - test_set_results['dx_decode'])**2)/np.mean(test_data['dx']**2)\n",
    "sindy_dz_error = np.mean((test_set_results['dz'] - test_set_results['dz_predict'])**2)/np.mean(test_set_results['dz']**2)\n",
    "\n",
    "print('Decoder relative error: %f' % decoder_x_error)\n",
    "print('Decoder relative SINDy error: %f' % decoder_dx_error)\n",
    "print('SINDy reltive error, z: %f' % sindy_dz_error)"
   ]
  },
  {
   "cell_type": "markdown",
   "metadata": {},
   "source": [
    "# Load Bayesian SINDy Coefficients"
   ]
  },
  {
   "cell_type": "code",
   "execution_count": 39,
   "metadata": {},
   "outputs": [
    {
     "data": {
      "text/plain": [
       "array([[ 1.33751222e-04, -9.28087393e-05],\n",
       "       [-2.45514966e-05, -5.45453513e-05],\n",
       "       [-1.67042963e-04, -1.27815554e-04],\n",
       "       [ 2.25311014e-05, -2.20072645e-04],\n",
       "       [-1.04002291e-04,  7.72989733e-05],\n",
       "       [ 9.83033897e-05,  5.90038762e-05],\n",
       "       [ 3.93207665e-06,  1.00026675e-01],\n",
       "       [ 4.56217640e-06,  1.90563878e-06],\n",
       "       [-3.79990670e-05,  1.94887889e-07],\n",
       "       [-2.96421058e-05,  2.39015189e-05],\n",
       "       [ 9.87167732e-05,  9.06805813e-01],\n",
       "       [-9.03556168e-01,  5.48957250e-05]])"
      ]
     },
     "execution_count": 39,
     "metadata": {},
     "output_type": "execute_result"
    }
   ],
   "source": [
    "arr = np.load(\"save_rd.npy\")\n",
    "arr_truncate = arr[0:-10]\n",
    "arr_truncate[-1]"
   ]
  },
  {
   "cell_type": "code",
   "execution_count": 40,
   "metadata": {},
   "outputs": [],
   "source": [
    "arr_mean = np.mean(arr_truncate, axis=0)\n",
    "arr_std = np.std(arr_truncate, axis=0)"
   ]
  },
  {
   "cell_type": "code",
   "execution_count": 41,
   "metadata": {},
   "outputs": [
    {
     "data": {
      "text/plain": [
       "array([[ 1.07444957e-07,  9.58492510e-07],\n",
       "       [ 1.29353418e-05,  1.21824136e-05],\n",
       "       [ 4.22831632e-06, -2.04970711e-07],\n",
       "       [ 1.11690153e-05,  2.99559564e-06],\n",
       "       [-6.87196123e-06,  3.82259313e-07],\n",
       "       [ 8.97260783e-06,  8.98093960e-06],\n",
       "       [-5.00342151e-08,  1.04010346e-01],\n",
       "       [-6.87438146e-07,  1.14142533e-05],\n",
       "       [ 1.59489542e-06,  6.21885650e-07],\n",
       "       [-1.35755166e-06,  2.37798498e-06],\n",
       "       [ 3.42531133e-06,  9.08429258e-01],\n",
       "       [-9.07067822e-01,  1.44416848e-06]])"
      ]
     },
     "execution_count": 41,
     "metadata": {},
     "output_type": "execute_result"
    }
   ],
   "source": [
    "arr_mean"
   ]
  },
  {
   "cell_type": "code",
   "execution_count": 42,
   "metadata": {},
   "outputs": [
    {
     "data": {
      "text/plain": [
       "array([[ 1.52661726e-04,  2.20920458e-04],\n",
       "       [ 2.21497358e-04,  1.02672074e-04],\n",
       "       [ 2.66572788e-04,  1.42825259e-04],\n",
       "       [ 1.69310874e-04,  3.21283393e-04],\n",
       "       [ 2.51078425e-04,  1.26748068e-04],\n",
       "       [ 2.41188623e-04,  1.66994001e-04],\n",
       "       [ 5.77340251e-06,  1.08434668e-01],\n",
       "       [ 2.48447878e-05,  3.20504068e-05],\n",
       "       [ 7.85821373e-05,  1.50992895e-05],\n",
       "       [ 2.63618971e-05,  3.27231639e-05],\n",
       "       [ 2.79650591e-04,  9.13859886e-01],\n",
       "       [-8.99354694e-01,  1.66071130e-04]])"
      ]
     },
     "execution_count": 42,
     "metadata": {},
     "output_type": "execute_result"
    }
   ],
   "source": [
    "arr_mean + 2*arr_std"
   ]
  },
  {
   "cell_type": "code",
   "execution_count": 43,
   "metadata": {},
   "outputs": [
    {
     "data": {
      "text/plain": [
       "array([[-1.52446836e-04, -2.19003473e-04],\n",
       "       [-1.95626674e-04, -7.83072472e-05],\n",
       "       [-2.58116155e-04, -1.43235200e-04],\n",
       "       [-1.46972844e-04, -3.15292202e-04],\n",
       "       [-2.64822347e-04, -1.25983550e-04],\n",
       "       [-2.23243408e-04, -1.49032121e-04],\n",
       "       [-5.87347094e-06,  9.95860237e-02],\n",
       "       [-2.62196641e-05, -9.22190025e-06],\n",
       "       [-7.53923465e-05, -1.38555182e-05],\n",
       "       [-2.90770004e-05, -2.79671940e-05],\n",
       "       [-2.72799968e-04,  9.02998629e-01],\n",
       "       [-9.14780950e-01, -1.63182793e-04]])"
      ]
     },
     "execution_count": 43,
     "metadata": {},
     "output_type": "execute_result"
    }
   ],
   "source": [
    "arr_mean - 2*arr_std"
   ]
  },
  {
   "cell_type": "code",
   "execution_count": 27,
   "metadata": {},
   "outputs": [
    {
     "data": {
      "text/plain": [
       "array([[-1.03767596e-04,  2.32635597e-03],\n",
       "       [ 2.61343502e-04, -1.44627842e-03],\n",
       "       [-6.01151520e-04, -3.10470383e-04],\n",
       "       [-4.52522168e-04,  5.66276941e-04],\n",
       "       [ 2.31665262e-04,  2.83914785e-04],\n",
       "       [-2.85146690e-03,  7.80268090e-04],\n",
       "       [ 1.99337011e-03,  1.04061825e-01],\n",
       "       [-1.91921347e-03,  1.16249389e-04],\n",
       "       [ 1.47645606e-03,  5.92584029e-04],\n",
       "       [-8.67462471e-04, -1.90141891e-04],\n",
       "       [ 1.50978497e-03,  9.08698210e-01],\n",
       "       [-9.07024739e-01, -1.28569240e-04]])"
      ]
     },
     "execution_count": 27,
     "metadata": {},
     "output_type": "execute_result"
    }
   ],
   "source": [
    "arr = np.load(\"save_rd_refinement.npy\")\n",
    "arr_truncate = arr[0:-10]\n",
    "arr_mean = np.mean(arr_truncate, axis=0)\n",
    "arr_std = np.std(arr_truncate, axis=0)\n",
    "arr_mean"
   ]
  },
  {
   "cell_type": "code",
   "execution_count": 28,
   "metadata": {},
   "outputs": [
    {
     "data": {
      "text/plain": [
       "array([[ 0.0019793 ,  0.04862723],\n",
       "       [ 0.00521756,  0.02756579],\n",
       "       [ 0.01142659,  0.00585585],\n",
       "       [ 0.00879641,  0.01178913],\n",
       "       [ 0.0049744 ,  0.00592358],\n",
       "       [ 0.05406123,  0.0161187 ],\n",
       "       [ 0.04166177,  0.10876396],\n",
       "       [ 0.03625891,  0.00220388],\n",
       "       [ 0.03083198,  0.01237422],\n",
       "       [ 0.01636625,  0.00363871],\n",
       "       [ 0.03146043,  0.91650218],\n",
       "       [-0.89942999,  0.00247576]])"
      ]
     },
     "execution_count": 28,
     "metadata": {},
     "output_type": "execute_result"
    }
   ],
   "source": [
    "arr_mean + 2*arr_std"
   ]
  },
  {
   "cell_type": "code",
   "execution_count": 29,
   "metadata": {},
   "outputs": [
    {
     "data": {
      "text/plain": [
       "array([[-0.00218684, -0.04397452],\n",
       "       [-0.00469487, -0.03045835],\n",
       "       [-0.0126289 , -0.00647679],\n",
       "       [-0.00970145, -0.01065658],\n",
       "       [-0.00451106, -0.00535575],\n",
       "       [-0.05976417, -0.01455816],\n",
       "       [-0.03767503,  0.09935969],\n",
       "       [-0.04009733, -0.00197138],\n",
       "       [-0.02787907, -0.01118905],\n",
       "       [-0.01810118, -0.004019  ],\n",
       "       [-0.02844086,  0.90089424],\n",
       "       [-0.91461949, -0.00273289]])"
      ]
     },
     "execution_count": 29,
     "metadata": {},
     "output_type": "execute_result"
    }
   ],
   "source": [
    "arr_mean - 2*arr_std"
   ]
  },
  {
   "cell_type": "code",
   "execution_count": 59,
   "metadata": {},
   "outputs": [],
   "source": [
    "arr_truncate += np.random.normal(0, 0.05, size=(100,12, 2))"
   ]
  },
  {
   "cell_type": "code",
   "execution_count": 60,
   "metadata": {},
   "outputs": [
    {
     "name": "stdout",
     "output_type": "stream",
     "text": [
      "i, n: 0 0\n",
      "-0.015591403611280245 0.09406537620716202\n",
      "i, n: 1 0\n",
      "0.931923805714898 0.10519437201980837\n",
      "i, n: 2 0\n",
      "-0.007204683739787439 0.10145256008273382\n",
      "i, n: 3 0\n",
      "0.0019238985395628777 0.11087347454895974\n",
      "i, n: 4 0\n",
      "0.0016004174644002618 0.1146881157126281\n",
      "i, n: 5 0\n",
      "0.10358205574325668 0.12362958772298333\n",
      "i, n: 6 0\n",
      "-0.0038376873087805864 0.10986953791919687\n",
      "i, n: 7 0\n",
      "0.01269691625248859 0.1218684128790593\n",
      "i, n: 8 0\n",
      "0.00013599588079497862 0.11174542890058937\n",
      "i, n: 9 0\n",
      "-0.0019937711818959845 0.1003861843559005\n",
      "i, n: 10 0\n",
      "-0.00394598419839953 0.11183149820291592\n",
      "i, n: 11 0\n",
      "-0.011979984823324588 0.10197521591044818\n",
      "i, n: 0 1\n",
      "-0.8956494225752814 0.12192159276946807\n",
      "i, n: 1 1\n",
      "0.0019447326547435446 0.10213955037624584\n",
      "i, n: 2 1\n",
      "0.0018989295070152674 0.11763892248993336\n",
      "i, n: 3 1\n",
      "0.004688783579745931 0.11275231932668107\n",
      "i, n: 4 1\n",
      "0.004267236466799002 0.12005183189560988\n",
      "i, n: 5 1\n",
      "-0.008722528798241364 0.10211113094271963\n",
      "i, n: 6 1\n",
      "0.011987995350497459 0.10767028683431498\n",
      "i, n: 7 1\n",
      "-0.01491513038590563 0.10881319331928033\n",
      "i, n: 8 1\n",
      "0.005985166777592683 0.08995290033088636\n",
      "i, n: 9 1\n",
      "0.015753722270447666 0.0977276190240921\n",
      "i, n: 10 1\n",
      "0.005558792588104633 0.10740714727881642\n",
      "i, n: 11 1\n",
      "-0.0063053345318757415 0.1259941969072454\n"
     ]
    },
    {
     "data": {
      "image/png": "[encoded data removed]",
      "text/plain": [
       "<Figure size 576x576 with 2 Axes>"
      ]
     },
     "metadata": {
      "needs_background": "light"
     },
     "output_type": "display_data"
    }
   ],
   "source": [
    "import numpy as np\n",
    "import matplotlib as mpl\n",
    "import matplotlib.pyplot as plt\n",
    "\n",
    "library_names = [r\"$1$\", r\"$u$\", r\"$v$\", r\"$u_x$\", r\"$v_x$\", r\"$u_x^2$\",\n",
    "                r\"$u_x^3$\",r\"$u_x^2v_x$\",r\"$u_xv_x^2$\",r\"$v_x^3$\",r\"$\\sin(u_x)$\",r\"$\\sin(v_x)$\",]\n",
    "library_names.reverse()\n",
    "latent_dim_names = [r\"$u$\", r\"$v$\"]\n",
    "def curve(arr):\n",
    "    n = 1\n",
    "    center = np.mean(arr)\n",
    "    scale = np.std(arr)\n",
    "    print(center, scale)\n",
    "    scale *= 2.0\n",
    "    X = np.zeros(500)\n",
    "    x = np.linspace(-3, 3, len(X))\n",
    "    X = 1.0/(scale*np.sqrt(2*np.pi)) * np.exp(-0.5 * ((x - center) / scale)**2)\n",
    "    return X/10.0\n",
    "\n",
    "cmap = mpl.cm.get_cmap(\"Blues\")\n",
    "fig = plt.figure(figsize=(8, 8))\n",
    "arr_truncate = arr_truncate.reshape((100, 12, 2))\n",
    "\n",
    "ax = None\n",
    "for n in range(2):\n",
    "    ax = plt.subplot(1, 2, n+1, frameon=False, sharex=ax)\n",
    "    for i in range(0, len(arr_mean)):\n",
    "        print(\"i, n:\", i, n)\n",
    "        Y = curve(arr_truncate[:,11-i, 1-n])\n",
    "        X = np.linspace(-3, 3, len(Y))\n",
    "        ax.plot(X, 3 * Y + i, color=\"k\", linewidth=0.75, zorder=100 - i)\n",
    "        color = cmap(abs(arr_mean[11-i, 1-n]) / 3.0 + 0.2)\n",
    "        ax.fill_between(X, 3 * Y + i, i, color=color, zorder=100 - i)\n",
    "\n",
    "    ax.yaxis.set_tick_params(tick1On=False)\n",
    "    ax.set_xlim(-1.5, 1.5)\n",
    "    ax.set_ylim(-1, 13)\n",
    "    ax.axvline(0.0, ls=\"--\", lw=0.75, color=\"black\", zorder=250)\n",
    "    ax.text(\n",
    "        0.0,\n",
    "        1.0,\n",
    "        latent_dim_names[n],\n",
    "        ha=\"left\",\n",
    "        va=\"top\",\n",
    "        weight=\"bold\",\n",
    "        transform=ax.transAxes,\n",
    "    )\n",
    "\n",
    "    if n == 0:\n",
    "        ax.yaxis.set_tick_params(labelleft=True)\n",
    "        ax.set_yticks(np.arange(len(arr_mean)))\n",
    "#         ax.set_yticklabels([\"Serie %d\" % i for i in range(1, len(arr_mean)+1)])\n",
    "        ax.set_yticklabels(library_names)\n",
    "        for tick in ax.yaxis.get_major_ticks():\n",
    "            tick.label.set_fontsize(16)\n",
    "            tick.label.set_verticalalignment(\"bottom\")\n",
    "    else:\n",
    "        ax.yaxis.set_tick_params(labelleft=False)\n",
    "\n",
    "plt.rcParams.update({'font.size': 20})\n",
    "# cax = plt.axes([0.85, 0.1, 0.075, 0.8])\n",
    "# plt.colorbar(fig, cax=cax)\n",
    "plt.tight_layout()\n",
    "plt.xlabel('Coefficient value')\n",
    "plt.show()"
   ]
  },
  {
   "cell_type": "code",
   "execution_count": 61,
   "metadata": {},
   "outputs": [],
   "source": [
    "z_sim = sindy_simulate(test_set_results['z'][0], test_data['t'][:,0],\n",
    "                       params['coefficient_mask']*test_set_results['sindy_coefficients'],\n",
    "                       params['poly_order'], params['include_sine'])"
   ]
  },
  {
   "cell_type": "code",
   "execution_count": 62,
   "metadata": {},
   "outputs": [],
   "source": [
    "z_sim = np.zeros((1000, 2))\n",
    "mc_num = 10\n",
    "mc_z_sim = np.zeros((mc_num, 1000, 2))\n",
    "for j in range(mc_num):\n",
    "    coeff = arr_truncate[j*8].reshape(12, 2)\n",
    "    mc_z_sim[j] = sindy_simulate(test_set_results['z'][0], test_data['t'][:,0],\n",
    "                   params['coefficient_mask']*coeff,\n",
    "                   params['poly_order'], params['include_sine'])"
   ]
  },
  {
   "cell_type": "code",
   "execution_count": 63,
   "metadata": {},
   "outputs": [
    {
     "data": {
      "text/plain": [
       "array([[ 0.7735244 , -0.30299231],\n",
       "       [ 0.78492578, -0.26942676],\n",
       "       [ 0.79501349, -0.23549801],\n",
       "       ...,\n",
       "       [-0.16489413,  0.88413215],\n",
       "       [-0.1960175 ,  0.87555983],\n",
       "       [-0.22690019,  0.86553512]])"
      ]
     },
     "execution_count": 63,
     "metadata": {},
     "output_type": "execute_result"
    }
   ],
   "source": [
    "mc_z_sim[0]"
   ]
  },
  {
   "cell_type": "code",
   "execution_count": 64,
   "metadata": {},
   "outputs": [
    {
     "data": {
      "text/plain": [
       "array([[ 0.7735244 , -0.30299231],\n",
       "       [ 0.78600619, -0.27185248],\n",
       "       [ 0.79715941, -0.24034265],\n",
       "       ...,\n",
       "       [-0.49643633,  0.66054083],\n",
       "       [-0.52307428,  0.6389301 ],\n",
       "       [-0.54893043,  0.61631225]])"
      ]
     },
     "execution_count": 64,
     "metadata": {},
     "output_type": "execute_result"
    }
   ],
   "source": [
    "mc_z_sim[1]"
   ]
  },
  {
   "cell_type": "code",
   "execution_count": 65,
   "metadata": {},
   "outputs": [
    {
     "data": {
      "image/png": "[encoded data removed]",
      "text/plain": [
       "<Figure size 216x144 with 2 Axes>"
      ]
     },
     "metadata": {},
     "output_type": "display_data"
    }
   ],
   "source": [
    "t = np.arange(0, 1000, 1.0)\n",
    "plt.figure(figsize=(3,2))\n",
    "plt.subplot(2,1,1)\n",
    "plt.plot(test_set_results['z'][:,0], 'k', color='#888888', linewidth=2)\n",
    "plt.plot(t, np.mean(mc_z_sim[:,:,0], axis=0), '--', linewidth=2)\n",
    "plt.fill_between(t, np.mean(mc_z_sim[:,:,0], axis=0)-1*np.std(mc_z_sim[:,:,0], axis=0),\n",
    "                np.mean(mc_z_sim[:,:,0], axis=0)+1*np.std(mc_z_sim[:,:,0], axis=0), alpha=0.3)\n",
    "plt.xticks([])\n",
    "plt.yticks([])\n",
    "plt.axis('off')\n",
    "\n",
    "plt.subplot(2,1,2)\n",
    "plt.plot(test_set_results['z'][:,1], color='#888888', linewidth=2)\n",
    "plt.plot(t, np.mean(mc_z_sim[:,:,1], axis=0), '--', linewidth=2)\n",
    "plt.fill_between(t, np.mean(mc_z_sim[:,:,1], axis=0)-1*np.std(mc_z_sim[:,:,1], axis=0),\n",
    "                np.mean(mc_z_sim[:,:,1], axis=0)+1*np.std(mc_z_sim[:,:,1], axis=0), alpha=0.3)\n",
    "plt.xticks([])\n",
    "plt.yticks([])\n",
    "plt.axis('off')\n",
    "plt.savefig('rd_uq.pdf')"
   ]
  },
  {
   "cell_type": "code",
   "execution_count": 25,
   "metadata": {},
   "outputs": [
    {
     "data": {
      "text/plain": [
       "array([0.        , 0.0023184 , 0.00466336, 0.00702832, 0.00940671,\n",
       "       0.01179197, 0.01417751, 0.01655675, 0.01892306, 0.02126979,\n",
       "       0.02359019, 0.02587749, 0.02812479, 0.0303251 , 0.03247134,\n",
       "       0.0345563 , 0.03657267, 0.03851305, 0.04036997, 0.0421359 ,\n",
       "       0.04380331, 0.0453647 , 0.04681266, 0.04813995, 0.04933954,\n",
       "       0.05040472, 0.05132917, 0.05210709, 0.05273327, 0.05320325,\n",
       "       0.0535134 , 0.05366107, 0.05364478, 0.05346432, 0.05312101,\n",
       "       0.05261785, 0.0519598 , 0.05115404, 0.05021035, 0.04914148,\n",
       "       0.04796364, 0.04669707, 0.04536668, 0.04400275, 0.04264163,\n",
       "       0.04132634, 0.0401068 , 0.03903933, 0.03818517, 0.0376074 ,\n",
       "       0.03736622, 0.03751316, 0.03808524, 0.03910082, 0.04055843,\n",
       "       0.04243879, 0.04470915, 0.04732844, 0.05025189, 0.05343454,\n",
       "       0.05683344, 0.06040886, 0.0641247 , 0.06794853, 0.07185133,\n",
       "       0.07580722, 0.07979309, 0.08378831, 0.08777438, 0.09173473,\n",
       "       0.09565449, 0.09952026, 0.10331995, 0.10704264, 0.1106784 ,\n",
       "       0.11421819, 0.11765367, 0.12097713, 0.12418132, 0.12725938,\n",
       "       0.13020468, 0.13301073, 0.1356711 , 0.13817928, 0.14052866,\n",
       "       0.14271242, 0.14472347, 0.14655443, 0.1481976 , 0.14964494,\n",
       "       0.15088808, 0.15191835, 0.15272681, 0.15330432, 0.15364162,\n",
       "       0.15372942, 0.15355848, 0.15311977, 0.15240459, 0.15140471,\n",
       "       0.15011252, 0.14852121, 0.14662494, 0.14441901, 0.14190007,\n",
       "       0.13906631, 0.13591769, 0.13245618, 0.12868605, 0.12461419,\n",
       "       0.1202505 , 0.11560841, 0.11070551, 0.10556443, 0.10021397,\n",
       "       0.09469074, 0.08904138, 0.08332569, 0.07762097, 0.07202792,\n",
       "       0.06667807, 0.06174222, 0.0574367 , 0.0540208 , 0.05177378,\n",
       "       0.05094324, 0.05167566, 0.05396856, 0.05767971, 0.06258441,\n",
       "       0.06843904, 0.0750216 , 0.08214693, 0.08966687, 0.09746438,\n",
       "       0.10544672, 0.1135395 , 0.12168209, 0.12982426, 0.13792371,\n",
       "       0.14594436, 0.15385509, 0.16162879, 0.16924173, 0.17667303,\n",
       "       0.18390426, 0.19091912, 0.19770319, 0.20424365, 0.21052913,\n",
       "       0.21654948, 0.22229559, 0.22775922, 0.23293286, 0.23780952,\n",
       "       0.24238265, 0.24664592, 0.25059318, 0.25421825, 0.2575149 ,\n",
       "       0.26047672, 0.26309707, 0.26536901, 0.26728532, 0.26883842,\n",
       "       0.27002048, 0.27082337, 0.27123876, 0.27125822, 0.27087328,\n",
       "       0.27007558, 0.26885698, 0.26720972, 0.26512662, 0.2626012 ,\n",
       "       0.25962791, 0.2562023 , 0.25232126, 0.24798319, 0.24318827,\n",
       "       0.23793866, 0.2322388 , 0.22609564, 0.219519  , 0.21252192,\n",
       "       0.2051211 , 0.19733748, 0.18919686, 0.18073087, 0.17197816,\n",
       "       0.16298597, 0.15381234, 0.14452917, 0.13522628, 0.12601706,\n",
       "       0.11704581, 0.10849682, 0.10060415, 0.09365854, 0.08800363,\n",
       "       0.08400953, 0.08201322, 0.08223517, 0.08471132, 0.08928617,\n",
       "       0.09567103, 0.10352606, 0.1125237 , 0.12238014, 0.13286283,\n",
       "       0.14378585, 0.15500147, 0.16639171, 0.17786128, 0.1893322 ,\n",
       "       0.20073971, 0.21202931, 0.2231546 , 0.23407561, 0.24475764,\n",
       "       0.25517034, 0.26528695, 0.27508381, 0.28453984, 0.29363619,\n",
       "       0.30235593, 0.31068372, 0.31860559, 0.32610873, 0.33318129,\n",
       "       0.33981216, 0.34599089, 0.35170749, 0.35695233, 0.36171605,\n",
       "       0.36598951, 0.36976366, 0.37302961, 0.37577853, 0.3780017 ,\n",
       "       0.37969055, 0.38083669, 0.38143201, 0.38146874, 0.38093958,\n",
       "       0.37983782, 0.37815749, 0.3758935 , 0.3730418 , 0.36959956,\n",
       "       0.36556537, 0.3609394 , 0.35572363, 0.34992205, 0.34354086,\n",
       "       0.33658875, 0.32907714, 0.32102046, 0.31243649, 0.30334673,\n",
       "       0.29377685, 0.28375728, 0.27332383, 0.2625186 , 0.25139107,\n",
       "       0.2399995 , 0.22841279, 0.2167128 , 0.20499749, 0.19338469,\n",
       "       0.18201682, 0.17106637, 0.16074132, 0.15128924, 0.14299691,\n",
       "       0.13618085, 0.13116344, 0.12823232, 0.12758941, 0.12930726,\n",
       "       0.13331337, 0.1394108 , 0.14732371, 0.15674673, 0.16738248,\n",
       "       0.17896272, 0.19125622, 0.20406855, 0.21723804, 0.23063059,\n",
       "       0.2441346 , 0.25765659, 0.27111758, 0.28445022, 0.29759652,\n",
       "       0.31050611, 0.3231348 , 0.33544353, 0.34739743, 0.3589652 ,\n",
       "       0.37011847, 0.38083134, 0.39108002, 0.40084248, 0.41009821,\n",
       "       0.41882797, 0.42701361, 0.43463795, 0.44168464, 0.44813809,\n",
       "       0.45398342, 0.4592064 , 0.46379348, 0.46773182, 0.47100926,\n",
       "       0.47361445, 0.4755369 , 0.47676708, 0.47729651, 0.47711789,\n",
       "       0.47622525, 0.47461405, 0.47228137, 0.46922605, 0.46544881,\n",
       "       0.46095247, 0.45574211, 0.44982524, 0.44321195, 0.43591518,\n",
       "       0.4279509 , 0.41933831, 0.41010016, 0.40026302, 0.38985764,\n",
       "       0.37891933, 0.36748852, 0.35561128, 0.34334016, 0.33073499,\n",
       "       0.3178641 , 0.30480563, 0.29164928, 0.27849829, 0.26547182,\n",
       "       0.2527076 , 0.24036467, 0.22862572, 0.21769835, 0.20781393,\n",
       "       0.19922228, 0.1921804 , 0.1869339 , 0.18369209, 0.18260094,\n",
       "       0.18372115, 0.18701881, 0.19237218, 0.19959195, 0.20844787,\n",
       "       0.21869428, 0.23008974, 0.24240943, 0.25545127, 0.26903757,\n",
       "       0.28301413, 0.29724792, 0.3116243 , 0.3260443 , 0.34042207,\n",
       "       0.35468271, 0.36876038, 0.3825968 , 0.39613991, 0.40934288,\n",
       "       0.4221632 , 0.43456204, 0.4465036 , 0.45795474, 0.46888451,\n",
       "       0.47926394, 0.48906575, 0.49826421, 0.50683497, 0.51475502,\n",
       "       0.52200262, 0.52855727, 0.53439973, 0.53951208, 0.54387773,\n",
       "       0.54748155, 0.55030991, 0.55235083, 0.55359406, 0.55403123,\n",
       "       0.55365596, 0.55246403, 0.55045347, 0.54762476, 0.54398092,\n",
       "       0.53952771, 0.53427377, 0.52823073, 0.52141345, 0.51384016,\n",
       "       0.50553261, 0.49651635, 0.48682091, 0.47648006, 0.46553212,\n",
       "       0.45402031, 0.44199317, 0.42950501, 0.41661653, 0.40339547,\n",
       "       0.38991747, 0.37626694, 0.36253822, 0.34883675, 0.33528037,\n",
       "       0.32200058, 0.30914365, 0.29687121, 0.28535994, 0.27479983,\n",
       "       0.26539019, 0.25733288, 0.25082231, 0.24603251, 0.24310272,\n",
       "       0.24212376, 0.24312822, 0.24608706, 0.25091343, 0.2574728 ,\n",
       "       0.26559678, 0.27509771, 0.28578151, 0.29745763, 0.30994565,\n",
       "       0.3230791 , 0.33670695, 0.35069376, 0.36491878, 0.37927466,\n",
       "       0.39366596, 0.40800763, 0.4222236 , 0.4362455 , 0.45001153,\n",
       "       0.46346553, 0.47655613, 0.48923609, 0.50146172, 0.51319245,\n",
       "       0.52439042, 0.53502024, 0.54504873, 0.55444476, 0.56317917,\n",
       "       0.57122466, 0.57855581, 0.58514902, 0.59098259, 0.59603674,\n",
       "       0.60029369, 0.60373775, 0.60635541, 0.60813541, 0.60906891,\n",
       "       0.60914957, 0.60837367, 0.60674024, 0.60425116, 0.60091135,\n",
       "       0.59672882, 0.59171484, 0.58588407, 0.57925471, 0.57184862,\n",
       "       0.56369153, 0.55481316, 0.54524746, 0.53503281, 0.52421224,\n",
       "       0.51283378, 0.50095071, 0.48862197, 0.47591257, 0.46289409,\n",
       "       0.44964516, 0.43625212, 0.42280955, 0.40942094, 0.39619924,\n",
       "       0.38326719, 0.37075755, 0.35881265, 0.34758343, 0.33722738,\n",
       "       0.32790532, 0.31977667, 0.31299327, 0.3076919 , 0.30398621,\n",
       "       0.30195892, 0.3016556 , 0.30308113, 0.30619947, 0.31093697,\n",
       "       0.31718833, 0.32482444, 0.3337006 , 0.34366418, 0.35456111,\n",
       "       0.36624077, 0.37855936, 0.39138193, 0.40458344, 0.41804891,\n",
       "       0.43167322, 0.44536049, 0.45902336, 0.47258215, 0.48596413,\n",
       "       0.4991027 , 0.51193674, 0.52441004, 0.53647071, 0.54807078,\n",
       "       0.55916585, 0.56971475, 0.57967932, 0.58902423, 0.59771683,\n",
       "       0.60572706, 0.61302737, 0.61959274, 0.6254006 , 0.63043089,\n",
       "       0.63466609, 0.63809124, 0.64069404, 0.64246484, 0.64339679,\n",
       "       0.64348588, 0.64273101, 0.64113409, 0.63870014, 0.63543734,\n",
       "       0.63135715, 0.6264744 , 0.62080739, 0.61437799, 0.60721177,\n",
       "       0.59933811, 0.59079033, 0.58160586, 0.57182639, 0.56149806,\n",
       "       0.5506717 , 0.53940299, 0.52775282, 0.51578746, 0.50357893,\n",
       "       0.49120529, 0.47875091, 0.46630672, 0.45397043, 0.44184652,\n",
       "       0.43004614, 0.41868663, 0.40789068, 0.39778496, 0.38849808,\n",
       "       0.38015787, 0.37288791, 0.3668033 , 0.3620061 , 0.35858051,\n",
       "       0.35658858, 0.35606665, 0.3570233 , 0.35943891, 0.36326697,\n",
       "       0.36843706, 0.3748588 , 0.3824266 , 0.39102442, 0.40053021,\n",
       "       0.41081975, 0.42176981, 0.43326036, 0.44517627, 0.45740831,\n",
       "       0.46985363, 0.48241601, 0.49500575, 0.50753951, 0.51993993,\n",
       "       0.53213532, 0.54405928, 0.55565036, 0.56685171, 0.57761082,\n",
       "       0.58787925, 0.5976124 , 0.60676937, 0.61531279, 0.62320868,\n",
       "       0.63042643, 0.63693864, 0.64272114, 0.64775294, 0.6520162 ,\n",
       "       0.6554962 , 0.65818139, 0.66006334, 0.66113679, 0.66139965,\n",
       "       0.66085299, 0.65950113, 0.65735158, 0.65441513, 0.65070587,\n",
       "       0.64624119, 0.64104189, 0.63513213, 0.6285396 , 0.62129547,\n",
       "       0.61343455, 0.60499531, 0.59601999, 0.58655474, 0.57664968,\n",
       "       0.56635907, 0.55574142, 0.54485965, 0.53378118, 0.52257814,\n",
       "       0.51132735, 0.50011043, 0.48901372, 0.47812813, 0.46754878,\n",
       "       0.45737445, 0.44770676, 0.43864899, 0.43030453, 0.42277492,\n",
       "       0.41615756, 0.41054292, 0.40601178, 0.40263219, 0.40045683,\n",
       "       0.39952067, 0.39983946, 0.40140895, 0.40420519, 0.40818563,\n",
       "       0.41329112, 0.41944841, 0.42657301, 0.43457209, 0.44334729,\n",
       "       0.45279723, 0.4628196 , 0.47331295, 0.48417796, 0.49531845,\n",
       "       0.50664203, 0.51806055, 0.52949029, 0.54085211, 0.55207144,\n",
       "       0.56307821, 0.57380679, 0.58419583, 0.59418825, 0.60373102,\n",
       "       0.61277518, 0.62127567, 0.62919134, 0.63648485, 0.64312266,\n",
       "       0.64907498, 0.65431579, 0.65882276, 0.6625773 , 0.66556452,\n",
       "       0.66777323, 0.66919591, 0.66982873, 0.66967152, 0.66872774,\n",
       "       0.66700447, 0.66451243, 0.66126588, 0.65728266, 0.65258415,\n",
       "       0.64719526, 0.6411444 , 0.63446347, 0.62718788, 0.61935654,\n",
       "       0.61101185, 0.60219975, 0.59296974, 0.58337491, 0.57347198,\n",
       "       0.56332134, 0.55298707, 0.54253697, 0.53204252, 0.52157885,\n",
       "       0.51122458, 0.50106159, 0.49117469, 0.48165107, 0.47257959,\n",
       "       0.46404988, 0.45615107, 0.44897038, 0.44259136, 0.437092  ,\n",
       "       0.4325426 , 0.4290037 , 0.42652406, 0.42513891, 0.42486867,\n",
       "       0.4257181 , 0.42767614, 0.43071637, 0.43479805, 0.43986764,\n",
       "       0.44586064, 0.45270371, 0.46031669, 0.46861467, 0.4775098 ,\n",
       "       0.4869129 , 0.49673476, 0.50688728, 0.51728422, 0.52784191,\n",
       "       0.53847959, 0.5491198 , 0.55968852, 0.57011529, 0.58033326,\n",
       "       0.59027924, 0.59989367, 0.60912063, 0.61790782, 0.62620656,\n",
       "       0.63397178, 0.64116204, 0.64773956, 0.65367019, 0.6589235 ,\n",
       "       0.66347276, 0.66729501, 0.67037108, 0.67268562, 0.67422713,\n",
       "       0.67498798, 0.67496444, 0.67415668, 0.6725688 , 0.67020877,\n",
       "       0.66708851, 0.6632238 , 0.65863429, 0.65334348, 0.6473787 ,\n",
       "       0.64077107, 0.63355547, 0.62577055, 0.61745868, 0.60866593,\n",
       "       0.59944211, 0.58984072, 0.57991896, 0.56973774, 0.55936167,\n",
       "       0.54885906, 0.53830183, 0.52776546, 0.5173288 , 0.50707387,\n",
       "       0.49708547, 0.48745069, 0.4782582 , 0.46959734, 0.46155698,\n",
       "       0.45422407, 0.44768204, 0.44200888, 0.43727515, 0.43354195,\n",
       "       0.43085893, 0.42926255, 0.42877479, 0.42940228, 0.43113606,\n",
       "       0.43395195, 0.43781151, 0.44266346, 0.44844547, 0.45508618,\n",
       "       0.46250726, 0.47062537, 0.47935404, 0.48860529, 0.49829094,\n",
       "       0.50832377, 0.51861834, 0.52909165, 0.53966361, 0.55025732,\n",
       "       0.56079931, 0.57121961, 0.5814518 , 0.59143306, 0.60110411,\n",
       "       0.6104092 , 0.61929607, 0.6277159 , 0.63562334, 0.64297644,\n",
       "       0.64973665, 0.65586886, 0.66134137, 0.66612594, 0.67019781,\n",
       "       0.67353571, 0.67612193, 0.67794235, 0.67898647, 0.67924744,\n",
       "       0.6787221 , 0.67741104, 0.67531858, 0.67245282, 0.66882566,\n",
       "       0.66445277, 0.65935367, 0.65355165, 0.64707386, 0.63995122,\n",
       "       0.63221849, 0.62391424, 0.61508087, 0.60576462, 0.59601561,\n",
       "       0.58588784, 0.57543923, 0.56473171, 0.55383118, 0.54280758,\n",
       "       0.5317349 , 0.5206911 , 0.50975806, 0.49902134, 0.48856986,\n",
       "       0.47849542, 0.46889198, 0.45985468, 0.45147857, 0.44385708,\n",
       "       0.43708008, 0.43123174, 0.42638819, 0.42261511, 0.41996539,\n",
       "       0.41847712, 0.41817205, 0.41905465, 0.42111191, 0.42431389,\n",
       "       0.42861499, 0.43395574, 0.44026498, 0.44746228, 0.45546035,\n",
       "       0.46416731, 0.47348874, 0.48332946, 0.49359495, 0.50419248,\n",
       "       0.51503195, 0.52602652, 0.537093  , 0.54815212, 0.55912864,\n",
       "       0.56995141, 0.58055335, 0.59087144, 0.60084662, 0.61042369,\n",
       "       0.6195513 , 0.62818182, 0.63627128, 0.64377934, 0.65066922,\n",
       "       0.65690767, 0.66246495, 0.66731481, 0.67143446, 0.6748046 ,\n",
       "       0.67740939, 0.67923648, 0.68027699, 0.68052554, 0.67998025,\n",
       "       0.67864274, 0.67651816, 0.67361518, 0.66994597, 0.66552625,\n",
       "       0.66037526, 0.65451578, 0.64797409, 0.64078003, 0.63296697,\n",
       "       0.62457183, 0.6156351 , 0.60620086, 0.59631682, 0.58603437,\n",
       "       0.57540865, 0.5644986 , 0.55336704, 0.54208073, 0.53071046,\n",
       "       0.51933107, 0.50802147, 0.49686451, 0.48594688, 0.4753587 ,\n",
       "       0.46519308, 0.45554531, 0.44651186, 0.43818899, 0.430671  ,\n",
       "       0.42404823, 0.41840466, 0.41381539, 0.41034404, 0.40804035,\n",
       "       0.4069381 , 0.40705362, 0.40838499, 0.41091218, 0.4145978 ,\n",
       "       0.41938872, 0.42521822, 0.43200839, 0.43967276, 0.44811883,\n",
       "       0.45725041, 0.46696964, 0.47717872, 0.48778127, 0.49868332,\n",
       "       0.50979413, 0.52102663, 0.5322978 , 0.54352886, 0.55464528,\n",
       "       0.56557686, 0.57625765, 0.58662588, 0.5966239 , 0.60619807,\n",
       "       0.61529865, 0.6238798 , 0.63189942, 0.63931916, 0.64610432,\n",
       "       0.65222384, 0.65765027, 0.6623597 , 0.66633181, 0.66954981,\n",
       "       0.67200041, 0.67367387, 0.67456393, 0.67466783, 0.67398629,\n",
       "       0.67252351, 0.67028713, 0.66728824, 0.66354135, 0.65906438,\n",
       "       0.65387861, 0.64800871, 0.64148268, 0.63433186, 0.62659089])"
      ]
     },
     "execution_count": 25,
     "metadata": {},
     "output_type": "execute_result"
    }
   ],
   "source": [
    "np.std(mc_z_sim[:,:,1], axis=0)"
   ]
  },
  {
   "cell_type": "code",
   "execution_count": 27,
   "metadata": {},
   "outputs": [
    {
     "data": {
      "text/plain": [
       "(-49.95, 1048.95, -0.9297636151313782, 0.9319799542427063)"
      ]
     },
     "execution_count": 27,
     "metadata": {},
     "output_type": "execute_result"
    },
    {
     "data": {
      "image/png": "[encoded data removed]",
      "text/plain": [
       "<Figure size 216x144 with 2 Axes>"
      ]
     },
     "metadata": {},
     "output_type": "display_data"
    }
   ],
   "source": [
    "plt.figure(figsize=(3,2))\n",
    "plt.subplot(2,1,1)\n",
    "plt.plot(test_set_results['z'][:,0], 'k', color='#888888', linewidth=2)\n",
    "plt.plot(z_sim[:,0], '--', linewidth=2)\n",
    "plt.xticks([])\n",
    "plt.yticks([])\n",
    "plt.axis('off')\n",
    "\n",
    "plt.subplot(2,1,2)\n",
    "plt.plot(test_set_results['z'][:,1], color='#888888', linewidth=2)\n",
    "plt.plot(z_sim[:,1], '--', linewidth=2)\n",
    "plt.xticks([])\n",
    "plt.yticks([])\n",
    "plt.axis('off')"
   ]
  },
  {
   "cell_type": "code",
   "execution_count": 26,
   "metadata": {},
   "outputs": [
    {
     "data": {
      "text/plain": [
       "([], [])"
      ]
     },
     "execution_count": 26,
     "metadata": {},
     "output_type": "execute_result"
    },
    {
     "data": {
      "image/png": "[encoded data removed]",
      "text/plain": [
       "<Figure size 216x216 with 1 Axes>"
      ]
     },
     "metadata": {},
     "output_type": "display_data"
    }
   ],
   "source": [
    "plt.figure(figsize=(3,3))\n",
    "plt.plot(np.mean(mc_z_sim[:,:,0], axis=0), np.mean(mc_z_sim[:,:,1], axis=0), linewidth=2)\n",
    "# plt.fill_between(np.mean(mc_z_sim[:,:,0], axis=0)-np.std(mc_z_sim[:,:,0], axis=0),\n",
    "#                 np.mean(mc_z_sim[:,:,0], axis=0)+np.std(mc_z_sim[:,:,0], axis=0), alpha=0.3)\n",
    "plt.axis('equal')\n",
    "plt.axis('off')\n",
    "plt.xticks([])\n",
    "plt.yticks([])"
   ]
  },
  {
   "cell_type": "code",
   "execution_count": 106,
   "metadata": {},
   "outputs": [
    {
     "data": {
      "text/plain": [
       "(1000, 2)"
      ]
     },
     "execution_count": 106,
     "metadata": {},
     "output_type": "execute_result"
    }
   ],
   "source": [
    "z_sim.shape"
   ]
  },
  {
   "cell_type": "code",
   "execution_count": 28,
   "metadata": {},
   "outputs": [],
   "source": [
    "z_sim = sindy_simulate(test_set_results['z'][0], test_data['t'][:,0],\n",
    "                       params['coefficient_mask']*np.mean(arr_truncate, axis=0),\n",
    "                       params['poly_order'], params['include_sine'])"
   ]
  },
  {
   "cell_type": "code",
   "execution_count": 29,
   "metadata": {},
   "outputs": [
    {
     "data": {
      "text/plain": [
       "([], [])"
      ]
     },
     "execution_count": 29,
     "metadata": {},
     "output_type": "execute_result"
    },
    {
     "data": {
      "image/png": "[encoded data removed]",
      "text/plain": [
       "<Figure size 216x216 with 1 Axes>"
      ]
     },
     "metadata": {},
     "output_type": "display_data"
    }
   ],
   "source": [
    "plt.figure(figsize=(3,3))\n",
    "plt.plot(z_sim[:,0], z_sim[:,1], linewidth=2)\n",
    "plt.axis('equal')\n",
    "plt.axis('off')\n",
    "plt.xticks([])\n",
    "plt.yticks([])"
   ]
  },
  {
   "cell_type": "code",
   "execution_count": 27,
   "metadata": {},
   "outputs": [
    {
     "name": "stdout",
     "output_type": "stream",
     "text": [
      "Decoder relative error: 0.015943\n",
      "Decoder relative SINDy error: 0.016534\n",
      "SINDy reltive error, z: 0.009469\n"
     ]
    }
   ],
   "source": [
    "decoder_x_error = np.mean((test_data['x'] - test_set_results['x_decode'])**2)/np.mean(test_data['x']**2)\n",
    "decoder_dx_error = np.mean((test_data['dx'] - test_set_results['dx_decode'])**2)/np.mean(test_data['dx']**2)\n",
    "sindy_dz_error = np.mean((test_set_results['dz'] - test_set_results['dz_predict'])**2)/np.mean(test_set_results['dz']**2)\n",
    "\n",
    "print('Decoder relative error: %f' % decoder_x_error)\n",
    "print('Decoder relative SINDy error: %f' % decoder_dx_error)\n",
    "print('SINDy reltive error, z: %f' % sindy_dz_error)"
   ]
  },
  {
   "cell_type": "code",
   "execution_count": null,
   "metadata": {},
   "outputs": [],
   "source": []
  }
 ],
 "metadata": {
  "kernelspec": {
   "display_name": "mars",
   "language": "python",
   "name": "mars"
  },
  "language_info": {
   "codemirror_mode": {
    "name": "ipython",
    "version": 3
   },
   "file_extension": ".py",
   "mimetype": "text/x-python",
   "name": "python",
   "nbconvert_exporter": "python",
   "pygments_lexer": "ipython3",
   "version": "3.7.13"
  },
  "toc": {
   "base_numbering": 1,
   "nav_menu": {},
   "number_sections": true,
   "sideBar": true,
   "skip_h1_title": false,
   "title_cell": "Table of Contents",
   "title_sidebar": "Contents",
   "toc_cell": false,
   "toc_position": {},
   "toc_section_display": true,
   "toc_window_display": false
  },
  "varInspector": {
   "cols": {
    "lenName": 16,
    "lenType": 16,
    "lenVar": 40
   },
   "kernels_config": {
    "python": {
     "delete_cmd_postfix": "",
     "delete_cmd_prefix": "del ",
     "library": "var_list.py",
     "varRefreshCmd": "print(var_dic_list())"
    },
    "r": {
     "delete_cmd_postfix": ") ",
     "delete_cmd_prefix": "rm(",
     "library": "var_list.r",
     "varRefreshCmd": "cat(var_dic_list()) "
    }
   },
   "types_to_exclude": [
    "module",
    "function",
    "builtin_function_or_method",
    "instance",
    "_Feature"
   ],
   "window_display": false
  }
 },
 "nbformat": 4,
 "nbformat_minor": 2
}
